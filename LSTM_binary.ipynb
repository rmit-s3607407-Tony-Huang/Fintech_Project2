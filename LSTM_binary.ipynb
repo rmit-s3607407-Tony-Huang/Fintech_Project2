{
 "cells": [
  {
   "cell_type": "code",
   "execution_count": 1,
   "id": "397ffafc",
   "metadata": {},
   "outputs": [
    {
     "name": "stderr",
     "output_type": "stream",
     "text": [
      "\n",
      "Bad key savefig.frameon in file C:\\Users\\sator\\anaconda3\\envs\\pyvizenv\\lib\\site-packages\\matplotlib\\mpl-data\\stylelib\\_classic_test.mplstyle, line 421 ('savefig.frameon : True')\n",
      "You probably need to get an updated matplotlibrc file from\n",
      "https://github.com/matplotlib/matplotlib/blob/v3.3.4/matplotlibrc.template\n",
      "or from the matplotlib source distribution\n",
      "\n",
      "Bad key verbose.level in file C:\\Users\\sator\\anaconda3\\envs\\pyvizenv\\lib\\site-packages\\matplotlib\\mpl-data\\stylelib\\_classic_test.mplstyle, line 472 ('verbose.level  : silent      # one of silent, helpful, debug, debug-annoying')\n",
      "You probably need to get an updated matplotlibrc file from\n",
      "https://github.com/matplotlib/matplotlib/blob/v3.3.4/matplotlibrc.template\n",
      "or from the matplotlib source distribution\n",
      "\n",
      "Bad key verbose.fileo in file C:\\Users\\sator\\anaconda3\\envs\\pyvizenv\\lib\\site-packages\\matplotlib\\mpl-data\\stylelib\\_classic_test.mplstyle, line 473 ('verbose.fileo  : sys.stdout  # a log filename, sys.stdout or sys.stderr')\n",
      "You probably need to get an updated matplotlibrc file from\n",
      "https://github.com/matplotlib/matplotlib/blob/v3.3.4/matplotlibrc.template\n",
      "or from the matplotlib source distribution\n",
      "In C:\\Users\\sator\\anaconda3\\envs\\pyvizenv\\lib\\site-packages\\matplotlib\\mpl-data\\stylelib\\_classic_test.mplstyle: \n",
      "The text.latex.preview rcparam was deprecated in Matplotlib 3.3 and will be removed two minor releases later.\n",
      "In C:\\Users\\sator\\anaconda3\\envs\\pyvizenv\\lib\\site-packages\\matplotlib\\mpl-data\\stylelib\\_classic_test.mplstyle: \n",
      "The mathtext.fallback_to_cm rcparam was deprecated in Matplotlib 3.3 and will be removed two minor releases later.\n",
      "In C:\\Users\\sator\\anaconda3\\envs\\pyvizenv\\lib\\site-packages\\matplotlib\\mpl-data\\stylelib\\_classic_test.mplstyle: Support for setting the 'mathtext.fallback_to_cm' rcParam is deprecated since 3.3 and will be removed two minor releases later; use 'mathtext.fallback : 'cm' instead.\n",
      "In C:\\Users\\sator\\anaconda3\\envs\\pyvizenv\\lib\\site-packages\\matplotlib\\mpl-data\\stylelib\\_classic_test.mplstyle: \n",
      "The validate_bool_maybe_none function was deprecated in Matplotlib 3.3 and will be removed two minor releases later.\n",
      "In C:\\Users\\sator\\anaconda3\\envs\\pyvizenv\\lib\\site-packages\\matplotlib\\mpl-data\\stylelib\\_classic_test.mplstyle: \n",
      "The savefig.jpeg_quality rcparam was deprecated in Matplotlib 3.3 and will be removed two minor releases later.\n",
      "In C:\\Users\\sator\\anaconda3\\envs\\pyvizenv\\lib\\site-packages\\matplotlib\\mpl-data\\stylelib\\_classic_test.mplstyle: \n",
      "The keymap.all_axes rcparam was deprecated in Matplotlib 3.3 and will be removed two minor releases later.\n",
      "In C:\\Users\\sator\\anaconda3\\envs\\pyvizenv\\lib\\site-packages\\matplotlib\\mpl-data\\stylelib\\_classic_test.mplstyle: \n",
      "The animation.avconv_path rcparam was deprecated in Matplotlib 3.3 and will be removed two minor releases later.\n",
      "In C:\\Users\\sator\\anaconda3\\envs\\pyvizenv\\lib\\site-packages\\matplotlib\\mpl-data\\stylelib\\_classic_test.mplstyle: \n",
      "The animation.avconv_args rcparam was deprecated in Matplotlib 3.3 and will be removed two minor releases later.\n"
     ]
    }
   ],
   "source": [
    "import pandas as pd\n",
    "import numpy as np\n",
    "import matplotlib.pyplot as plt\n",
    "from tensorflow.keras import Sequential\n",
    "from tensorflow.keras.layers import LSTM, Dense, Dropout\n",
    "from tensorflow.keras.callbacks import EarlyStopping\n",
    "from tensorflow.keras.utils import to_categorical\n",
    "from sklearn.metrics import classification_report\n",
    "%matplotlib inline"
   ]
  },
  {
   "cell_type": "code",
   "execution_count": 46,
   "id": "c206d661",
   "metadata": {},
   "outputs": [],
   "source": [
    "combined_df = pd.read_csv('combined_binary_df.csv', index_col='date', infer_datetime_format=True, parse_dates=True)"
   ]
  },
  {
   "cell_type": "code",
   "execution_count": 47,
   "id": "3a9316c1",
   "metadata": {},
   "outputs": [],
   "source": [
    "X = combined_df.drop(columns = 'class')\n",
    "y = combined_df['class'].to_frame()\n",
    "# standardize X values\n",
    "X = (X - X.mean())/X.std()"
   ]
  },
  {
   "cell_type": "code",
   "execution_count": 48,
   "id": "98aa2d63",
   "metadata": {},
   "outputs": [],
   "source": [
    "# define functions to change dataframe to array\n",
    "def target(df, column, steps):\n",
    "    target = []\n",
    "    for i in range(len(df) - steps):\n",
    "        t = df.iloc[i + steps - 1, column]\n",
    "        target.append(t)\n",
    "    return np.array(target).reshape(-1, 1)\n",
    "\n",
    "def features(df, columns, steps):\n",
    "    features = []\n",
    "    for c in range(len(columns)):\n",
    "        feature = []\n",
    "        for i in range(len(df) - steps):\n",
    "            f = list(df.iloc[i : i + steps, columns[c]])\n",
    "            feature.append(f)\n",
    "        features.append(feature)\n",
    "    return np.array(features).T"
   ]
  },
  {
   "cell_type": "code",
   "execution_count": 49,
   "id": "825dc7c9",
   "metadata": {},
   "outputs": [],
   "source": [
    "X = features(X, list(range(8)), 10)\n",
    "y = target(y, 0, 10)"
   ]
  },
  {
   "cell_type": "code",
   "execution_count": 50,
   "id": "99ffbd73",
   "metadata": {},
   "outputs": [
    {
     "data": {
      "text/plain": [
       "(10, 1440, 8)"
      ]
     },
     "execution_count": 50,
     "metadata": {},
     "output_type": "execute_result"
    }
   ],
   "source": [
    "X.shape"
   ]
  },
  {
   "cell_type": "code",
   "execution_count": 51,
   "id": "c3dfd7a9",
   "metadata": {},
   "outputs": [
    {
     "data": {
      "text/plain": [
       "(1440, 1)"
      ]
     },
     "execution_count": 51,
     "metadata": {},
     "output_type": "execute_result"
    }
   ],
   "source": [
    "y.shape"
   ]
  },
  {
   "cell_type": "code",
   "execution_count": 52,
   "id": "9dce8cd9",
   "metadata": {},
   "outputs": [],
   "source": [
    "X = X.reshape(1440, 10, 8)"
   ]
  },
  {
   "cell_type": "code",
   "execution_count": 53,
   "id": "d98e4753",
   "metadata": {},
   "outputs": [],
   "source": [
    "tt_split = int(len(X) * 0.8)\n",
    "X_train = X[: tt_split]\n",
    "X_test = X[tt_split :]\n",
    "y_train = y[: tt_split]\n",
    "y_test = y[tt_split :]"
   ]
  },
  {
   "cell_type": "code",
   "execution_count": 54,
   "id": "f6fbafca",
   "metadata": {},
   "outputs": [],
   "source": [
    "# one-hot-encode y values\n",
    "y_train = to_categorical(y_train, num_classes=2)\n",
    "y_test = to_categorical(y_test, num_classes=2)"
   ]
  },
  {
   "cell_type": "code",
   "execution_count": 79,
   "id": "7110bfe0",
   "metadata": {},
   "outputs": [],
   "source": [
    "model = Sequential()\n",
    "neurons = 30\n",
    "model.add(LSTM(units=neurons, return_sequences=True, input_shape=(X.shape[1], 8)))\n",
    "model.add(Dropout(0.2))\n",
    "model.add(LSTM(units=neurons))\n",
    "model.add(Dropout(0.2))\n",
    "model.add(Dense(2, activation='sigmoid'))"
   ]
  },
  {
   "cell_type": "code",
   "execution_count": 80,
   "id": "7af9ee06",
   "metadata": {},
   "outputs": [],
   "source": [
    "model.compile(loss='binary_crossentropy', optimizer='adam', metrics=['accuracy'])"
   ]
  },
  {
   "cell_type": "code",
   "execution_count": 81,
   "id": "db66a773",
   "metadata": {},
   "outputs": [
    {
     "name": "stdout",
     "output_type": "stream",
     "text": [
      "Model: \"sequential_5\"\n",
      "_________________________________________________________________\n",
      " Layer (type)                Output Shape              Param #   \n",
      "=================================================================\n",
      " lstm_11 (LSTM)              (None, 10, 30)            4680      \n",
      "                                                                 \n",
      " dropout_11 (Dropout)        (None, 10, 30)            0         \n",
      "                                                                 \n",
      " lstm_12 (LSTM)              (None, 30)                7320      \n",
      "                                                                 \n",
      " dropout_12 (Dropout)        (None, 30)                0         \n",
      "                                                                 \n",
      " dense_5 (Dense)             (None, 2)                 62        \n",
      "                                                                 \n",
      "=================================================================\n",
      "Total params: 12,062\n",
      "Trainable params: 12,062\n",
      "Non-trainable params: 0\n",
      "_________________________________________________________________\n"
     ]
    }
   ],
   "source": [
    "model.summary()"
   ]
  },
  {
   "cell_type": "code",
   "execution_count": 82,
   "id": "03e0b824",
   "metadata": {},
   "outputs": [],
   "source": [
    "# define earliystopping\n",
    "stop = EarlyStopping(monitor='accuracy', mode='min', patience=10, verbose=1)"
   ]
  },
  {
   "cell_type": "code",
   "execution_count": 83,
   "id": "6acbd423",
   "metadata": {},
   "outputs": [
    {
     "name": "stdout",
     "output_type": "stream",
     "text": [
      "Epoch 1/100\n",
      "231/231 [==============================] - 3s 5ms/step - loss: 0.6953 - accuracy: 0.5052\n",
      "Epoch 2/100\n",
      "231/231 [==============================] - 1s 4ms/step - loss: 0.6936 - accuracy: 0.5269\n",
      "Epoch 3/100\n",
      "231/231 [==============================] - 1s 4ms/step - loss: 0.6925 - accuracy: 0.5139\n",
      "Epoch 4/100\n",
      "231/231 [==============================] - 1s 5ms/step - loss: 0.6902 - accuracy: 0.5278\n",
      "Epoch 5/100\n",
      "231/231 [==============================] - 1s 5ms/step - loss: 0.6908 - accuracy: 0.5252\n",
      "Epoch 6/100\n",
      "231/231 [==============================] - 1s 4ms/step - loss: 0.6889 - accuracy: 0.5295\n",
      "Epoch 7/100\n",
      "231/231 [==============================] - 1s 5ms/step - loss: 0.6857 - accuracy: 0.5451\n",
      "Epoch 8/100\n",
      "231/231 [==============================] - 1s 5ms/step - loss: 0.6838 - accuracy: 0.5556\n",
      "Epoch 9/100\n",
      "231/231 [==============================] - 1s 5ms/step - loss: 0.6821 - accuracy: 0.5660\n",
      "Epoch 10/100\n",
      "231/231 [==============================] - 1s 5ms/step - loss: 0.6781 - accuracy: 0.5720\n",
      "Epoch 11/100\n",
      "231/231 [==============================] - 1s 4ms/step - loss: 0.6775 - accuracy: 0.5729\n",
      "Epoch 00011: early stopping\n"
     ]
    },
    {
     "data": {
      "text/plain": [
       "<keras.callbacks.History at 0x1be45907548>"
      ]
     },
     "execution_count": 83,
     "metadata": {},
     "output_type": "execute_result"
    }
   ],
   "source": [
    "model.fit(X_train, y_train, epochs=100, batch_size=5, verbose=1, shuffle=False, callbacks=[stop])"
   ]
  },
  {
   "cell_type": "code",
   "execution_count": 84,
   "id": "baa1ec43",
   "metadata": {},
   "outputs": [
    {
     "name": "stdout",
     "output_type": "stream",
     "text": [
      "9/9 [==============================] - 1s 3ms/step - loss: 0.7094 - accuracy: 0.4861\n",
      "0.49 accuracy\n"
     ]
    }
   ],
   "source": [
    "score = model.evaluate(X_test, y_test)[1]\n",
    "print(\"%0.2f accuracy\" % (score))"
   ]
  },
  {
   "cell_type": "code",
   "execution_count": 20,
   "id": "91ae9d03",
   "metadata": {},
   "outputs": [],
   "source": []
  },
  {
   "cell_type": "code",
   "execution_count": null,
   "id": "07927316",
   "metadata": {},
   "outputs": [],
   "source": []
  }
 ],
 "metadata": {
  "kernelspec": {
   "display_name": "Python [conda env:pyvizenv] *",
   "language": "python",
   "name": "conda-env-pyvizenv-py"
  },
  "language_info": {
   "codemirror_mode": {
    "name": "ipython",
    "version": 3
   },
   "file_extension": ".py",
   "mimetype": "text/x-python",
   "name": "python",
   "nbconvert_exporter": "python",
   "pygments_lexer": "ipython3",
   "version": "3.7.10"
  }
 },
 "nbformat": 4,
 "nbformat_minor": 5
}
