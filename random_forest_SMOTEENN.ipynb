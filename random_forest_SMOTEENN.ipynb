{
 "cells": [
  {
   "cell_type": "code",
   "execution_count": 6,
   "id": "291e54cb",
   "metadata": {},
   "outputs": [],
   "source": [
    "import pandas as pd\n",
    "import numpy as np\n",
    "import matplotlib.pyplot as plt\n",
    "from sklearn.ensemble import RandomForestClassifier\n",
    "from sklearn.model_selection import GridSearchCV\n",
    "from sklearn.model_selection import train_test_split\n",
    "from sklearn.metrics import classification_report\n",
    "from collections import Counter \n",
    "%matplotlib inline"
   ]
  },
  {
   "cell_type": "code",
   "execution_count": 2,
   "id": "5dbd03b7",
   "metadata": {},
   "outputs": [],
   "source": [
    "combined_df = pd.read_csv('combined_df.csv', index_col='date', infer_datetime_format=True, parse_dates=True)"
   ]
  },
  {
   "cell_type": "code",
   "execution_count": 3,
   "id": "353128ab",
   "metadata": {},
   "outputs": [],
   "source": [
    "X = combined_df.drop(columns = 'class')\n",
    "y = combined_df['class']"
   ]
  },
  {
   "cell_type": "code",
   "execution_count": 4,
   "id": "208d00b7",
   "metadata": {},
   "outputs": [],
   "source": [
    "X_train, X_test, y_train, y_test = train_test_split(X, y, test_size=0.2, random_state=1)"
   ]
  },
  {
   "cell_type": "code",
   "execution_count": 7,
   "id": "61fce229",
   "metadata": {},
   "outputs": [
    {
     "data": {
      "text/plain": [
       "Counter({-1: 437, 0: 330, 1: 528})"
      ]
     },
     "execution_count": 7,
     "metadata": {},
     "output_type": "execute_result"
    }
   ],
   "source": [
    "# resample the training data with SMOTEENN\n",
    "from imblearn.combine import SMOTEENN\n",
    "X_resampled, y_resampled = SMOTEENN(random_state=1).fit_resample(X_train, y_train)\n",
    "# view the count of target classes with Counter\n",
    "Counter(y_resampled)"
   ]
  },
  {
   "cell_type": "code",
   "execution_count": 8,
   "id": "3b4cead3",
   "metadata": {},
   "outputs": [],
   "source": [
    "# set parameters to compare\n",
    "search_params = {\n",
    "    'n_estimators': [5, 10, 20, 30, 50, 100, 300],\n",
    "    'max_features': [i for i in range(1,X_train.shape[1])],\n",
    "    'random_state': [1],\n",
    "    'n_jobs': [1],\n",
    "    'min_samples_split': [3, 5, 10, 15, 20, 25, 30, 40, 50, 100],\n",
    "    'max_depth': [3, 5, 10, 15, 20, 25, 30, 40, 50, 100]\n",
    "}"
   ]
  },
  {
   "cell_type": "code",
   "execution_count": 9,
   "id": "9bf9492f",
   "metadata": {},
   "outputs": [],
   "source": [
    "# define gridsearch\n",
    "gsc = GridSearchCV(\n",
    "    RandomForestClassifier(),\n",
    "    search_params,\n",
    "    cv = 3,\n",
    "    n_jobs = -1,\n",
    "    verbose=True)"
   ]
  },
  {
   "cell_type": "code",
   "execution_count": 16,
   "id": "4a67c031",
   "metadata": {},
   "outputs": [
    {
     "name": "stdout",
     "output_type": "stream",
     "text": [
      "Fitting 3 folds for each of 4900 candidates, totalling 14700 fits\n"
     ]
    },
    {
     "data": {
      "text/plain": [
       "GridSearchCV(cv=3, estimator=RandomForestClassifier(), n_jobs=-1,\n",
       "             param_grid={'max_depth': [3, 5, 10, 15, 20, 25, 30, 40, 50, 100],\n",
       "                         'max_features': [1, 2, 3, 4, 5, 6, 7],\n",
       "                         'min_samples_split': [3, 5, 10, 15, 20, 25, 30, 40, 50,\n",
       "                                               100],\n",
       "                         'n_estimators': [5, 10, 20, 30, 50, 100, 300],\n",
       "                         'n_jobs': [1], 'random_state': [1]},\n",
       "             verbose=True)"
      ]
     },
     "execution_count": 16,
     "metadata": {},
     "output_type": "execute_result"
    }
   ],
   "source": [
    "gsc.fit(X_resampled, y_resampled)"
   ]
  },
  {
   "cell_type": "code",
   "execution_count": 17,
   "id": "ed61f226",
   "metadata": {},
   "outputs": [
    {
     "data": {
      "text/plain": [
       "RandomForestClassifier(max_depth=15, max_features=2, min_samples_split=3,\n",
       "                       n_estimators=50, n_jobs=1, random_state=1)"
      ]
     },
     "execution_count": 17,
     "metadata": {},
     "output_type": "execute_result"
    }
   ],
   "source": [
    "# show best parameters\n",
    "gsc.best_estimator_"
   ]
  },
  {
   "cell_type": "code",
   "execution_count": 18,
   "id": "fb7e0bf6",
   "metadata": {},
   "outputs": [
    {
     "name": "stdout",
     "output_type": "stream",
     "text": [
      "0.82 accuracy\n"
     ]
    }
   ],
   "source": [
    "# show score\n",
    "score = gsc.best_estimator_.score(X_test, y_test)\n",
    "print(\"%0.2f accuracy\" % (score))"
   ]
  },
  {
   "cell_type": "code",
   "execution_count": 19,
   "id": "bf2cac3a",
   "metadata": {},
   "outputs": [],
   "source": [
    "predicted = gsc.best_estimator_.predict(X_test)"
   ]
  },
  {
   "cell_type": "code",
   "execution_count": 21,
   "id": "17cb315c",
   "metadata": {},
   "outputs": [
    {
     "data": {
      "text/plain": [
       "'              precision    recall  f1-score   support\\n\\n          -1       0.12      0.40      0.19         5\\n           0       0.97      0.84      0.90       277\\n           1       0.09      0.38      0.14         8\\n\\n    accuracy                           0.82       290\\n   macro avg       0.40      0.54      0.41       290\\nweighted avg       0.94      0.82      0.87       290\\n'"
      ]
     },
     "execution_count": 21,
     "metadata": {},
     "output_type": "execute_result"
    }
   ],
   "source": [
    "classification_report(y_test, predicted)"
   ]
  },
  {
   "cell_type": "code",
   "execution_count": null,
   "id": "b4ce97c5",
   "metadata": {},
   "outputs": [],
   "source": []
  }
 ],
 "metadata": {
  "kernelspec": {
   "display_name": "Python [conda env:pyvizenv] *",
   "language": "python",
   "name": "conda-env-pyvizenv-py"
  },
  "language_info": {
   "codemirror_mode": {
    "name": "ipython",
    "version": 3
   },
   "file_extension": ".py",
   "mimetype": "text/x-python",
   "name": "python",
   "nbconvert_exporter": "python",
   "pygments_lexer": "ipython3",
   "version": "3.7.10"
  }
 },
 "nbformat": 4,
 "nbformat_minor": 5
}
