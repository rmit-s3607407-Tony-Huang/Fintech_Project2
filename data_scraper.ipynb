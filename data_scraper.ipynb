{
 "cells": [
  {
   "cell_type": "markdown",
   "metadata": {
    "id": "eRHTV5AO4_Yk"
   },
   "source": [
    "**Imports and library downloads**"
   ]
  },
  {
   "cell_type": "code",
   "execution_count": 1,
   "metadata": {
    "id": "J__giN9h03ji"
   },
   "outputs": [
    {
     "name": "stdout",
     "output_type": "stream",
     "text": [
      "Requirement already satisfied: pytrends in c:\\users\\tony\\anaconda3\\lib\\site-packages (4.7.3)\n",
      "Requirement already satisfied: pandas>=0.25 in c:\\users\\tony\\anaconda3\\lib\\site-packages (from pytrends) (1.3.3)\n",
      "Requirement already satisfied: lxml in c:\\users\\tony\\anaconda3\\lib\\site-packages (from pytrends) (4.6.3)\n",
      "Requirement already satisfied: requests in c:\\users\\tony\\anaconda3\\lib\\site-packages (from pytrends) (2.21.0)\n",
      "Requirement already satisfied: pytz>=2017.3 in c:\\users\\tony\\anaconda3\\lib\\site-packages (from pandas>=0.25->pytrends) (2021.3)\n",
      "Requirement already satisfied: python-dateutil>=2.7.3 in c:\\users\\tony\\anaconda3\\lib\\site-packages (from pandas>=0.25->pytrends) (2.8.2)\n",
      "Requirement already satisfied: numpy>=1.17.3 in c:\\users\\tony\\anaconda3\\lib\\site-packages (from pandas>=0.25->pytrends) (1.20.3)\n",
      "Requirement already satisfied: six>=1.5 in c:\\users\\tony\\anaconda3\\lib\\site-packages (from python-dateutil>=2.7.3->pandas>=0.25->pytrends) (1.16.0)\n",
      "Requirement already satisfied: chardet<3.1.0,>=3.0.2 in c:\\users\\tony\\anaconda3\\lib\\site-packages (from requests->pytrends) (3.0.4)\n",
      "Requirement already satisfied: idna<2.9,>=2.5 in c:\\users\\tony\\anaconda3\\lib\\site-packages (from requests->pytrends) (2.8)\n",
      "Requirement already satisfied: urllib3<1.25,>=1.21.1 in c:\\users\\tony\\anaconda3\\lib\\site-packages (from requests->pytrends) (1.24.3)\n",
      "Requirement already satisfied: certifi>=2017.4.17 in c:\\users\\tony\\anaconda3\\lib\\site-packages (from requests->pytrends) (2021.10.8)\n",
      "Requirement already satisfied: python-dotenv in c:\\users\\tony\\anaconda3\\lib\\site-packages (0.19.0)\n",
      "Requirement already satisfied: newsapi-python in c:\\users\\tony\\anaconda3\\lib\\site-packages (0.2.5)\n",
      "Requirement already satisfied: requests==2.21.0 in c:\\users\\tony\\anaconda3\\lib\\site-packages (from newsapi-python) (2.21.0)\n",
      "Requirement already satisfied: idna<2.9,>=2.5 in c:\\users\\tony\\anaconda3\\lib\\site-packages (from requests==2.21.0->newsapi-python) (2.8)\n",
      "Requirement already satisfied: certifi>=2017.4.17 in c:\\users\\tony\\anaconda3\\lib\\site-packages (from requests==2.21.0->newsapi-python) (2021.10.8)\n",
      "Requirement already satisfied: chardet<3.1.0,>=3.0.2 in c:\\users\\tony\\anaconda3\\lib\\site-packages (from requests==2.21.0->newsapi-python) (3.0.4)\n",
      "Requirement already satisfied: urllib3<1.25,>=1.21.1 in c:\\users\\tony\\anaconda3\\lib\\site-packages (from requests==2.21.0->newsapi-python) (1.24.3)\n",
      "Requirement already satisfied: GoogleNews in c:\\users\\tony\\anaconda3\\lib\\site-packages (1.5.9)\n",
      "Requirement already satisfied: python-dateutil in c:\\users\\tony\\anaconda3\\lib\\site-packages (from GoogleNews) (2.8.2)\n",
      "Requirement already satisfied: beautifulsoup4 in c:\\users\\tony\\anaconda3\\lib\\site-packages (from GoogleNews) (4.10.0)\n",
      "Requirement already satisfied: dateparser in c:\\users\\tony\\anaconda3\\lib\\site-packages (from GoogleNews) (1.1.0)\n",
      "Requirement already satisfied: soupsieve>1.2 in c:\\users\\tony\\anaconda3\\lib\\site-packages (from beautifulsoup4->GoogleNews) (2.2.1)\n",
      "Requirement already satisfied: pytz in c:\\users\\tony\\anaconda3\\lib\\site-packages (from dateparser->GoogleNews) (2021.3)\n",
      "Requirement already satisfied: tzlocal in c:\\users\\tony\\anaconda3\\lib\\site-packages (from dateparser->GoogleNews) (4.1)\n",
      "Requirement already satisfied: regex!=2019.02.19,!=2021.8.27 in c:\\users\\tony\\anaconda3\\lib\\site-packages (from dateparser->GoogleNews) (2021.8.3)\n",
      "Requirement already satisfied: six>=1.5 in c:\\users\\tony\\anaconda3\\lib\\site-packages (from python-dateutil->GoogleNews) (1.16.0)\n",
      "Requirement already satisfied: tzdata in c:\\users\\tony\\anaconda3\\lib\\site-packages (from tzlocal->dateparser->GoogleNews) (2021.5)\n",
      "Requirement already satisfied: pytz-deprecation-shim in c:\\users\\tony\\anaconda3\\lib\\site-packages (from tzlocal->dateparser->GoogleNews) (0.1.0.post0)\n",
      "Requirement already satisfied: backports.zoneinfo in c:\\users\\tony\\anaconda3\\lib\\site-packages (from tzlocal->dateparser->GoogleNews) (0.2.1)\n",
      "Requirement already satisfied: newspaper3k in c:\\users\\tony\\anaconda3\\lib\\site-packages (0.2.8)\n",
      "Requirement already satisfied: Pillow>=3.3.0 in c:\\users\\tony\\anaconda3\\lib\\site-packages (from newspaper3k) (8.4.0)\n",
      "Requirement already satisfied: jieba3k>=0.35.1 in c:\\users\\tony\\anaconda3\\lib\\site-packages (from newspaper3k) (0.35.1)\n",
      "Requirement already satisfied: PyYAML>=3.11 in c:\\users\\tony\\anaconda3\\lib\\site-packages (from newspaper3k) (5.4.1)\n",
      "Requirement already satisfied: feedparser>=5.2.1 in c:\\users\\tony\\anaconda3\\lib\\site-packages (from newspaper3k) (6.0.8)\n",
      "Requirement already satisfied: python-dateutil>=2.5.3 in c:\\users\\tony\\anaconda3\\lib\\site-packages (from newspaper3k) (2.8.2)\n",
      "Requirement already satisfied: cssselect>=0.9.2 in c:\\users\\tony\\anaconda3\\lib\\site-packages (from newspaper3k) (1.1.0)\n",
      "Requirement already satisfied: feedfinder2>=0.0.4 in c:\\users\\tony\\anaconda3\\lib\\site-packages (from newspaper3k) (0.0.4)\n",
      "Requirement already satisfied: lxml>=3.6.0 in c:\\users\\tony\\anaconda3\\lib\\site-packages (from newspaper3k) (4.6.3)\n",
      "Requirement already satisfied: requests>=2.10.0 in c:\\users\\tony\\anaconda3\\lib\\site-packages (from newspaper3k) (2.21.0)\n",
      "Requirement already satisfied: beautifulsoup4>=4.4.1 in c:\\users\\tony\\anaconda3\\lib\\site-packages (from newspaper3k) (4.10.0)\n",
      "Requirement already satisfied: tinysegmenter==0.3 in c:\\users\\tony\\anaconda3\\lib\\site-packages (from newspaper3k) (0.3)\n",
      "Requirement already satisfied: nltk>=3.2.1 in c:\\users\\tony\\anaconda3\\lib\\site-packages (from newspaper3k) (3.6.5)\n",
      "Requirement already satisfied: tldextract>=2.0.1 in c:\\users\\tony\\anaconda3\\lib\\site-packages (from newspaper3k) (3.1.2)\n",
      "Requirement already satisfied: soupsieve>1.2 in c:\\users\\tony\\anaconda3\\lib\\site-packages (from beautifulsoup4>=4.4.1->newspaper3k) (2.2.1)\n",
      "Requirement already satisfied: six in c:\\users\\tony\\anaconda3\\lib\\site-packages (from feedfinder2>=0.0.4->newspaper3k) (1.16.0)\n",
      "Requirement already satisfied: sgmllib3k in c:\\users\\tony\\anaconda3\\lib\\site-packages (from feedparser>=5.2.1->newspaper3k) (1.0.0)\n",
      "Requirement already satisfied: click in c:\\users\\tony\\anaconda3\\lib\\site-packages (from nltk>=3.2.1->newspaper3k) (8.0.3)\n",
      "Requirement already satisfied: joblib in c:\\users\\tony\\anaconda3\\lib\\site-packages (from nltk>=3.2.1->newspaper3k) (1.0.1)\n",
      "Requirement already satisfied: regex>=2021.8.3 in c:\\users\\tony\\anaconda3\\lib\\site-packages (from nltk>=3.2.1->newspaper3k) (2021.8.3)\n",
      "Requirement already satisfied: tqdm in c:\\users\\tony\\anaconda3\\lib\\site-packages (from nltk>=3.2.1->newspaper3k) (4.62.3)\n",
      "Requirement already satisfied: urllib3<1.25,>=1.21.1 in c:\\users\\tony\\anaconda3\\lib\\site-packages (from requests>=2.10.0->newspaper3k) (1.24.3)\n",
      "Requirement already satisfied: chardet<3.1.0,>=3.0.2 in c:\\users\\tony\\anaconda3\\lib\\site-packages (from requests>=2.10.0->newspaper3k) (3.0.4)\n",
      "Requirement already satisfied: idna<2.9,>=2.5 in c:\\users\\tony\\anaconda3\\lib\\site-packages (from requests>=2.10.0->newspaper3k) (2.8)\n",
      "Requirement already satisfied: certifi>=2017.4.17 in c:\\users\\tony\\anaconda3\\lib\\site-packages (from requests>=2.10.0->newspaper3k) (2021.10.8)\n",
      "Requirement already satisfied: requests-file>=1.4 in c:\\users\\tony\\anaconda3\\lib\\site-packages (from tldextract>=2.0.1->newspaper3k) (1.5.1)\n",
      "Requirement already satisfied: filelock>=3.0.8 in c:\\users\\tony\\anaconda3\\lib\\site-packages (from tldextract>=2.0.1->newspaper3k) (3.0.12)\n",
      "Requirement already satisfied: colorama in c:\\users\\tony\\anaconda3\\lib\\site-packages (from click->nltk>=3.2.1->newspaper3k) (0.4.4)\n"
     ]
    }
   ],
   "source": [
    "# https://hackernoon.com/how-to-use-google-trends-api-with-python\n",
    "!pip install pytrends\n",
    "!pip install python-dotenv\n",
    "!pip install newsapi-python\n",
    "!pip install GoogleNews\n",
    "!pip install newspaper3k"
   ]
  },
  {
   "cell_type": "code",
   "execution_count": 2,
   "metadata": {
    "colab": {
     "base_uri": "https://localhost:8080/"
    },
    "id": "O_EO0Zid1bCq",
    "outputId": "61e04a38-8d44-44bf-c15d-0cc044f178a5"
   },
   "outputs": [
    {
     "name": "stderr",
     "output_type": "stream",
     "text": [
      "[nltk_data] Downloading package vader_lexicon to\n",
      "[nltk_data]     C:\\Users\\Tony\\AppData\\Roaming\\nltk_data...\n",
      "[nltk_data]   Package vader_lexicon is already up-to-date!\n"
     ]
    }
   ],
   "source": [
    "import pandas as pd\n",
    "import requests\n",
    "import json \n",
    "import pandas as pd\n",
    "import datetime as dt\n",
    "from dotenv import load_dotenv\n",
    "import nltk as nltk\n",
    "from nltk.sentiment.vader import SentimentIntensityAnalyzer\n",
    "from dotenv import load_dotenv\n",
    "from newsapi import NewsApiClient\n",
    "nltk.download('vader_lexicon')\n",
    "analyzer = SentimentIntensityAnalyzer()\n",
    "from GoogleNews import GoogleNews\n",
    "from newspaper import Article\n",
    "import pandas as pd\n",
    "import matplotlib.pyplot as plt        \n",
    "from pytrends.request import TrendReq\n",
    "import time\n",
    "pytrend = TrendReq(hl='en-US', tz=360) "
   ]
  },
  {
   "cell_type": "markdown",
   "metadata": {
    "id": "ZBLLZt2r5JGU"
   },
   "source": [
    "## Gathering data for analysis\n",
    "In this section, we use binance api to gather daily candlestick data for bitcoin from 2017 onwards\n",
    "\n",
    "Reference :https://quantnomad.com/2020/11/19/\n",
    "running-a-massive-backtest-on-1m-bars-in-python-with-backtrader/"
   ]
  },
  {
   "cell_type": "code",
   "execution_count": 3,
   "metadata": {
    "id": "aSx7gHZb5MjT"
   },
   "outputs": [],
   "source": [
    "def get_binance_bars(symbol, interval, startTime, endTime):\n",
    " \n",
    "    url = \"https://api.binance.com/api/v3/klines\"\n",
    " \n",
    "    startTime = str(int(startTime.timestamp() * 1000))\n",
    "    endTime = str(int(endTime.timestamp() * 1000))\n",
    "    limit = '1000'\n",
    " \n",
    "    req_params = {\"symbol\" : symbol, 'interval' : interval, 'startTime' : startTime, 'endTime' : endTime, 'limit' : limit}\n",
    " \n",
    "    df = pd.DataFrame(json.loads(requests.get(url, params = req_params).text))\n",
    " \n",
    "    if (len(df.index) == 0):\n",
    "        return None\n",
    "     \n",
    "    df = df.iloc[:, 0:6]\n",
    "    df.columns = ['datetime', 'open', 'high', 'low', 'close', 'volume']\n",
    " \n",
    "    df.open      = df.open.astype(\"float\")\n",
    "    df.high      = df.high.astype(\"float\")\n",
    "    df.low       = df.low.astype(\"float\")\n",
    "    df.close     = df.close.astype(\"float\")\n",
    "    df.volume    = df.volume.astype(\"float\")\n",
    "    \n",
    "    df.index = [dt.datetime.fromtimestamp(x / 1000.0) for x in df.datetime]\n",
    "    df.datetime = df.datetime/1000\n",
    "    return df"
   ]
  },
  {
   "cell_type": "code",
   "execution_count": 5,
   "metadata": {
    "id": "0x_tDE3U6Sdr"
   },
   "outputs": [],
   "source": [
    "def get_ohlcv_dataframe(symbol):\n",
    "    df_list = []\n",
    "    last_datetime = dt.datetime(2017, 1, 1)\n",
    "    while True:\n",
    "        new_df = get_binance_bars(symbol, '1d', last_datetime, dt.datetime.now())\n",
    "        if new_df is None:\n",
    "            break\n",
    "        df_list.append(new_df)\n",
    "        last_datetime = max(new_df.index) + dt.timedelta(0, 1)\n",
    "\n",
    "    df = pd.concat(df_list)\n",
    "    return df"
   ]
  },
  {
   "cell_type": "code",
   "execution_count": 6,
   "metadata": {
    "colab": {
     "base_uri": "https://localhost:8080/",
     "height": 206
    },
    "id": "DQCpwlDy5c1z",
    "outputId": "9024079d-7282-4247-e7ae-62326fcfca60"
   },
   "outputs": [
    {
     "data": {
      "text/html": [
       "<div>\n",
       "<style scoped>\n",
       "    .dataframe tbody tr th:only-of-type {\n",
       "        vertical-align: middle;\n",
       "    }\n",
       "\n",
       "    .dataframe tbody tr th {\n",
       "        vertical-align: top;\n",
       "    }\n",
       "\n",
       "    .dataframe thead th {\n",
       "        text-align: right;\n",
       "    }\n",
       "</style>\n",
       "<table border=\"1\" class=\"dataframe\">\n",
       "  <thead>\n",
       "    <tr style=\"text-align: right;\">\n",
       "      <th></th>\n",
       "      <th>datetime</th>\n",
       "      <th>open</th>\n",
       "      <th>high</th>\n",
       "      <th>low</th>\n",
       "      <th>close</th>\n",
       "      <th>volume</th>\n",
       "      <th>returns</th>\n",
       "    </tr>\n",
       "  </thead>\n",
       "  <tbody>\n",
       "    <tr>\n",
       "      <th>2017-08-18 10:00:00</th>\n",
       "      <td>1.503014e+09</td>\n",
       "      <td>4285.08</td>\n",
       "      <td>4371.52</td>\n",
       "      <td>3938.77</td>\n",
       "      <td>4108.37</td>\n",
       "      <td>1199.888264</td>\n",
       "      <td>-0.041238</td>\n",
       "    </tr>\n",
       "    <tr>\n",
       "      <th>2017-08-19 10:00:00</th>\n",
       "      <td>1.503101e+09</td>\n",
       "      <td>4108.37</td>\n",
       "      <td>4184.69</td>\n",
       "      <td>3850.00</td>\n",
       "      <td>4139.98</td>\n",
       "      <td>381.309763</td>\n",
       "      <td>0.007694</td>\n",
       "    </tr>\n",
       "    <tr>\n",
       "      <th>2017-08-20 10:00:00</th>\n",
       "      <td>1.503187e+09</td>\n",
       "      <td>4120.98</td>\n",
       "      <td>4211.08</td>\n",
       "      <td>4032.62</td>\n",
       "      <td>4086.29</td>\n",
       "      <td>467.083022</td>\n",
       "      <td>-0.012969</td>\n",
       "    </tr>\n",
       "    <tr>\n",
       "      <th>2017-08-21 10:00:00</th>\n",
       "      <td>1.503274e+09</td>\n",
       "      <td>4069.13</td>\n",
       "      <td>4119.62</td>\n",
       "      <td>3911.79</td>\n",
       "      <td>4016.00</td>\n",
       "      <td>691.743060</td>\n",
       "      <td>-0.017201</td>\n",
       "    </tr>\n",
       "    <tr>\n",
       "      <th>2017-08-22 10:00:00</th>\n",
       "      <td>1.503360e+09</td>\n",
       "      <td>4016.00</td>\n",
       "      <td>4104.82</td>\n",
       "      <td>3400.00</td>\n",
       "      <td>4040.00</td>\n",
       "      <td>966.684858</td>\n",
       "      <td>0.005976</td>\n",
       "    </tr>\n",
       "  </tbody>\n",
       "</table>\n",
       "</div>"
      ],
      "text/plain": [
       "                         datetime     open     high      low    close  \\\n",
       "2017-08-18 10:00:00  1.503014e+09  4285.08  4371.52  3938.77  4108.37   \n",
       "2017-08-19 10:00:00  1.503101e+09  4108.37  4184.69  3850.00  4139.98   \n",
       "2017-08-20 10:00:00  1.503187e+09  4120.98  4211.08  4032.62  4086.29   \n",
       "2017-08-21 10:00:00  1.503274e+09  4069.13  4119.62  3911.79  4016.00   \n",
       "2017-08-22 10:00:00  1.503360e+09  4016.00  4104.82  3400.00  4040.00   \n",
       "\n",
       "                          volume   returns  \n",
       "2017-08-18 10:00:00  1199.888264 -0.041238  \n",
       "2017-08-19 10:00:00   381.309763  0.007694  \n",
       "2017-08-20 10:00:00   467.083022 -0.012969  \n",
       "2017-08-21 10:00:00   691.743060 -0.017201  \n",
       "2017-08-22 10:00:00   966.684858  0.005976  "
      ]
     },
     "execution_count": 6,
     "metadata": {},
     "output_type": "execute_result"
    }
   ],
   "source": [
    "# Store the candlestick data into a dataframe\n",
    "\n",
    "bitcoin_df = get_ohlcv_dataframe('BTCUSDT')\n",
    "bitcoin_df['returns'] = bitcoin_df['close'].pct_change()\n",
    "bitcoin_df.dropna(inplace=True)\n",
    "bitcoin_df.head()"
   ]
  },
  {
   "cell_type": "code",
   "execution_count": 7,
   "metadata": {
    "id": "rgOMDxJ-YC7y"
   },
   "outputs": [
    {
     "data": {
      "text/html": [
       "<div>\n",
       "<style scoped>\n",
       "    .dataframe tbody tr th:only-of-type {\n",
       "        vertical-align: middle;\n",
       "    }\n",
       "\n",
       "    .dataframe tbody tr th {\n",
       "        vertical-align: top;\n",
       "    }\n",
       "\n",
       "    .dataframe thead th {\n",
       "        text-align: right;\n",
       "    }\n",
       "</style>\n",
       "<table border=\"1\" class=\"dataframe\">\n",
       "  <thead>\n",
       "    <tr style=\"text-align: right;\">\n",
       "      <th></th>\n",
       "      <th>datetime</th>\n",
       "      <th>open</th>\n",
       "      <th>high</th>\n",
       "      <th>low</th>\n",
       "      <th>close</th>\n",
       "      <th>volume</th>\n",
       "      <th>returns</th>\n",
       "      <th>class</th>\n",
       "    </tr>\n",
       "  </thead>\n",
       "  <tbody>\n",
       "    <tr>\n",
       "      <th>2017-08-18 10:00:00</th>\n",
       "      <td>1.503014e+09</td>\n",
       "      <td>4285.08</td>\n",
       "      <td>4371.52</td>\n",
       "      <td>3938.77</td>\n",
       "      <td>4108.37</td>\n",
       "      <td>1199.888264</td>\n",
       "      <td>-0.041238</td>\n",
       "      <td>0</td>\n",
       "    </tr>\n",
       "    <tr>\n",
       "      <th>2017-08-19 10:00:00</th>\n",
       "      <td>1.503101e+09</td>\n",
       "      <td>4108.37</td>\n",
       "      <td>4184.69</td>\n",
       "      <td>3850.00</td>\n",
       "      <td>4139.98</td>\n",
       "      <td>381.309763</td>\n",
       "      <td>0.007694</td>\n",
       "      <td>0</td>\n",
       "    </tr>\n",
       "    <tr>\n",
       "      <th>2017-08-20 10:00:00</th>\n",
       "      <td>1.503187e+09</td>\n",
       "      <td>4120.98</td>\n",
       "      <td>4211.08</td>\n",
       "      <td>4032.62</td>\n",
       "      <td>4086.29</td>\n",
       "      <td>467.083022</td>\n",
       "      <td>-0.012969</td>\n",
       "      <td>0</td>\n",
       "    </tr>\n",
       "    <tr>\n",
       "      <th>2017-08-21 10:00:00</th>\n",
       "      <td>1.503274e+09</td>\n",
       "      <td>4069.13</td>\n",
       "      <td>4119.62</td>\n",
       "      <td>3911.79</td>\n",
       "      <td>4016.00</td>\n",
       "      <td>691.743060</td>\n",
       "      <td>-0.017201</td>\n",
       "      <td>0</td>\n",
       "    </tr>\n",
       "    <tr>\n",
       "      <th>2017-08-22 10:00:00</th>\n",
       "      <td>1.503360e+09</td>\n",
       "      <td>4016.00</td>\n",
       "      <td>4104.82</td>\n",
       "      <td>3400.00</td>\n",
       "      <td>4040.00</td>\n",
       "      <td>966.684858</td>\n",
       "      <td>0.005976</td>\n",
       "      <td>0</td>\n",
       "    </tr>\n",
       "  </tbody>\n",
       "</table>\n",
       "</div>"
      ],
      "text/plain": [
       "                         datetime     open     high      low    close  \\\n",
       "2017-08-18 10:00:00  1.503014e+09  4285.08  4371.52  3938.77  4108.37   \n",
       "2017-08-19 10:00:00  1.503101e+09  4108.37  4184.69  3850.00  4139.98   \n",
       "2017-08-20 10:00:00  1.503187e+09  4120.98  4211.08  4032.62  4086.29   \n",
       "2017-08-21 10:00:00  1.503274e+09  4069.13  4119.62  3911.79  4016.00   \n",
       "2017-08-22 10:00:00  1.503360e+09  4016.00  4104.82  3400.00  4040.00   \n",
       "\n",
       "                          volume   returns  class  \n",
       "2017-08-18 10:00:00  1199.888264 -0.041238      0  \n",
       "2017-08-19 10:00:00   381.309763  0.007694      0  \n",
       "2017-08-20 10:00:00   467.083022 -0.012969      0  \n",
       "2017-08-21 10:00:00   691.743060 -0.017201      0  \n",
       "2017-08-22 10:00:00   966.684858  0.005976      0  "
      ]
     },
     "execution_count": 7,
     "metadata": {},
     "output_type": "execute_result"
    }
   ],
   "source": [
    "# Create a class series, which will be used as target for the machine learning models, we define daily price movement over 10% as 1, under 10% as -1 else 0\n",
    "\n",
    "bitcoin_df['class'] = 0\n",
    "bitcoin_df.loc[bitcoin_df['returns']>=0.1, 'class'] = 1\n",
    "bitcoin_df.loc[bitcoin_df['returns']<=-0.1, 'class'] = -1\n",
    "bitcoin_df.head()"
   ]
  },
  {
   "cell_type": "code",
   "execution_count": 11,
   "metadata": {
    "colab": {
     "base_uri": "https://localhost:8080/",
     "height": 284
    },
    "id": "SurMVQRHKNVm",
    "outputId": "0ace62b0-6055-4fcf-bd3a-f82ae2fd99e9"
   },
   "outputs": [
    {
     "data": {
      "text/plain": [
       "<AxesSubplot:>"
      ]
     },
     "execution_count": 11,
     "metadata": {},
     "output_type": "execute_result"
    },
    {
     "data": {
      "image/png": "[encoded data removed]",
      "text/plain": [
       "<Figure size 432x288 with 1 Axes>"
      ]
     },
     "metadata": {
      "needs_background": "light"
     },
     "output_type": "display_data"
    }
   ],
   "source": [
    "# Visualise the closing prices\n",
    "bitcoin_df['close'].plot()"
   ]
  },
  {
   "cell_type": "code",
   "execution_count": 12,
   "metadata": {
    "colab": {
     "base_uri": "https://localhost:8080/",
     "height": 282
    },
    "id": "ZvIyoDSmTBVZ",
    "outputId": "498c6a66-e796-468a-8b04-b6b9df51ca18"
   },
   "outputs": [
    {
     "data": {
      "text/plain": [
       "<AxesSubplot:>"
      ]
     },
     "execution_count": 12,
     "metadata": {},
     "output_type": "execute_result"
    },
    {
     "data": {
      "image/png": "[encoded data removed]",
      "text/plain": [
       "<Figure size 432x288 with 1 Axes>"
      ]
     },
     "metadata": {
      "needs_background": "light"
     },
     "output_type": "display_data"
    }
   ],
   "source": [
    "# Visualiose the daily returns\n",
    "bitcoin_df['returns'].plot()"
   ]
  },
  {
   "cell_type": "code",
   "execution_count": 13,
   "metadata": {},
   "outputs": [],
   "source": [
    "# Save the dataframe into a csv file\n",
    "bitcoin_df.to_csv('bitcoin_df.csv')"
   ]
  },
  {
   "cell_type": "code",
   "execution_count": 14,
   "metadata": {},
   "outputs": [
    {
     "data": {
      "text/plain": [
       "1565"
      ]
     },
     "execution_count": 14,
     "metadata": {},
     "output_type": "execute_result"
    }
   ],
   "source": [
    "len(bitcoin_df)"
   ]
  },
  {
   "cell_type": "markdown",
   "metadata": {
    "id": "PSSaPRQzZHPb"
   },
   "source": [
    "## Getting Daily Sentiment Using Google API\n",
    "\n",
    "In this section, we scrape the news from google news api on bitcoin and concatenate the news for each day in the bitcoin dataframe. We had some difficulties getting all the data at once because the api only gave 90 queries at a time, so we had to gather 16 smaller chunks of data and concatenate them for analysis.\n"
   ]
  },
  {
   "cell_type": "code",
   "execution_count": 89,
   "metadata": {
    "colab": {
     "base_uri": "https://localhost:8080/",
     "height": 53
    },
    "id": "iOg8iu_ILYdY",
    "outputId": "0c11e4a0-d741-4c10-97e2-57d8cc61f5ca"
   },
   "outputs": [
    {
     "data": {
      "text/plain": [
       "\"For many years, the business tycoon Warren Buffet has condemned bitcoin as an investment telling people that the crypto asset is nothing but gambling. Grayscale brings its total assets under management above $20 billion in time for the start of 2021 as Bitcoin demand intensifies. The Bitcoin market is still crazy, but a lot of people can't even find their Bitcoins. We go looking for lost billions. | Subscribe to our weekly newsletter... 2020 was a wild year, mostly because of COVID-19. It made us question how the world works, especially in terms of finance. Regular stocks lost value while... The Bitcoin market is still crazy, but a lot of people can't even find their Bitcoins. We go looking for lost billions. | Subscribe to our weekly newsletter... 2020 was unforgettable, especially for Bitcoin. To help memorialize this year for our readers, we asked our network of contributors to reflect on Bitcoin's... Bitcoin vaulted above $29,000 to reach yet another record level on the last day of 2020, showing no signs of slowing down its torrid December rally. Bitcoin has exited 2020 with a bang. Extending its recent run-away rally, the digital currency jumped to a fresh record high of $28,933 on Thursday. The Bitcoin price on Friday touched an all-time high at $28700, after surging from nearly half in just two weeks and almost quadrupled in value this year. MicroStrategy CEO Michael Saylor has invested billions in Bitcoin. Can we trust him—or the cryptocurrency's skyrocketing value?\""
      ]
     },
     "execution_count": 89,
     "metadata": {},
     "output_type": "execute_result"
    }
   ],
   "source": [
    "# This section of code was to test if the api was returning data. \n",
    "# It searches 'Bitcoin' on a certain day and concatenates all the results into a string to be stored in a dataframe\n",
    "\n",
    "googlenews=GoogleNews(start='01/01/2021',end='01/01/2021')\n",
    "googlenews.set_lang('en')\n",
    "googlenews.search('Bitcoin')\n",
    "result=googlenews.result()\n",
    "temp = []\n",
    "for i in range(len(result)):\n",
    "    temp.append(result[i]['desc'])\n",
    "temp2 = ' '.join(temp)\n",
    "temp2"
   ]
  },
  {
   "cell_type": "code",
   "execution_count": 91,
   "metadata": {
    "colab": {
     "base_uri": "https://localhost:8080/",
     "height": 641
    },
    "id": "2x1FSM99LYho",
    "outputId": "cb621f35-d28d-4941-85c7-027985f1ebeb"
   },
   "outputs": [
    {
     "name": "stdout",
     "output_type": "stream",
     "text": [
      "HTTP Error 502: Bad Gateway\n"
     ]
    }
   ],
   "source": [
    "# This section of code loops the bitcoin dataframe and gets news for each date in that dataframe.\n",
    "# It applies sentiment analysis on the news for that day and gives a compound, positive, negative, neutral sentiment score.\n",
    "\n",
    "google_sentiment = []\n",
    "date_list = bitcoin_df.index.to_list()\n",
    "for date in date_list[713:803]:\n",
    "# for date in date_list:\n",
    "    try:\n",
    "        googlenews=GoogleNews(start = date.strftime('%m/%d/%Y'), end = date.strftime('%m/%d/%Y'))\n",
    "        googlenews.set_lang('en')\n",
    "        googlenews.search('Bitcoin')\n",
    "        result=googlenews.result()\n",
    "#         time.sleep(1)\n",
    "        temp = []\n",
    "        for i in range(len(result)):\n",
    "            temp.append(result[i]['desc'])\n",
    "        text = ' '.join(temp)\n",
    "        sentiment = analyzer.polarity_scores(text)\n",
    "        compound = sentiment[\"compound\"]\n",
    "        pos = sentiment[\"pos\"]\n",
    "        neu = sentiment[\"neu\"]\n",
    "        neg = sentiment[\"neg\"]\n",
    "\n",
    "        google_sentiment.append({\n",
    "            \"text\": text,\n",
    "            \"date\": date,\n",
    "            \"Google compound\": compound,\n",
    "            \"Google positive\": pos,\n",
    "            \"Google negative\": neg,\n",
    "            \"Google neutral\": neu\n",
    "\n",
    "        })\n",
    "\n",
    "    except AttributeError:\n",
    "        pass\n",
    "# google_sentiment"
   ]
  },
  {
   "cell_type": "code",
   "execution_count": 92,
   "metadata": {
    "colab": {
     "base_uri": "https://localhost:8080/",
     "height": 380
    },
    "id": "jh3apJZQLYlW",
    "outputId": "5d4eb0fb-c7ae-486a-966a-07c39c2c4251"
   },
   "outputs": [
    {
     "data": {
      "text/html": [
       "<div>\n",
       "<style scoped>\n",
       "    .dataframe tbody tr th:only-of-type {\n",
       "        vertical-align: middle;\n",
       "    }\n",
       "\n",
       "    .dataframe tbody tr th {\n",
       "        vertical-align: top;\n",
       "    }\n",
       "\n",
       "    .dataframe thead th {\n",
       "        text-align: right;\n",
       "    }\n",
       "</style>\n",
       "<table border=\"1\" class=\"dataframe\">\n",
       "  <thead>\n",
       "    <tr style=\"text-align: right;\">\n",
       "      <th></th>\n",
       "      <th>date</th>\n",
       "      <th>text</th>\n",
       "      <th>Google compound</th>\n",
       "      <th>Google positive</th>\n",
       "      <th>Google negative</th>\n",
       "      <th>Google neutral</th>\n",
       "    </tr>\n",
       "  </thead>\n",
       "  <tbody>\n",
       "    <tr>\n",
       "      <th>85</th>\n",
       "      <td>2019-10-25 11:00:00</td>\n",
       "      <td>This week, Bitcoin price broke down from a bea...</td>\n",
       "      <td>0.1986</td>\n",
       "      <td>0.063</td>\n",
       "      <td>0.066</td>\n",
       "      <td>0.872</td>\n",
       "    </tr>\n",
       "    <tr>\n",
       "      <th>86</th>\n",
       "      <td>2019-10-26 11:00:00</td>\n",
       "      <td>Yesterday, a powerful move in Bitcoin markets ...</td>\n",
       "      <td>0.0516</td>\n",
       "      <td>0.115</td>\n",
       "      <td>0.103</td>\n",
       "      <td>0.782</td>\n",
       "    </tr>\n",
       "    <tr>\n",
       "      <th>87</th>\n",
       "      <td>2019-10-27 11:00:00</td>\n",
       "      <td>Bitcoin price is trading in a steady uptrend a...</td>\n",
       "      <td>0.9917</td>\n",
       "      <td>0.183</td>\n",
       "      <td>0.021</td>\n",
       "      <td>0.796</td>\n",
       "    </tr>\n",
       "    <tr>\n",
       "      <th>88</th>\n",
       "      <td>2019-10-28 11:00:00</td>\n",
       "      <td>The Bitcoin pump heard 'round the world has th...</td>\n",
       "      <td>0.7496</td>\n",
       "      <td>0.079</td>\n",
       "      <td>0.070</td>\n",
       "      <td>0.851</td>\n",
       "    </tr>\n",
       "    <tr>\n",
       "      <th>89</th>\n",
       "      <td>2019-10-29 11:00:00</td>\n",
       "      <td>A massive new Bitcoin mining facility looks to...</td>\n",
       "      <td>-0.3599</td>\n",
       "      <td>0.091</td>\n",
       "      <td>0.093</td>\n",
       "      <td>0.816</td>\n",
       "    </tr>\n",
       "  </tbody>\n",
       "</table>\n",
       "</div>"
      ],
      "text/plain": [
       "                  date                                               text  \\\n",
       "85 2019-10-25 11:00:00  This week, Bitcoin price broke down from a bea...   \n",
       "86 2019-10-26 11:00:00  Yesterday, a powerful move in Bitcoin markets ...   \n",
       "87 2019-10-27 11:00:00  Bitcoin price is trading in a steady uptrend a...   \n",
       "88 2019-10-28 11:00:00  The Bitcoin pump heard 'round the world has th...   \n",
       "89 2019-10-29 11:00:00  A massive new Bitcoin mining facility looks to...   \n",
       "\n",
       "    Google compound  Google positive  Google negative  Google neutral  \n",
       "85           0.1986            0.063            0.066           0.872  \n",
       "86           0.0516            0.115            0.103           0.782  \n",
       "87           0.9917            0.183            0.021           0.796  \n",
       "88           0.7496            0.079            0.070           0.851  \n",
       "89          -0.3599            0.091            0.093           0.816  "
      ]
     },
     "execution_count": 92,
     "metadata": {},
     "output_type": "execute_result"
    }
   ],
   "source": [
    "# Store the results into a dataframe\n",
    "google_sentiment_df = pd.DataFrame(google_sentiment)\n",
    "\n",
    "# Reorder DataFrame columns\n",
    "cols = [\"date\", \"text\", \"Google compound\", \"Google positive\", \"Google negative\", \"Google neutral\"]\n",
    "google_sentiment_df = google_sentiment_df[cols]\n",
    "\n",
    "google_sentiment_df.tail()"
   ]
  },
  {
   "cell_type": "code",
   "execution_count": 93,
   "metadata": {},
   "outputs": [],
   "source": [
    "# Save the dataframe into a csv file\n",
    "\n",
    "google_sentiment_df.to_csv('google_sentiment_df_713_803.csv')\n",
    "# google_sentiment_df[:91].to_csv('google_sentiment_df_0_90.csv')\n",
    "# reddit_sentiments_df.to_csv('reddit_sentiments_df.csv')"
   ]
  },
  {
   "cell_type": "markdown",
   "metadata": {
    "id": "ZvzY1vTbZLVv"
   },
   "source": [
    "## Getting Daily Sentiment Using Reddit API\n",
    "Using the pushshift api, we can scrape the comments from reddit to gather sentiment around bitcoin"
   ]
  },
  {
   "cell_type": "code",
   "execution_count": 14,
   "metadata": {
    "id": "1xWxtG8JZN41"
   },
   "outputs": [],
   "source": [
    "def get_pushshift_data(data_type, **kwargs):\n",
    "    \"\"\"\n",
    "    Gets data from the pushshift api.\n",
    " \n",
    "    data_type can be 'comment' or 'submission'\n",
    "    The rest of the args are interpreted as payload.\n",
    " \n",
    "    Read more: https://github.com/pushshift/api\n",
    "    \"\"\"\n",
    " \n",
    "    base_url = f\"https://api.pushshift.io/reddit/search/{data_type}/\"\n",
    "    payload = kwargs\n",
    "    request = requests.get(base_url, params=payload)\n",
    "    return request.json()"
   ]
  },
  {
   "cell_type": "code",
   "execution_count": 24,
   "metadata": {
    "id": "eHKncYBPZN9H"
   },
   "outputs": [],
   "source": [
    "# This section of code loops the bitcoin dataframe and gets news for each date in that dataframe.\n",
    "# It applies sentiment analysis on the news for that day and gives a compound, positive, negative, neutral sentiment score.\n",
    "# The api uses epoch time where 86400 is 24 hours\n",
    "\n",
    "reddit_sentiments = []\n",
    "date_list1 = bitcoin_df.datetime.to_list()\n",
    "for date in date_list1:\n",
    "    try:\n",
    "        try:\n",
    "            data = get_pushshift_data(data_type=\"comment\",\n",
    "                                      q=\"bitcoin\",\n",
    "                                      after=int(date) - 86400,\n",
    "                                      before=int(date),\n",
    "                                      size=500,\n",
    "                                      sort_type=\"score\",\n",
    "                                      sort=\"desc\").get(\"data\")\n",
    "        except:\n",
    "            pass\n",
    "        temp = []\n",
    "        for i in range(len(data)):\n",
    "            temp.append(data[i]['body'])\n",
    "        text = ' '.join(temp)\n",
    "        sentiment = analyzer.polarity_scores(text)\n",
    "        compound = sentiment[\"compound\"]\n",
    "        pos = sentiment[\"pos\"]\n",
    "        neu = sentiment[\"neu\"]\n",
    "        neg = sentiment[\"neg\"]\n",
    "\n",
    "        reddit_sentiments.append({\n",
    "            \"text\": text,\n",
    "            \"date\": date,\n",
    "            \"Reddit compound\": compound,\n",
    "            \"Reddit positive\": pos,\n",
    "            \"Reddit negative\": neg,\n",
    "            \"Reddit neutral\": neu\n",
    "\n",
    "        })\n",
    "    except AttributeError:\n",
    "        pass\n"
   ]
  },
  {
   "cell_type": "code",
   "execution_count": 25,
   "metadata": {
    "colab": {
     "base_uri": "https://localhost:8080/",
     "height": 424
    },
    "id": "6siYdqBZjclD",
    "outputId": "e1cbf4dd-b20f-4545-e7b4-66b25f1aa62c"
   },
   "outputs": [
    {
     "data": {
      "text/html": [
       "<div>\n",
       "<style scoped>\n",
       "    .dataframe tbody tr th:only-of-type {\n",
       "        vertical-align: middle;\n",
       "    }\n",
       "\n",
       "    .dataframe tbody tr th {\n",
       "        vertical-align: top;\n",
       "    }\n",
       "\n",
       "    .dataframe thead th {\n",
       "        text-align: right;\n",
       "    }\n",
       "</style>\n",
       "<table border=\"1\" class=\"dataframe\">\n",
       "  <thead>\n",
       "    <tr style=\"text-align: right;\">\n",
       "      <th></th>\n",
       "      <th>datetime</th>\n",
       "      <th>text</th>\n",
       "      <th>Reddit compound</th>\n",
       "      <th>Reddit positive</th>\n",
       "      <th>Reddit negative</th>\n",
       "      <th>Reddit neutral</th>\n",
       "    </tr>\n",
       "  </thead>\n",
       "  <tbody>\n",
       "    <tr>\n",
       "      <th>0</th>\n",
       "      <td>1.503014e+09</td>\n",
       "      <td>it´s an old bitcoin breadwallet! This is good ...</td>\n",
       "      <td>0.9999</td>\n",
       "      <td>0.132</td>\n",
       "      <td>0.082</td>\n",
       "      <td>0.786</td>\n",
       "    </tr>\n",
       "    <tr>\n",
       "      <th>1</th>\n",
       "      <td>1.503101e+09</td>\n",
       "      <td>My favourite part is when he calls r/btc more ...</td>\n",
       "      <td>0.9998</td>\n",
       "      <td>0.122</td>\n",
       "      <td>0.090</td>\n",
       "      <td>0.788</td>\n",
       "    </tr>\n",
       "    <tr>\n",
       "      <th>2</th>\n",
       "      <td>1.503187e+09</td>\n",
       "      <td>That feeling when your friends talked you out ...</td>\n",
       "      <td>0.9998</td>\n",
       "      <td>0.128</td>\n",
       "      <td>0.109</td>\n",
       "      <td>0.763</td>\n",
       "    </tr>\n",
       "    <tr>\n",
       "      <th>3</th>\n",
       "      <td>1.503274e+09</td>\n",
       "      <td>if you had any doubt: this is how you fight bi...</td>\n",
       "      <td>0.9998</td>\n",
       "      <td>0.129</td>\n",
       "      <td>0.104</td>\n",
       "      <td>0.767</td>\n",
       "    </tr>\n",
       "    <tr>\n",
       "      <th>4</th>\n",
       "      <td>1.503360e+09</td>\n",
       "      <td>&amp;gt;  At the end she broke down crying saying ...</td>\n",
       "      <td>0.9998</td>\n",
       "      <td>0.131</td>\n",
       "      <td>0.108</td>\n",
       "      <td>0.761</td>\n",
       "    </tr>\n",
       "    <tr>\n",
       "      <th>...</th>\n",
       "      <td>...</td>\n",
       "      <td>...</td>\n",
       "      <td>...</td>\n",
       "      <td>...</td>\n",
       "      <td>...</td>\n",
       "      <td>...</td>\n",
       "    </tr>\n",
       "    <tr>\n",
       "      <th>1556</th>\n",
       "      <td>1.637453e+09</td>\n",
       "      <td>I have a memory of sitting at work and my idio...</td>\n",
       "      <td>0.9992</td>\n",
       "      <td>0.124</td>\n",
       "      <td>0.097</td>\n",
       "      <td>0.779</td>\n",
       "    </tr>\n",
       "    <tr>\n",
       "      <th>1557</th>\n",
       "      <td>1.637539e+09</td>\n",
       "      <td>Not buying Bitcoin the first time I read about...</td>\n",
       "      <td>0.9999</td>\n",
       "      <td>0.114</td>\n",
       "      <td>0.073</td>\n",
       "      <td>0.813</td>\n",
       "    </tr>\n",
       "    <tr>\n",
       "      <th>1558</th>\n",
       "      <td>1.637626e+09</td>\n",
       "      <td>Why bonds anyway? Why not go DAO? Imagine Bitc...</td>\n",
       "      <td>0.9998</td>\n",
       "      <td>0.114</td>\n",
       "      <td>0.073</td>\n",
       "      <td>0.813</td>\n",
       "    </tr>\n",
       "    <tr>\n",
       "      <th>1559</th>\n",
       "      <td>1.637712e+09</td>\n",
       "      <td>Why bonds anyway? Why not go DAO? Imagine Bitc...</td>\n",
       "      <td>0.9998</td>\n",
       "      <td>0.114</td>\n",
       "      <td>0.073</td>\n",
       "      <td>0.813</td>\n",
       "    </tr>\n",
       "    <tr>\n",
       "      <th>1560</th>\n",
       "      <td>1.637798e+09</td>\n",
       "      <td>It’s absolutely hilarious because athletes kee...</td>\n",
       "      <td>0.9999</td>\n",
       "      <td>0.128</td>\n",
       "      <td>0.082</td>\n",
       "      <td>0.790</td>\n",
       "    </tr>\n",
       "  </tbody>\n",
       "</table>\n",
       "<p>1561 rows × 6 columns</p>\n",
       "</div>"
      ],
      "text/plain": [
       "          datetime                                               text  \\\n",
       "0     1.503014e+09  it´s an old bitcoin breadwallet! This is good ...   \n",
       "1     1.503101e+09  My favourite part is when he calls r/btc more ...   \n",
       "2     1.503187e+09  That feeling when your friends talked you out ...   \n",
       "3     1.503274e+09  if you had any doubt: this is how you fight bi...   \n",
       "4     1.503360e+09  &gt;  At the end she broke down crying saying ...   \n",
       "...            ...                                                ...   \n",
       "1556  1.637453e+09  I have a memory of sitting at work and my idio...   \n",
       "1557  1.637539e+09  Not buying Bitcoin the first time I read about...   \n",
       "1558  1.637626e+09  Why bonds anyway? Why not go DAO? Imagine Bitc...   \n",
       "1559  1.637712e+09  Why bonds anyway? Why not go DAO? Imagine Bitc...   \n",
       "1560  1.637798e+09  It’s absolutely hilarious because athletes kee...   \n",
       "\n",
       "      Reddit compound  Reddit positive  Reddit negative  Reddit neutral  \n",
       "0              0.9999            0.132            0.082           0.786  \n",
       "1              0.9998            0.122            0.090           0.788  \n",
       "2              0.9998            0.128            0.109           0.763  \n",
       "3              0.9998            0.129            0.104           0.767  \n",
       "4              0.9998            0.131            0.108           0.761  \n",
       "...               ...              ...              ...             ...  \n",
       "1556           0.9992            0.124            0.097           0.779  \n",
       "1557           0.9999            0.114            0.073           0.813  \n",
       "1558           0.9998            0.114            0.073           0.813  \n",
       "1559           0.9998            0.114            0.073           0.813  \n",
       "1560           0.9999            0.128            0.082           0.790  \n",
       "\n",
       "[1561 rows x 6 columns]"
      ]
     },
     "execution_count": 25,
     "metadata": {},
     "output_type": "execute_result"
    }
   ],
   "source": [
    "# Store the results into a dataframe\n",
    "reddit_sentiments_df = pd.DataFrame(reddit_sentiments)\n",
    "\n",
    "# Reorder DataFrame columns\n",
    "cols = [\"date\", \"text\", \"Reddit compound\", \"Reddit positive\", \"Reddit negative\", \"Reddit neutral\"]\n",
    "reddit_sentiments_df = reddit_sentiments_df[cols]\n",
    "reddit_sentiments_df.rename(columns = {'date':'datetime'}, inplace = True)\n",
    "\n",
    "reddit_sentiments_df"
   ]
  },
  {
   "cell_type": "code",
   "execution_count": 26,
   "metadata": {},
   "outputs": [],
   "source": [
    "# Save the dataframe into a csv\n",
    "reddit_sentiments_df.to_csv('reddit_sentiments_df.csv')"
   ]
  }
 ],
 "metadata": {
  "accelerator": "GPU",
  "colab": {
   "collapsed_sections": [],
   "name": "NLP on trending assets.ipynb",
   "provenance": []
  },
  "kernelspec": {
   "display_name": "Python 3 (ipykernel)",
   "language": "python",
   "name": "python3"
  },
  "language_info": {
   "codemirror_mode": {
    "name": "ipython",
    "version": 3
   },
   "file_extension": ".py",
   "mimetype": "text/x-python",
   "name": "python",
   "nbconvert_exporter": "python",
   "pygments_lexer": "ipython3",
   "version": "3.8.8"
  }
 },
 "nbformat": 4,
 "nbformat_minor": 4
}
