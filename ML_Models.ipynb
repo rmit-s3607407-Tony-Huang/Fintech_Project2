{
 "cells": [
  {
   "cell_type": "code",
   "execution_count": 1,
   "metadata": {
    "colab": {
     "base_uri": "https://localhost:8080/"
    },
    "id": "OvxbAfC33eVD",
    "outputId": "dafbd5b7-2581-4043-c4d6-3c4fac2e7831"
   },
   "outputs": [
    {
     "name": "stdout",
     "output_type": "stream",
     "text": [
      "Requirement already satisfied: xgboost in c:\\users\\tony\\anaconda3\\lib\\site-packages (1.5.1)\n",
      "Requirement already satisfied: scipy in c:\\users\\tony\\anaconda3\\lib\\site-packages (from xgboost) (1.7.1)\n",
      "Requirement already satisfied: numpy in c:\\users\\tony\\anaconda3\\lib\\site-packages (from xgboost) (1.20.3)\n"
     ]
    }
   ],
   "source": [
    "!pip install xgboost"
   ]
  },
  {
   "cell_type": "code",
   "execution_count": 28,
   "metadata": {
    "id": "TRegk0ixvPOA"
   },
   "outputs": [
    {
     "name": "stderr",
     "output_type": "stream",
     "text": [
      "[nltk_data] Downloading package reuters to\n",
      "[nltk_data]     C:\\Users\\Tony\\AppData\\Roaming\\nltk_data...\n",
      "[nltk_data]   Package reuters is already up-to-date!\n",
      "[nltk_data] Downloading package stopwords to\n",
      "[nltk_data]     C:\\Users\\Tony\\AppData\\Roaming\\nltk_data...\n",
      "[nltk_data]   Package stopwords is already up-to-date!\n",
      "[nltk_data] Downloading package punkt to\n",
      "[nltk_data]     C:\\Users\\Tony\\AppData\\Roaming\\nltk_data...\n",
      "[nltk_data]   Package punkt is already up-to-date!\n",
      "[nltk_data] Downloading package wordnet to\n",
      "[nltk_data]     C:\\Users\\Tony\\AppData\\Roaming\\nltk_data...\n",
      "[nltk_data]   Package wordnet is already up-to-date!\n"
     ]
    },
    {
     "data": {
      "text/plain": [
       "True"
      ]
     },
     "execution_count": 28,
     "metadata": {},
     "output_type": "execute_result"
    }
   ],
   "source": [
    "import pandas as pd\n",
    "from sklearn.linear_model import LinearRegression\n",
    "import matplotlib.pyplot as plt\n",
    "import xgboost\n",
    "%matplotlib inline\n",
    "from nltk.corpus import reuters, stopwords\n",
    "from nltk.util import ngrams\n",
    "from nltk.tokenize import word_tokenize\n",
    "from nltk.stem import WordNetLemmatizer\n",
    "import re\n",
    "import pandas as pd\n",
    "from collections import Counter\n",
    "\n",
    "# Code to download corpora\n",
    "import nltk\n",
    "nltk.download('reuters')\n",
    "nltk.download('stopwords')\n",
    "nltk.download('punkt')\n",
    "nltk.download('wordnet')"
   ]
  },
  {
   "cell_type": "code",
   "execution_count": 3,
   "metadata": {
    "colab": {
     "base_uri": "https://localhost:8080/",
     "height": 206
    },
    "id": "aPLgsv_7vRIo",
    "outputId": "e3825719-c353-487a-a6de-cf3b6b331742"
   },
   "outputs": [
    {
     "data": {
      "text/html": [
       "<div>\n",
       "<style scoped>\n",
       "    .dataframe tbody tr th:only-of-type {\n",
       "        vertical-align: middle;\n",
       "    }\n",
       "\n",
       "    .dataframe tbody tr th {\n",
       "        vertical-align: top;\n",
       "    }\n",
       "\n",
       "    .dataframe thead th {\n",
       "        text-align: right;\n",
       "    }\n",
       "</style>\n",
       "<table border=\"1\" class=\"dataframe\">\n",
       "  <thead>\n",
       "    <tr style=\"text-align: right;\">\n",
       "      <th></th>\n",
       "      <th>date</th>\n",
       "      <th>datetime</th>\n",
       "      <th>open</th>\n",
       "      <th>high</th>\n",
       "      <th>low</th>\n",
       "      <th>close</th>\n",
       "      <th>volume</th>\n",
       "      <th>returns</th>\n",
       "      <th>class</th>\n",
       "    </tr>\n",
       "  </thead>\n",
       "  <tbody>\n",
       "    <tr>\n",
       "      <th>0</th>\n",
       "      <td>2017-08-18</td>\n",
       "      <td>1.503014e+09</td>\n",
       "      <td>4285.08</td>\n",
       "      <td>4371.52</td>\n",
       "      <td>3938.77</td>\n",
       "      <td>4108.37</td>\n",
       "      <td>1199.888264</td>\n",
       "      <td>-0.041238</td>\n",
       "      <td>0</td>\n",
       "    </tr>\n",
       "    <tr>\n",
       "      <th>1</th>\n",
       "      <td>2017-08-19</td>\n",
       "      <td>1.503101e+09</td>\n",
       "      <td>4108.37</td>\n",
       "      <td>4184.69</td>\n",
       "      <td>3850.00</td>\n",
       "      <td>4139.98</td>\n",
       "      <td>381.309763</td>\n",
       "      <td>0.007694</td>\n",
       "      <td>0</td>\n",
       "    </tr>\n",
       "    <tr>\n",
       "      <th>2</th>\n",
       "      <td>2017-08-20</td>\n",
       "      <td>1.503187e+09</td>\n",
       "      <td>4120.98</td>\n",
       "      <td>4211.08</td>\n",
       "      <td>4032.62</td>\n",
       "      <td>4086.29</td>\n",
       "      <td>467.083022</td>\n",
       "      <td>-0.012969</td>\n",
       "      <td>0</td>\n",
       "    </tr>\n",
       "    <tr>\n",
       "      <th>3</th>\n",
       "      <td>2017-08-21</td>\n",
       "      <td>1.503274e+09</td>\n",
       "      <td>4069.13</td>\n",
       "      <td>4119.62</td>\n",
       "      <td>3911.79</td>\n",
       "      <td>4016.00</td>\n",
       "      <td>691.743060</td>\n",
       "      <td>-0.017201</td>\n",
       "      <td>0</td>\n",
       "    </tr>\n",
       "    <tr>\n",
       "      <th>4</th>\n",
       "      <td>2017-08-22</td>\n",
       "      <td>1.503360e+09</td>\n",
       "      <td>4016.00</td>\n",
       "      <td>4104.82</td>\n",
       "      <td>3400.00</td>\n",
       "      <td>4040.00</td>\n",
       "      <td>966.684858</td>\n",
       "      <td>0.005976</td>\n",
       "      <td>0</td>\n",
       "    </tr>\n",
       "  </tbody>\n",
       "</table>\n",
       "</div>"
      ],
      "text/plain": [
       "         date      datetime     open     high      low    close       volume  \\\n",
       "0  2017-08-18  1.503014e+09  4285.08  4371.52  3938.77  4108.37  1199.888264   \n",
       "1  2017-08-19  1.503101e+09  4108.37  4184.69  3850.00  4139.98   381.309763   \n",
       "2  2017-08-20  1.503187e+09  4120.98  4211.08  4032.62  4086.29   467.083022   \n",
       "3  2017-08-21  1.503274e+09  4069.13  4119.62  3911.79  4016.00   691.743060   \n",
       "4  2017-08-22  1.503360e+09  4016.00  4104.82  3400.00  4040.00   966.684858   \n",
       "\n",
       "    returns  class  \n",
       "0 -0.041238      0  \n",
       "1  0.007694      0  \n",
       "2 -0.012969      0  \n",
       "3 -0.017201      0  \n",
       "4  0.005976      0  "
      ]
     },
     "execution_count": 3,
     "metadata": {},
     "output_type": "execute_result"
    }
   ],
   "source": [
    "bitcoin_df = pd.read_csv('Data/bitcoin_df.csv', parse_dates=True)\n",
    "bitcoin_df = bitcoin_df.rename(columns={\"Unnamed: 0\":\"date\"})\n",
    "bitcoin_df['date'] = pd.to_datetime(bitcoin_df['date']).dt.date\n",
    "bitcoin_df.head()"
   ]
  },
  {
   "cell_type": "code",
   "execution_count": 4,
   "metadata": {
    "colab": {
     "base_uri": "https://localhost:8080/",
     "height": 206
    },
    "id": "puYOM7ZsvWXD",
    "outputId": "9a29eaef-645d-48de-b991-4f213816d784"
   },
   "outputs": [
    {
     "data": {
      "text/html": [
       "<div>\n",
       "<style scoped>\n",
       "    .dataframe tbody tr th:only-of-type {\n",
       "        vertical-align: middle;\n",
       "    }\n",
       "\n",
       "    .dataframe tbody tr th {\n",
       "        vertical-align: top;\n",
       "    }\n",
       "\n",
       "    .dataframe thead th {\n",
       "        text-align: right;\n",
       "    }\n",
       "</style>\n",
       "<table border=\"1\" class=\"dataframe\">\n",
       "  <thead>\n",
       "    <tr style=\"text-align: right;\">\n",
       "      <th></th>\n",
       "      <th>date</th>\n",
       "      <th>google trend</th>\n",
       "    </tr>\n",
       "  </thead>\n",
       "  <tbody>\n",
       "    <tr>\n",
       "      <th>0</th>\n",
       "      <td>2017-08-18</td>\n",
       "      <td>1967</td>\n",
       "    </tr>\n",
       "    <tr>\n",
       "      <th>1</th>\n",
       "      <td>2017-08-19</td>\n",
       "      <td>1844</td>\n",
       "    </tr>\n",
       "    <tr>\n",
       "      <th>2</th>\n",
       "      <td>2017-08-20</td>\n",
       "      <td>1704</td>\n",
       "    </tr>\n",
       "    <tr>\n",
       "      <th>3</th>\n",
       "      <td>2017-08-21</td>\n",
       "      <td>1702</td>\n",
       "    </tr>\n",
       "    <tr>\n",
       "      <th>4</th>\n",
       "      <td>2017-08-22</td>\n",
       "      <td>1893</td>\n",
       "    </tr>\n",
       "  </tbody>\n",
       "</table>\n",
       "</div>"
      ],
      "text/plain": [
       "         date  google trend\n",
       "0  2017-08-18          1967\n",
       "1  2017-08-19          1844\n",
       "2  2017-08-20          1704\n",
       "3  2017-08-21          1702\n",
       "4  2017-08-22          1893"
      ]
     },
     "execution_count": 4,
     "metadata": {},
     "output_type": "execute_result"
    }
   ],
   "source": [
    "google_trend_df = pd.read_csv('Data/btc_google_trend.csv', parse_dates=True)\n",
    "google_trend_df['date'] = pd.to_datetime(google_trend_df['date']).dt.date\n",
    "google_trend_df = google_trend_df.rename(columns={\"bitcoin\":\"google trend\"})\n",
    "google_trend_df.head()"
   ]
  },
  {
   "cell_type": "code",
   "execution_count": 5,
   "metadata": {
    "colab": {
     "base_uri": "https://localhost:8080/",
     "height": 206
    },
    "id": "PwLR2X0gvWZd",
    "outputId": "e24e359e-0731-4d15-a0e3-97a6bbcd74ab"
   },
   "outputs": [
    {
     "data": {
      "text/html": [
       "<div>\n",
       "<style scoped>\n",
       "    .dataframe tbody tr th:only-of-type {\n",
       "        vertical-align: middle;\n",
       "    }\n",
       "\n",
       "    .dataframe tbody tr th {\n",
       "        vertical-align: top;\n",
       "    }\n",
       "\n",
       "    .dataframe thead th {\n",
       "        text-align: right;\n",
       "    }\n",
       "</style>\n",
       "<table border=\"1\" class=\"dataframe\">\n",
       "  <thead>\n",
       "    <tr style=\"text-align: right;\">\n",
       "      <th></th>\n",
       "      <th>datetime</th>\n",
       "      <th>Reddit text</th>\n",
       "      <th>Reddit compound</th>\n",
       "      <th>Reddit positive</th>\n",
       "      <th>Reddit negative</th>\n",
       "      <th>Reddit neutral</th>\n",
       "    </tr>\n",
       "  </thead>\n",
       "  <tbody>\n",
       "    <tr>\n",
       "      <th>0</th>\n",
       "      <td>1.503014e+09</td>\n",
       "      <td>it´s an old bitcoin breadwallet! This is good ...</td>\n",
       "      <td>0.9999</td>\n",
       "      <td>0.132</td>\n",
       "      <td>0.082</td>\n",
       "      <td>0.786</td>\n",
       "    </tr>\n",
       "    <tr>\n",
       "      <th>1</th>\n",
       "      <td>1.503101e+09</td>\n",
       "      <td>My favourite part is when he calls r/btc more ...</td>\n",
       "      <td>0.9998</td>\n",
       "      <td>0.122</td>\n",
       "      <td>0.090</td>\n",
       "      <td>0.788</td>\n",
       "    </tr>\n",
       "    <tr>\n",
       "      <th>2</th>\n",
       "      <td>1.503187e+09</td>\n",
       "      <td>That feeling when your friends talked you out ...</td>\n",
       "      <td>0.9998</td>\n",
       "      <td>0.128</td>\n",
       "      <td>0.109</td>\n",
       "      <td>0.763</td>\n",
       "    </tr>\n",
       "    <tr>\n",
       "      <th>3</th>\n",
       "      <td>1.503274e+09</td>\n",
       "      <td>if you had any doubt: this is how you fight bi...</td>\n",
       "      <td>0.9998</td>\n",
       "      <td>0.129</td>\n",
       "      <td>0.104</td>\n",
       "      <td>0.767</td>\n",
       "    </tr>\n",
       "    <tr>\n",
       "      <th>4</th>\n",
       "      <td>1.503360e+09</td>\n",
       "      <td>&amp;gt;  At the end she broke down crying saying ...</td>\n",
       "      <td>0.9998</td>\n",
       "      <td>0.131</td>\n",
       "      <td>0.108</td>\n",
       "      <td>0.761</td>\n",
       "    </tr>\n",
       "  </tbody>\n",
       "</table>\n",
       "</div>"
      ],
      "text/plain": [
       "       datetime                                        Reddit text  \\\n",
       "0  1.503014e+09  it´s an old bitcoin breadwallet! This is good ...   \n",
       "1  1.503101e+09  My favourite part is when he calls r/btc more ...   \n",
       "2  1.503187e+09  That feeling when your friends talked you out ...   \n",
       "3  1.503274e+09  if you had any doubt: this is how you fight bi...   \n",
       "4  1.503360e+09  &gt;  At the end she broke down crying saying ...   \n",
       "\n",
       "   Reddit compound  Reddit positive  Reddit negative  Reddit neutral  \n",
       "0           0.9999            0.132            0.082           0.786  \n",
       "1           0.9998            0.122            0.090           0.788  \n",
       "2           0.9998            0.128            0.109           0.763  \n",
       "3           0.9998            0.129            0.104           0.767  \n",
       "4           0.9998            0.131            0.108           0.761  "
      ]
     },
     "execution_count": 5,
     "metadata": {},
     "output_type": "execute_result"
    }
   ],
   "source": [
    "reddit_sentiments_df = pd.read_csv('Data/reddit_sentiments_df.csv')\n",
    "reddit_sentiments_df.drop('Unnamed: 0', axis=1, inplace=True)\n",
    "reddit_sentiments_df = reddit_sentiments_df.rename(columns={\"text\":\"Reddit text\"})\n",
    "reddit_sentiments_df.head()"
   ]
  },
  {
   "cell_type": "code",
   "execution_count": 6,
   "metadata": {},
   "outputs": [
    {
     "data": {
      "text/html": [
       "<div>\n",
       "<style scoped>\n",
       "    .dataframe tbody tr th:only-of-type {\n",
       "        vertical-align: middle;\n",
       "    }\n",
       "\n",
       "    .dataframe tbody tr th {\n",
       "        vertical-align: top;\n",
       "    }\n",
       "\n",
       "    .dataframe thead th {\n",
       "        text-align: right;\n",
       "    }\n",
       "</style>\n",
       "<table border=\"1\" class=\"dataframe\">\n",
       "  <thead>\n",
       "    <tr style=\"text-align: right;\">\n",
       "      <th></th>\n",
       "      <th>date</th>\n",
       "      <th>Google text</th>\n",
       "      <th>Google compound</th>\n",
       "      <th>Google positive</th>\n",
       "      <th>Google negative</th>\n",
       "      <th>Google neutral</th>\n",
       "    </tr>\n",
       "  </thead>\n",
       "  <tbody>\n",
       "    <tr>\n",
       "      <th>0</th>\n",
       "      <td>2017-08-18</td>\n",
       "      <td>Hedge funds have long been a popular choice fo...</td>\n",
       "      <td>0.9848</td>\n",
       "      <td>0.150</td>\n",
       "      <td>0.000</td>\n",
       "      <td>0.850</td>\n",
       "    </tr>\n",
       "    <tr>\n",
       "      <th>1</th>\n",
       "      <td>2017-08-19</td>\n",
       "      <td>Gemini also acknowledges this is not their fir...</td>\n",
       "      <td>0.7096</td>\n",
       "      <td>0.059</td>\n",
       "      <td>0.027</td>\n",
       "      <td>0.914</td>\n",
       "    </tr>\n",
       "    <tr>\n",
       "      <th>2</th>\n",
       "      <td>2017-08-20</td>\n",
       "      <td>Bitcoin ATM company LocalCoinATM recently open...</td>\n",
       "      <td>0.8910</td>\n",
       "      <td>0.076</td>\n",
       "      <td>0.017</td>\n",
       "      <td>0.907</td>\n",
       "    </tr>\n",
       "    <tr>\n",
       "      <th>3</th>\n",
       "      <td>2017-08-21</td>\n",
       "      <td>Members of the U.S. Congress are drafting legi...</td>\n",
       "      <td>0.6359</td>\n",
       "      <td>0.111</td>\n",
       "      <td>0.076</td>\n",
       "      <td>0.814</td>\n",
       "    </tr>\n",
       "    <tr>\n",
       "      <th>4</th>\n",
       "      <td>2017-08-22</td>\n",
       "      <td>Aug.22 -- Ben Brabyn, head of Level39, discuss...</td>\n",
       "      <td>0.6808</td>\n",
       "      <td>0.065</td>\n",
       "      <td>0.036</td>\n",
       "      <td>0.900</td>\n",
       "    </tr>\n",
       "    <tr>\n",
       "      <th>...</th>\n",
       "      <td>...</td>\n",
       "      <td>...</td>\n",
       "      <td>...</td>\n",
       "      <td>...</td>\n",
       "      <td>...</td>\n",
       "      <td>...</td>\n",
       "    </tr>\n",
       "    <tr>\n",
       "      <th>1518</th>\n",
       "      <td>2021-10-14</td>\n",
       "      <td>The rapidly growing world of Bitcoin ETFs will...</td>\n",
       "      <td>-0.6908</td>\n",
       "      <td>0.055</td>\n",
       "      <td>0.081</td>\n",
       "      <td>0.864</td>\n",
       "    </tr>\n",
       "    <tr>\n",
       "      <th>1519</th>\n",
       "      <td>2021-10-15</td>\n",
       "      <td>Forbes - Bitcoin prices have rallied by almost...</td>\n",
       "      <td>0.9343</td>\n",
       "      <td>0.079</td>\n",
       "      <td>0.023</td>\n",
       "      <td>0.899</td>\n",
       "    </tr>\n",
       "    <tr>\n",
       "      <th>1520</th>\n",
       "      <td>2021-10-16</td>\n",
       "      <td>The approval of a Bitcoin Exchange Traded Fund...</td>\n",
       "      <td>0.9878</td>\n",
       "      <td>0.174</td>\n",
       "      <td>0.014</td>\n",
       "      <td>0.812</td>\n",
       "    </tr>\n",
       "    <tr>\n",
       "      <th>1521</th>\n",
       "      <td>2021-10-17</td>\n",
       "      <td>Leader in cryptocurrency, Bitcoin, Ethereum, X...</td>\n",
       "      <td>0.9689</td>\n",
       "      <td>0.121</td>\n",
       "      <td>0.027</td>\n",
       "      <td>0.852</td>\n",
       "    </tr>\n",
       "    <tr>\n",
       "      <th>1522</th>\n",
       "      <td>2021-10-18</td>\n",
       "      <td>Even superheroes like the Bitcoin Core Develop...</td>\n",
       "      <td>0.6486</td>\n",
       "      <td>0.026</td>\n",
       "      <td>0.000</td>\n",
       "      <td>0.974</td>\n",
       "    </tr>\n",
       "  </tbody>\n",
       "</table>\n",
       "<p>1523 rows × 6 columns</p>\n",
       "</div>"
      ],
      "text/plain": [
       "            date                                        Google text  \\\n",
       "0     2017-08-18  Hedge funds have long been a popular choice fo...   \n",
       "1     2017-08-19  Gemini also acknowledges this is not their fir...   \n",
       "2     2017-08-20  Bitcoin ATM company LocalCoinATM recently open...   \n",
       "3     2017-08-21  Members of the U.S. Congress are drafting legi...   \n",
       "4     2017-08-22  Aug.22 -- Ben Brabyn, head of Level39, discuss...   \n",
       "...          ...                                                ...   \n",
       "1518  2021-10-14  The rapidly growing world of Bitcoin ETFs will...   \n",
       "1519  2021-10-15  Forbes - Bitcoin prices have rallied by almost...   \n",
       "1520  2021-10-16  The approval of a Bitcoin Exchange Traded Fund...   \n",
       "1521  2021-10-17  Leader in cryptocurrency, Bitcoin, Ethereum, X...   \n",
       "1522  2021-10-18  Even superheroes like the Bitcoin Core Develop...   \n",
       "\n",
       "      Google compound  Google positive  Google negative  Google neutral  \n",
       "0              0.9848            0.150            0.000           0.850  \n",
       "1              0.7096            0.059            0.027           0.914  \n",
       "2              0.8910            0.076            0.017           0.907  \n",
       "3              0.6359            0.111            0.076           0.814  \n",
       "4              0.6808            0.065            0.036           0.900  \n",
       "...               ...              ...              ...             ...  \n",
       "1518          -0.6908            0.055            0.081           0.864  \n",
       "1519           0.9343            0.079            0.023           0.899  \n",
       "1520           0.9878            0.174            0.014           0.812  \n",
       "1521           0.9689            0.121            0.027           0.852  \n",
       "1522           0.6486            0.026            0.000           0.974  \n",
       "\n",
       "[1523 rows x 6 columns]"
      ]
     },
     "execution_count": 6,
     "metadata": {},
     "output_type": "execute_result"
    }
   ],
   "source": [
    "google_sentiments_df = pd.read_csv('Data/google_sentiment_df.csv')\n",
    "google_sentiments_df['date'] = pd.to_datetime(google_sentiments_df['date']).dt.date\n",
    "google_sentiments_df"
   ]
  },
  {
   "cell_type": "code",
   "execution_count": 7,
   "metadata": {
    "colab": {
     "base_uri": "https://localhost:8080/",
     "height": 423
    },
    "id": "kGiwWt5kx3_y",
    "outputId": "3d47f777-b3c8-48d4-e211-523bd74480ea"
   },
   "outputs": [
    {
     "data": {
      "text/html": [
       "<div>\n",
       "<style scoped>\n",
       "    .dataframe tbody tr th:only-of-type {\n",
       "        vertical-align: middle;\n",
       "    }\n",
       "\n",
       "    .dataframe tbody tr th {\n",
       "        vertical-align: top;\n",
       "    }\n",
       "\n",
       "    .dataframe thead th {\n",
       "        text-align: right;\n",
       "    }\n",
       "</style>\n",
       "<table border=\"1\" class=\"dataframe\">\n",
       "  <thead>\n",
       "    <tr style=\"text-align: right;\">\n",
       "      <th></th>\n",
       "      <th>date</th>\n",
       "      <th>datetime</th>\n",
       "      <th>open</th>\n",
       "      <th>high</th>\n",
       "      <th>low</th>\n",
       "      <th>close</th>\n",
       "      <th>volume</th>\n",
       "      <th>returns</th>\n",
       "      <th>class</th>\n",
       "      <th>google trend</th>\n",
       "    </tr>\n",
       "  </thead>\n",
       "  <tbody>\n",
       "    <tr>\n",
       "      <th>0</th>\n",
       "      <td>2017-08-18</td>\n",
       "      <td>1.503014e+09</td>\n",
       "      <td>4285.08</td>\n",
       "      <td>4371.52</td>\n",
       "      <td>3938.77</td>\n",
       "      <td>4108.37</td>\n",
       "      <td>1199.888264</td>\n",
       "      <td>-0.041238</td>\n",
       "      <td>0</td>\n",
       "      <td>1967</td>\n",
       "    </tr>\n",
       "    <tr>\n",
       "      <th>1</th>\n",
       "      <td>2017-08-19</td>\n",
       "      <td>1.503101e+09</td>\n",
       "      <td>4108.37</td>\n",
       "      <td>4184.69</td>\n",
       "      <td>3850.00</td>\n",
       "      <td>4139.98</td>\n",
       "      <td>381.309763</td>\n",
       "      <td>0.007694</td>\n",
       "      <td>0</td>\n",
       "      <td>1844</td>\n",
       "    </tr>\n",
       "    <tr>\n",
       "      <th>2</th>\n",
       "      <td>2017-08-20</td>\n",
       "      <td>1.503187e+09</td>\n",
       "      <td>4120.98</td>\n",
       "      <td>4211.08</td>\n",
       "      <td>4032.62</td>\n",
       "      <td>4086.29</td>\n",
       "      <td>467.083022</td>\n",
       "      <td>-0.012969</td>\n",
       "      <td>0</td>\n",
       "      <td>1704</td>\n",
       "    </tr>\n",
       "    <tr>\n",
       "      <th>3</th>\n",
       "      <td>2017-08-21</td>\n",
       "      <td>1.503274e+09</td>\n",
       "      <td>4069.13</td>\n",
       "      <td>4119.62</td>\n",
       "      <td>3911.79</td>\n",
       "      <td>4016.00</td>\n",
       "      <td>691.743060</td>\n",
       "      <td>-0.017201</td>\n",
       "      <td>0</td>\n",
       "      <td>1702</td>\n",
       "    </tr>\n",
       "    <tr>\n",
       "      <th>4</th>\n",
       "      <td>2017-08-22</td>\n",
       "      <td>1.503360e+09</td>\n",
       "      <td>4016.00</td>\n",
       "      <td>4104.82</td>\n",
       "      <td>3400.00</td>\n",
       "      <td>4040.00</td>\n",
       "      <td>966.684858</td>\n",
       "      <td>0.005976</td>\n",
       "      <td>0</td>\n",
       "      <td>1893</td>\n",
       "    </tr>\n",
       "    <tr>\n",
       "      <th>...</th>\n",
       "      <td>...</td>\n",
       "      <td>...</td>\n",
       "      <td>...</td>\n",
       "      <td>...</td>\n",
       "      <td>...</td>\n",
       "      <td>...</td>\n",
       "      <td>...</td>\n",
       "      <td>...</td>\n",
       "      <td>...</td>\n",
       "      <td>...</td>\n",
       "    </tr>\n",
       "    <tr>\n",
       "      <th>1445</th>\n",
       "      <td>2021-08-02</td>\n",
       "      <td>1.627862e+09</td>\n",
       "      <td>39850.27</td>\n",
       "      <td>40480.01</td>\n",
       "      <td>38690.00</td>\n",
       "      <td>39147.82</td>\n",
       "      <td>50837.351954</td>\n",
       "      <td>-0.017508</td>\n",
       "      <td>0</td>\n",
       "      <td>845</td>\n",
       "    </tr>\n",
       "    <tr>\n",
       "      <th>1446</th>\n",
       "      <td>2021-08-03</td>\n",
       "      <td>1.627949e+09</td>\n",
       "      <td>39146.86</td>\n",
       "      <td>39780.00</td>\n",
       "      <td>37642.03</td>\n",
       "      <td>38207.05</td>\n",
       "      <td>57117.435853</td>\n",
       "      <td>-0.024031</td>\n",
       "      <td>0</td>\n",
       "      <td>0</td>\n",
       "    </tr>\n",
       "    <tr>\n",
       "      <th>1447</th>\n",
       "      <td>2021-08-04</td>\n",
       "      <td>1.628035e+09</td>\n",
       "      <td>38207.04</td>\n",
       "      <td>39969.66</td>\n",
       "      <td>37508.56</td>\n",
       "      <td>39723.18</td>\n",
       "      <td>52329.352430</td>\n",
       "      <td>0.039682</td>\n",
       "      <td>0</td>\n",
       "      <td>0</td>\n",
       "    </tr>\n",
       "    <tr>\n",
       "      <th>1448</th>\n",
       "      <td>2021-08-05</td>\n",
       "      <td>1.628122e+09</td>\n",
       "      <td>39723.17</td>\n",
       "      <td>41350.00</td>\n",
       "      <td>37332.70</td>\n",
       "      <td>40862.46</td>\n",
       "      <td>84343.755621</td>\n",
       "      <td>0.028680</td>\n",
       "      <td>0</td>\n",
       "      <td>0</td>\n",
       "    </tr>\n",
       "    <tr>\n",
       "      <th>1449</th>\n",
       "      <td>2021-08-06</td>\n",
       "      <td>1.628208e+09</td>\n",
       "      <td>40862.46</td>\n",
       "      <td>43392.43</td>\n",
       "      <td>39853.86</td>\n",
       "      <td>42836.87</td>\n",
       "      <td>75753.941347</td>\n",
       "      <td>0.048318</td>\n",
       "      <td>0</td>\n",
       "      <td>0</td>\n",
       "    </tr>\n",
       "  </tbody>\n",
       "</table>\n",
       "<p>1450 rows × 10 columns</p>\n",
       "</div>"
      ],
      "text/plain": [
       "            date      datetime      open      high       low     close  \\\n",
       "0     2017-08-18  1.503014e+09   4285.08   4371.52   3938.77   4108.37   \n",
       "1     2017-08-19  1.503101e+09   4108.37   4184.69   3850.00   4139.98   \n",
       "2     2017-08-20  1.503187e+09   4120.98   4211.08   4032.62   4086.29   \n",
       "3     2017-08-21  1.503274e+09   4069.13   4119.62   3911.79   4016.00   \n",
       "4     2017-08-22  1.503360e+09   4016.00   4104.82   3400.00   4040.00   \n",
       "...          ...           ...       ...       ...       ...       ...   \n",
       "1445  2021-08-02  1.627862e+09  39850.27  40480.01  38690.00  39147.82   \n",
       "1446  2021-08-03  1.627949e+09  39146.86  39780.00  37642.03  38207.05   \n",
       "1447  2021-08-04  1.628035e+09  38207.04  39969.66  37508.56  39723.18   \n",
       "1448  2021-08-05  1.628122e+09  39723.17  41350.00  37332.70  40862.46   \n",
       "1449  2021-08-06  1.628208e+09  40862.46  43392.43  39853.86  42836.87   \n",
       "\n",
       "            volume   returns  class  google trend  \n",
       "0      1199.888264 -0.041238      0          1967  \n",
       "1       381.309763  0.007694      0          1844  \n",
       "2       467.083022 -0.012969      0          1704  \n",
       "3       691.743060 -0.017201      0          1702  \n",
       "4       966.684858  0.005976      0          1893  \n",
       "...            ...       ...    ...           ...  \n",
       "1445  50837.351954 -0.017508      0           845  \n",
       "1446  57117.435853 -0.024031      0             0  \n",
       "1447  52329.352430  0.039682      0             0  \n",
       "1448  84343.755621  0.028680      0             0  \n",
       "1449  75753.941347  0.048318      0             0  \n",
       "\n",
       "[1450 rows x 10 columns]"
      ]
     },
     "execution_count": 7,
     "metadata": {},
     "output_type": "execute_result"
    }
   ],
   "source": [
    "bitcoin_df = bitcoin_df.merge(google_trend_df, on=\"date\")\n",
    "bitcoin_df"
   ]
  },
  {
   "cell_type": "code",
   "execution_count": 8,
   "metadata": {
    "colab": {
     "base_uri": "https://localhost:8080/",
     "height": 423
    },
    "id": "NL6in9r4vWdL",
    "outputId": "ca5784ef-46cf-43c2-cb3f-1e6f06f05fb2"
   },
   "outputs": [
    {
     "data": {
      "text/html": [
       "<div>\n",
       "<style scoped>\n",
       "    .dataframe tbody tr th:only-of-type {\n",
       "        vertical-align: middle;\n",
       "    }\n",
       "\n",
       "    .dataframe tbody tr th {\n",
       "        vertical-align: top;\n",
       "    }\n",
       "\n",
       "    .dataframe thead th {\n",
       "        text-align: right;\n",
       "    }\n",
       "</style>\n",
       "<table border=\"1\" class=\"dataframe\">\n",
       "  <thead>\n",
       "    <tr style=\"text-align: right;\">\n",
       "      <th></th>\n",
       "      <th>date</th>\n",
       "      <th>datetime</th>\n",
       "      <th>open</th>\n",
       "      <th>high</th>\n",
       "      <th>low</th>\n",
       "      <th>close</th>\n",
       "      <th>volume</th>\n",
       "      <th>returns</th>\n",
       "      <th>class</th>\n",
       "      <th>google trend</th>\n",
       "      <th>Reddit text</th>\n",
       "      <th>Reddit compound</th>\n",
       "      <th>Reddit positive</th>\n",
       "      <th>Reddit negative</th>\n",
       "      <th>Reddit neutral</th>\n",
       "      <th>Google text</th>\n",
       "      <th>Google compound</th>\n",
       "      <th>Google positive</th>\n",
       "      <th>Google negative</th>\n",
       "      <th>Google neutral</th>\n",
       "    </tr>\n",
       "  </thead>\n",
       "  <tbody>\n",
       "    <tr>\n",
       "      <th>0</th>\n",
       "      <td>2017-08-18</td>\n",
       "      <td>1.503014e+09</td>\n",
       "      <td>4285.08</td>\n",
       "      <td>4371.52</td>\n",
       "      <td>3938.77</td>\n",
       "      <td>4108.37</td>\n",
       "      <td>1199.888264</td>\n",
       "      <td>-0.041238</td>\n",
       "      <td>0</td>\n",
       "      <td>1967</td>\n",
       "      <td>it´s an old bitcoin breadwallet! This is good ...</td>\n",
       "      <td>0.9999</td>\n",
       "      <td>0.132</td>\n",
       "      <td>0.082</td>\n",
       "      <td>0.786</td>\n",
       "      <td>Hedge funds have long been a popular choice fo...</td>\n",
       "      <td>0.9848</td>\n",
       "      <td>0.150</td>\n",
       "      <td>0.000</td>\n",
       "      <td>0.850</td>\n",
       "    </tr>\n",
       "    <tr>\n",
       "      <th>1</th>\n",
       "      <td>2017-08-19</td>\n",
       "      <td>1.503101e+09</td>\n",
       "      <td>4108.37</td>\n",
       "      <td>4184.69</td>\n",
       "      <td>3850.00</td>\n",
       "      <td>4139.98</td>\n",
       "      <td>381.309763</td>\n",
       "      <td>0.007694</td>\n",
       "      <td>0</td>\n",
       "      <td>1844</td>\n",
       "      <td>My favourite part is when he calls r/btc more ...</td>\n",
       "      <td>0.9998</td>\n",
       "      <td>0.122</td>\n",
       "      <td>0.090</td>\n",
       "      <td>0.788</td>\n",
       "      <td>Gemini also acknowledges this is not their fir...</td>\n",
       "      <td>0.7096</td>\n",
       "      <td>0.059</td>\n",
       "      <td>0.027</td>\n",
       "      <td>0.914</td>\n",
       "    </tr>\n",
       "    <tr>\n",
       "      <th>2</th>\n",
       "      <td>2017-08-20</td>\n",
       "      <td>1.503187e+09</td>\n",
       "      <td>4120.98</td>\n",
       "      <td>4211.08</td>\n",
       "      <td>4032.62</td>\n",
       "      <td>4086.29</td>\n",
       "      <td>467.083022</td>\n",
       "      <td>-0.012969</td>\n",
       "      <td>0</td>\n",
       "      <td>1704</td>\n",
       "      <td>That feeling when your friends talked you out ...</td>\n",
       "      <td>0.9998</td>\n",
       "      <td>0.128</td>\n",
       "      <td>0.109</td>\n",
       "      <td>0.763</td>\n",
       "      <td>Bitcoin ATM company LocalCoinATM recently open...</td>\n",
       "      <td>0.8910</td>\n",
       "      <td>0.076</td>\n",
       "      <td>0.017</td>\n",
       "      <td>0.907</td>\n",
       "    </tr>\n",
       "    <tr>\n",
       "      <th>3</th>\n",
       "      <td>2017-08-21</td>\n",
       "      <td>1.503274e+09</td>\n",
       "      <td>4069.13</td>\n",
       "      <td>4119.62</td>\n",
       "      <td>3911.79</td>\n",
       "      <td>4016.00</td>\n",
       "      <td>691.743060</td>\n",
       "      <td>-0.017201</td>\n",
       "      <td>0</td>\n",
       "      <td>1702</td>\n",
       "      <td>if you had any doubt: this is how you fight bi...</td>\n",
       "      <td>0.9998</td>\n",
       "      <td>0.129</td>\n",
       "      <td>0.104</td>\n",
       "      <td>0.767</td>\n",
       "      <td>Members of the U.S. Congress are drafting legi...</td>\n",
       "      <td>0.6359</td>\n",
       "      <td>0.111</td>\n",
       "      <td>0.076</td>\n",
       "      <td>0.814</td>\n",
       "    </tr>\n",
       "    <tr>\n",
       "      <th>4</th>\n",
       "      <td>2017-08-22</td>\n",
       "      <td>1.503360e+09</td>\n",
       "      <td>4016.00</td>\n",
       "      <td>4104.82</td>\n",
       "      <td>3400.00</td>\n",
       "      <td>4040.00</td>\n",
       "      <td>966.684858</td>\n",
       "      <td>0.005976</td>\n",
       "      <td>0</td>\n",
       "      <td>1893</td>\n",
       "      <td>&amp;gt;  At the end she broke down crying saying ...</td>\n",
       "      <td>0.9998</td>\n",
       "      <td>0.131</td>\n",
       "      <td>0.108</td>\n",
       "      <td>0.761</td>\n",
       "      <td>Aug.22 -- Ben Brabyn, head of Level39, discuss...</td>\n",
       "      <td>0.6808</td>\n",
       "      <td>0.065</td>\n",
       "      <td>0.036</td>\n",
       "      <td>0.900</td>\n",
       "    </tr>\n",
       "    <tr>\n",
       "      <th>...</th>\n",
       "      <td>...</td>\n",
       "      <td>...</td>\n",
       "      <td>...</td>\n",
       "      <td>...</td>\n",
       "      <td>...</td>\n",
       "      <td>...</td>\n",
       "      <td>...</td>\n",
       "      <td>...</td>\n",
       "      <td>...</td>\n",
       "      <td>...</td>\n",
       "      <td>...</td>\n",
       "      <td>...</td>\n",
       "      <td>...</td>\n",
       "      <td>...</td>\n",
       "      <td>...</td>\n",
       "      <td>...</td>\n",
       "      <td>...</td>\n",
       "      <td>...</td>\n",
       "      <td>...</td>\n",
       "      <td>...</td>\n",
       "    </tr>\n",
       "    <tr>\n",
       "      <th>1445</th>\n",
       "      <td>2021-08-02</td>\n",
       "      <td>1.627862e+09</td>\n",
       "      <td>39850.27</td>\n",
       "      <td>40480.01</td>\n",
       "      <td>38690.00</td>\n",
       "      <td>39147.82</td>\n",
       "      <td>50837.351954</td>\n",
       "      <td>-0.017508</td>\n",
       "      <td>0</td>\n",
       "      <td>845</td>\n",
       "      <td>Yeah, take the money you would spend on dates ...</td>\n",
       "      <td>0.9999</td>\n",
       "      <td>0.132</td>\n",
       "      <td>0.078</td>\n",
       "      <td>0.790</td>\n",
       "      <td>Bitcoin price struggled to recover above $4000...</td>\n",
       "      <td>0.9413</td>\n",
       "      <td>0.129</td>\n",
       "      <td>0.048</td>\n",
       "      <td>0.822</td>\n",
       "    </tr>\n",
       "    <tr>\n",
       "      <th>1446</th>\n",
       "      <td>2021-08-03</td>\n",
       "      <td>1.627949e+09</td>\n",
       "      <td>39146.86</td>\n",
       "      <td>39780.00</td>\n",
       "      <td>37642.03</td>\n",
       "      <td>38207.05</td>\n",
       "      <td>57117.435853</td>\n",
       "      <td>-0.024031</td>\n",
       "      <td>0</td>\n",
       "      <td>0</td>\n",
       "      <td>&amp;gt;So glad I bought Bitcoin when I did anyone...</td>\n",
       "      <td>1.0000</td>\n",
       "      <td>0.144</td>\n",
       "      <td>0.060</td>\n",
       "      <td>0.796</td>\n",
       "      <td>Bitcoin price extended its decline below the $...</td>\n",
       "      <td>-0.0932</td>\n",
       "      <td>0.104</td>\n",
       "      <td>0.090</td>\n",
       "      <td>0.807</td>\n",
       "    </tr>\n",
       "    <tr>\n",
       "      <th>1447</th>\n",
       "      <td>2021-08-04</td>\n",
       "      <td>1.628035e+09</td>\n",
       "      <td>38207.04</td>\n",
       "      <td>39969.66</td>\n",
       "      <td>37508.56</td>\n",
       "      <td>39723.18</td>\n",
       "      <td>52329.352430</td>\n",
       "      <td>0.039682</td>\n",
       "      <td>0</td>\n",
       "      <td>0</td>\n",
       "      <td>Google unbanned bitcoin ads today. Should be s...</td>\n",
       "      <td>0.9999</td>\n",
       "      <td>0.133</td>\n",
       "      <td>0.072</td>\n",
       "      <td>0.795</td>\n",
       "      <td>'RIGZ' invests in bitcoin miners primarily pow...</td>\n",
       "      <td>-0.9423</td>\n",
       "      <td>0.032</td>\n",
       "      <td>0.092</td>\n",
       "      <td>0.875</td>\n",
       "    </tr>\n",
       "    <tr>\n",
       "      <th>1448</th>\n",
       "      <td>2021-08-05</td>\n",
       "      <td>1.628122e+09</td>\n",
       "      <td>39723.17</td>\n",
       "      <td>41350.00</td>\n",
       "      <td>37332.70</td>\n",
       "      <td>40862.46</td>\n",
       "      <td>84343.755621</td>\n",
       "      <td>0.028680</td>\n",
       "      <td>0</td>\n",
       "      <td>0</td>\n",
       "      <td>What is gold? Is it like a physical Bitcoin? E...</td>\n",
       "      <td>0.9999</td>\n",
       "      <td>0.145</td>\n",
       "      <td>0.078</td>\n",
       "      <td>0.777</td>\n",
       "      <td>There are different fun ways to spend your Bit...</td>\n",
       "      <td>0.9670</td>\n",
       "      <td>0.102</td>\n",
       "      <td>0.000</td>\n",
       "      <td>0.898</td>\n",
       "    </tr>\n",
       "    <tr>\n",
       "      <th>1449</th>\n",
       "      <td>2021-08-06</td>\n",
       "      <td>1.628208e+09</td>\n",
       "      <td>40862.46</td>\n",
       "      <td>43392.43</td>\n",
       "      <td>39853.86</td>\n",
       "      <td>42836.87</td>\n",
       "      <td>75753.941347</td>\n",
       "      <td>0.048318</td>\n",
       "      <td>0</td>\n",
       "      <td>0</td>\n",
       "      <td>If someone with knowledge of the future came b...</td>\n",
       "      <td>0.9997</td>\n",
       "      <td>0.118</td>\n",
       "      <td>0.096</td>\n",
       "      <td>0.786</td>\n",
       "      <td>As bitcoin use surges, cyber attacks on it als...</td>\n",
       "      <td>0.9721</td>\n",
       "      <td>0.152</td>\n",
       "      <td>0.042</td>\n",
       "      <td>0.806</td>\n",
       "    </tr>\n",
       "  </tbody>\n",
       "</table>\n",
       "<p>1450 rows × 20 columns</p>\n",
       "</div>"
      ],
      "text/plain": [
       "            date      datetime      open      high       low     close  \\\n",
       "0     2017-08-18  1.503014e+09   4285.08   4371.52   3938.77   4108.37   \n",
       "1     2017-08-19  1.503101e+09   4108.37   4184.69   3850.00   4139.98   \n",
       "2     2017-08-20  1.503187e+09   4120.98   4211.08   4032.62   4086.29   \n",
       "3     2017-08-21  1.503274e+09   4069.13   4119.62   3911.79   4016.00   \n",
       "4     2017-08-22  1.503360e+09   4016.00   4104.82   3400.00   4040.00   \n",
       "...          ...           ...       ...       ...       ...       ...   \n",
       "1445  2021-08-02  1.627862e+09  39850.27  40480.01  38690.00  39147.82   \n",
       "1446  2021-08-03  1.627949e+09  39146.86  39780.00  37642.03  38207.05   \n",
       "1447  2021-08-04  1.628035e+09  38207.04  39969.66  37508.56  39723.18   \n",
       "1448  2021-08-05  1.628122e+09  39723.17  41350.00  37332.70  40862.46   \n",
       "1449  2021-08-06  1.628208e+09  40862.46  43392.43  39853.86  42836.87   \n",
       "\n",
       "            volume   returns  class  google trend  \\\n",
       "0      1199.888264 -0.041238      0          1967   \n",
       "1       381.309763  0.007694      0          1844   \n",
       "2       467.083022 -0.012969      0          1704   \n",
       "3       691.743060 -0.017201      0          1702   \n",
       "4       966.684858  0.005976      0          1893   \n",
       "...            ...       ...    ...           ...   \n",
       "1445  50837.351954 -0.017508      0           845   \n",
       "1446  57117.435853 -0.024031      0             0   \n",
       "1447  52329.352430  0.039682      0             0   \n",
       "1448  84343.755621  0.028680      0             0   \n",
       "1449  75753.941347  0.048318      0             0   \n",
       "\n",
       "                                            Reddit text  Reddit compound  \\\n",
       "0     it´s an old bitcoin breadwallet! This is good ...           0.9999   \n",
       "1     My favourite part is when he calls r/btc more ...           0.9998   \n",
       "2     That feeling when your friends talked you out ...           0.9998   \n",
       "3     if you had any doubt: this is how you fight bi...           0.9998   \n",
       "4     &gt;  At the end she broke down crying saying ...           0.9998   \n",
       "...                                                 ...              ...   \n",
       "1445  Yeah, take the money you would spend on dates ...           0.9999   \n",
       "1446  &gt;So glad I bought Bitcoin when I did anyone...           1.0000   \n",
       "1447  Google unbanned bitcoin ads today. Should be s...           0.9999   \n",
       "1448  What is gold? Is it like a physical Bitcoin? E...           0.9999   \n",
       "1449  If someone with knowledge of the future came b...           0.9997   \n",
       "\n",
       "      Reddit positive  Reddit negative  Reddit neutral  \\\n",
       "0               0.132            0.082           0.786   \n",
       "1               0.122            0.090           0.788   \n",
       "2               0.128            0.109           0.763   \n",
       "3               0.129            0.104           0.767   \n",
       "4               0.131            0.108           0.761   \n",
       "...               ...              ...             ...   \n",
       "1445            0.132            0.078           0.790   \n",
       "1446            0.144            0.060           0.796   \n",
       "1447            0.133            0.072           0.795   \n",
       "1448            0.145            0.078           0.777   \n",
       "1449            0.118            0.096           0.786   \n",
       "\n",
       "                                            Google text  Google compound  \\\n",
       "0     Hedge funds have long been a popular choice fo...           0.9848   \n",
       "1     Gemini also acknowledges this is not their fir...           0.7096   \n",
       "2     Bitcoin ATM company LocalCoinATM recently open...           0.8910   \n",
       "3     Members of the U.S. Congress are drafting legi...           0.6359   \n",
       "4     Aug.22 -- Ben Brabyn, head of Level39, discuss...           0.6808   \n",
       "...                                                 ...              ...   \n",
       "1445  Bitcoin price struggled to recover above $4000...           0.9413   \n",
       "1446  Bitcoin price extended its decline below the $...          -0.0932   \n",
       "1447  'RIGZ' invests in bitcoin miners primarily pow...          -0.9423   \n",
       "1448  There are different fun ways to spend your Bit...           0.9670   \n",
       "1449  As bitcoin use surges, cyber attacks on it als...           0.9721   \n",
       "\n",
       "      Google positive  Google negative  Google neutral  \n",
       "0               0.150            0.000           0.850  \n",
       "1               0.059            0.027           0.914  \n",
       "2               0.076            0.017           0.907  \n",
       "3               0.111            0.076           0.814  \n",
       "4               0.065            0.036           0.900  \n",
       "...               ...              ...             ...  \n",
       "1445            0.129            0.048           0.822  \n",
       "1446            0.104            0.090           0.807  \n",
       "1447            0.032            0.092           0.875  \n",
       "1448            0.102            0.000           0.898  \n",
       "1449            0.152            0.042           0.806  \n",
       "\n",
       "[1450 rows x 20 columns]"
      ]
     },
     "execution_count": 8,
     "metadata": {},
     "output_type": "execute_result"
    }
   ],
   "source": [
    "bitcoin_df = bitcoin_df.merge(reddit_sentiments_df, on=\"datetime\")\n",
    "bitcoin_df = bitcoin_df.merge(google_sentiments_df, on=\"date\")\n",
    "bitcoin_df"
   ]
  },
  {
   "cell_type": "code",
   "execution_count": 9,
   "metadata": {},
   "outputs": [
    {
     "data": {
      "text/html": [
       "<div>\n",
       "<style scoped>\n",
       "    .dataframe tbody tr th:only-of-type {\n",
       "        vertical-align: middle;\n",
       "    }\n",
       "\n",
       "    .dataframe tbody tr th {\n",
       "        vertical-align: top;\n",
       "    }\n",
       "\n",
       "    .dataframe thead th {\n",
       "        text-align: right;\n",
       "    }\n",
       "</style>\n",
       "<table border=\"1\" class=\"dataframe\">\n",
       "  <thead>\n",
       "    <tr style=\"text-align: right;\">\n",
       "      <th></th>\n",
       "      <th>date</th>\n",
       "      <th>datetime</th>\n",
       "      <th>open</th>\n",
       "      <th>high</th>\n",
       "      <th>low</th>\n",
       "      <th>close</th>\n",
       "      <th>volume</th>\n",
       "      <th>returns</th>\n",
       "      <th>class</th>\n",
       "      <th>google trend</th>\n",
       "      <th>Reddit text</th>\n",
       "      <th>Reddit compound</th>\n",
       "      <th>Reddit positive</th>\n",
       "      <th>Reddit negative</th>\n",
       "      <th>Reddit neutral</th>\n",
       "      <th>Google text</th>\n",
       "      <th>Google compound</th>\n",
       "      <th>Google positive</th>\n",
       "      <th>Google negative</th>\n",
       "      <th>Google neutral</th>\n",
       "    </tr>\n",
       "  </thead>\n",
       "  <tbody>\n",
       "    <tr>\n",
       "      <th>0</th>\n",
       "      <td>2017-08-18</td>\n",
       "      <td>1.503014e+09</td>\n",
       "      <td>4285.08</td>\n",
       "      <td>4371.52</td>\n",
       "      <td>3938.77</td>\n",
       "      <td>4108.37</td>\n",
       "      <td>1199.888264</td>\n",
       "      <td>-0.041238</td>\n",
       "      <td>0</td>\n",
       "      <td>1967</td>\n",
       "      <td>it´s an old bitcoin breadwallet! This is good ...</td>\n",
       "      <td>0.9999</td>\n",
       "      <td>0.132</td>\n",
       "      <td>0.082</td>\n",
       "      <td>0.786</td>\n",
       "      <td>Hedge funds have long been a popular choice fo...</td>\n",
       "      <td>0.9848</td>\n",
       "      <td>0.150</td>\n",
       "      <td>0.000</td>\n",
       "      <td>0.850</td>\n",
       "    </tr>\n",
       "    <tr>\n",
       "      <th>1</th>\n",
       "      <td>2017-08-19</td>\n",
       "      <td>1.503101e+09</td>\n",
       "      <td>4108.37</td>\n",
       "      <td>4184.69</td>\n",
       "      <td>3850.00</td>\n",
       "      <td>4139.98</td>\n",
       "      <td>381.309763</td>\n",
       "      <td>0.007694</td>\n",
       "      <td>0</td>\n",
       "      <td>1844</td>\n",
       "      <td>My favourite part is when he calls r/btc more ...</td>\n",
       "      <td>0.9998</td>\n",
       "      <td>0.122</td>\n",
       "      <td>0.090</td>\n",
       "      <td>0.788</td>\n",
       "      <td>Gemini also acknowledges this is not their fir...</td>\n",
       "      <td>0.7096</td>\n",
       "      <td>0.059</td>\n",
       "      <td>0.027</td>\n",
       "      <td>0.914</td>\n",
       "    </tr>\n",
       "    <tr>\n",
       "      <th>2</th>\n",
       "      <td>2017-08-20</td>\n",
       "      <td>1.503187e+09</td>\n",
       "      <td>4120.98</td>\n",
       "      <td>4211.08</td>\n",
       "      <td>4032.62</td>\n",
       "      <td>4086.29</td>\n",
       "      <td>467.083022</td>\n",
       "      <td>-0.012969</td>\n",
       "      <td>0</td>\n",
       "      <td>1704</td>\n",
       "      <td>That feeling when your friends talked you out ...</td>\n",
       "      <td>0.9998</td>\n",
       "      <td>0.128</td>\n",
       "      <td>0.109</td>\n",
       "      <td>0.763</td>\n",
       "      <td>Bitcoin ATM company LocalCoinATM recently open...</td>\n",
       "      <td>0.8910</td>\n",
       "      <td>0.076</td>\n",
       "      <td>0.017</td>\n",
       "      <td>0.907</td>\n",
       "    </tr>\n",
       "    <tr>\n",
       "      <th>3</th>\n",
       "      <td>2017-08-21</td>\n",
       "      <td>1.503274e+09</td>\n",
       "      <td>4069.13</td>\n",
       "      <td>4119.62</td>\n",
       "      <td>3911.79</td>\n",
       "      <td>4016.00</td>\n",
       "      <td>691.743060</td>\n",
       "      <td>-0.017201</td>\n",
       "      <td>0</td>\n",
       "      <td>1702</td>\n",
       "      <td>if you had any doubt: this is how you fight bi...</td>\n",
       "      <td>0.9998</td>\n",
       "      <td>0.129</td>\n",
       "      <td>0.104</td>\n",
       "      <td>0.767</td>\n",
       "      <td>Members of the U.S. Congress are drafting legi...</td>\n",
       "      <td>0.6359</td>\n",
       "      <td>0.111</td>\n",
       "      <td>0.076</td>\n",
       "      <td>0.814</td>\n",
       "    </tr>\n",
       "    <tr>\n",
       "      <th>4</th>\n",
       "      <td>2017-08-22</td>\n",
       "      <td>1.503360e+09</td>\n",
       "      <td>4016.00</td>\n",
       "      <td>4104.82</td>\n",
       "      <td>3400.00</td>\n",
       "      <td>4040.00</td>\n",
       "      <td>966.684858</td>\n",
       "      <td>0.005976</td>\n",
       "      <td>0</td>\n",
       "      <td>1893</td>\n",
       "      <td>&amp;gt;  At the end she broke down crying saying ...</td>\n",
       "      <td>0.9998</td>\n",
       "      <td>0.131</td>\n",
       "      <td>0.108</td>\n",
       "      <td>0.761</td>\n",
       "      <td>Aug.22 -- Ben Brabyn, head of Level39, discuss...</td>\n",
       "      <td>0.6808</td>\n",
       "      <td>0.065</td>\n",
       "      <td>0.036</td>\n",
       "      <td>0.900</td>\n",
       "    </tr>\n",
       "  </tbody>\n",
       "</table>\n",
       "</div>"
      ],
      "text/plain": [
       "         date      datetime     open     high      low    close       volume  \\\n",
       "0  2017-08-18  1.503014e+09  4285.08  4371.52  3938.77  4108.37  1199.888264   \n",
       "1  2017-08-19  1.503101e+09  4108.37  4184.69  3850.00  4139.98   381.309763   \n",
       "2  2017-08-20  1.503187e+09  4120.98  4211.08  4032.62  4086.29   467.083022   \n",
       "3  2017-08-21  1.503274e+09  4069.13  4119.62  3911.79  4016.00   691.743060   \n",
       "4  2017-08-22  1.503360e+09  4016.00  4104.82  3400.00  4040.00   966.684858   \n",
       "\n",
       "    returns  class  google trend  \\\n",
       "0 -0.041238      0          1967   \n",
       "1  0.007694      0          1844   \n",
       "2 -0.012969      0          1704   \n",
       "3 -0.017201      0          1702   \n",
       "4  0.005976      0          1893   \n",
       "\n",
       "                                         Reddit text  Reddit compound  \\\n",
       "0  it´s an old bitcoin breadwallet! This is good ...           0.9999   \n",
       "1  My favourite part is when he calls r/btc more ...           0.9998   \n",
       "2  That feeling when your friends talked you out ...           0.9998   \n",
       "3  if you had any doubt: this is how you fight bi...           0.9998   \n",
       "4  &gt;  At the end she broke down crying saying ...           0.9998   \n",
       "\n",
       "   Reddit positive  Reddit negative  Reddit neutral  \\\n",
       "0            0.132            0.082           0.786   \n",
       "1            0.122            0.090           0.788   \n",
       "2            0.128            0.109           0.763   \n",
       "3            0.129            0.104           0.767   \n",
       "4            0.131            0.108           0.761   \n",
       "\n",
       "                                         Google text  Google compound  \\\n",
       "0  Hedge funds have long been a popular choice fo...           0.9848   \n",
       "1  Gemini also acknowledges this is not their fir...           0.7096   \n",
       "2  Bitcoin ATM company LocalCoinATM recently open...           0.8910   \n",
       "3  Members of the U.S. Congress are drafting legi...           0.6359   \n",
       "4  Aug.22 -- Ben Brabyn, head of Level39, discuss...           0.6808   \n",
       "\n",
       "   Google positive  Google negative  Google neutral  \n",
       "0            0.150            0.000           0.850  \n",
       "1            0.059            0.027           0.914  \n",
       "2            0.076            0.017           0.907  \n",
       "3            0.111            0.076           0.814  \n",
       "4            0.065            0.036           0.900  "
      ]
     },
     "execution_count": 9,
     "metadata": {},
     "output_type": "execute_result"
    }
   ],
   "source": [
    "bitcoin_df.head()"
   ]
  },
  {
   "cell_type": "code",
   "execution_count": 10,
   "metadata": {
    "colab": {
     "base_uri": "https://localhost:8080/",
     "height": 455
    },
    "id": "gNHfKv_Bzd1G",
    "outputId": "9d40bb1b-1bc7-47bb-ee50-2ea91bce0d29"
   },
   "outputs": [
    {
     "data": {
      "text/html": [
       "<div>\n",
       "<style scoped>\n",
       "    .dataframe tbody tr th:only-of-type {\n",
       "        vertical-align: middle;\n",
       "    }\n",
       "\n",
       "    .dataframe tbody tr th {\n",
       "        vertical-align: top;\n",
       "    }\n",
       "\n",
       "    .dataframe thead th {\n",
       "        text-align: right;\n",
       "    }\n",
       "</style>\n",
       "<table border=\"1\" class=\"dataframe\">\n",
       "  <thead>\n",
       "    <tr style=\"text-align: right;\">\n",
       "      <th></th>\n",
       "      <th>date</th>\n",
       "      <th>open</th>\n",
       "      <th>high</th>\n",
       "      <th>low</th>\n",
       "      <th>close</th>\n",
       "      <th>volume</th>\n",
       "      <th>returns</th>\n",
       "      <th>class</th>\n",
       "      <th>google trend</th>\n",
       "      <th>Reddit text</th>\n",
       "      <th>Reddit compound</th>\n",
       "      <th>Reddit positive</th>\n",
       "      <th>Reddit negative</th>\n",
       "      <th>Reddit neutral</th>\n",
       "      <th>Google text</th>\n",
       "      <th>Google compound</th>\n",
       "      <th>Google positive</th>\n",
       "      <th>Google negative</th>\n",
       "      <th>Google neutral</th>\n",
       "    </tr>\n",
       "  </thead>\n",
       "  <tbody>\n",
       "    <tr>\n",
       "      <th>0</th>\n",
       "      <td>2017-08-18</td>\n",
       "      <td>4285.08</td>\n",
       "      <td>4371.52</td>\n",
       "      <td>3938.77</td>\n",
       "      <td>4108.37</td>\n",
       "      <td>1199.888264</td>\n",
       "      <td>-0.041238</td>\n",
       "      <td>0</td>\n",
       "      <td>1967</td>\n",
       "      <td>it´s an old bitcoin breadwallet! This is good ...</td>\n",
       "      <td>0.9999</td>\n",
       "      <td>0.132</td>\n",
       "      <td>0.082</td>\n",
       "      <td>0.786</td>\n",
       "      <td>Hedge funds have long been a popular choice fo...</td>\n",
       "      <td>0.9848</td>\n",
       "      <td>0.150</td>\n",
       "      <td>0.000</td>\n",
       "      <td>0.850</td>\n",
       "    </tr>\n",
       "    <tr>\n",
       "      <th>1</th>\n",
       "      <td>2017-08-19</td>\n",
       "      <td>4108.37</td>\n",
       "      <td>4184.69</td>\n",
       "      <td>3850.00</td>\n",
       "      <td>4139.98</td>\n",
       "      <td>381.309763</td>\n",
       "      <td>0.007694</td>\n",
       "      <td>0</td>\n",
       "      <td>1844</td>\n",
       "      <td>My favourite part is when he calls r/btc more ...</td>\n",
       "      <td>0.9998</td>\n",
       "      <td>0.122</td>\n",
       "      <td>0.090</td>\n",
       "      <td>0.788</td>\n",
       "      <td>Gemini also acknowledges this is not their fir...</td>\n",
       "      <td>0.7096</td>\n",
       "      <td>0.059</td>\n",
       "      <td>0.027</td>\n",
       "      <td>0.914</td>\n",
       "    </tr>\n",
       "    <tr>\n",
       "      <th>2</th>\n",
       "      <td>2017-08-20</td>\n",
       "      <td>4120.98</td>\n",
       "      <td>4211.08</td>\n",
       "      <td>4032.62</td>\n",
       "      <td>4086.29</td>\n",
       "      <td>467.083022</td>\n",
       "      <td>-0.012969</td>\n",
       "      <td>0</td>\n",
       "      <td>1704</td>\n",
       "      <td>That feeling when your friends talked you out ...</td>\n",
       "      <td>0.9998</td>\n",
       "      <td>0.128</td>\n",
       "      <td>0.109</td>\n",
       "      <td>0.763</td>\n",
       "      <td>Bitcoin ATM company LocalCoinATM recently open...</td>\n",
       "      <td>0.8910</td>\n",
       "      <td>0.076</td>\n",
       "      <td>0.017</td>\n",
       "      <td>0.907</td>\n",
       "    </tr>\n",
       "    <tr>\n",
       "      <th>3</th>\n",
       "      <td>2017-08-21</td>\n",
       "      <td>4069.13</td>\n",
       "      <td>4119.62</td>\n",
       "      <td>3911.79</td>\n",
       "      <td>4016.00</td>\n",
       "      <td>691.743060</td>\n",
       "      <td>-0.017201</td>\n",
       "      <td>0</td>\n",
       "      <td>1702</td>\n",
       "      <td>if you had any doubt: this is how you fight bi...</td>\n",
       "      <td>0.9998</td>\n",
       "      <td>0.129</td>\n",
       "      <td>0.104</td>\n",
       "      <td>0.767</td>\n",
       "      <td>Members of the U.S. Congress are drafting legi...</td>\n",
       "      <td>0.6359</td>\n",
       "      <td>0.111</td>\n",
       "      <td>0.076</td>\n",
       "      <td>0.814</td>\n",
       "    </tr>\n",
       "    <tr>\n",
       "      <th>4</th>\n",
       "      <td>2017-08-22</td>\n",
       "      <td>4016.00</td>\n",
       "      <td>4104.82</td>\n",
       "      <td>3400.00</td>\n",
       "      <td>4040.00</td>\n",
       "      <td>966.684858</td>\n",
       "      <td>0.005976</td>\n",
       "      <td>0</td>\n",
       "      <td>1893</td>\n",
       "      <td>&amp;gt;  At the end she broke down crying saying ...</td>\n",
       "      <td>0.9998</td>\n",
       "      <td>0.131</td>\n",
       "      <td>0.108</td>\n",
       "      <td>0.761</td>\n",
       "      <td>Aug.22 -- Ben Brabyn, head of Level39, discuss...</td>\n",
       "      <td>0.6808</td>\n",
       "      <td>0.065</td>\n",
       "      <td>0.036</td>\n",
       "      <td>0.900</td>\n",
       "    </tr>\n",
       "    <tr>\n",
       "      <th>...</th>\n",
       "      <td>...</td>\n",
       "      <td>...</td>\n",
       "      <td>...</td>\n",
       "      <td>...</td>\n",
       "      <td>...</td>\n",
       "      <td>...</td>\n",
       "      <td>...</td>\n",
       "      <td>...</td>\n",
       "      <td>...</td>\n",
       "      <td>...</td>\n",
       "      <td>...</td>\n",
       "      <td>...</td>\n",
       "      <td>...</td>\n",
       "      <td>...</td>\n",
       "      <td>...</td>\n",
       "      <td>...</td>\n",
       "      <td>...</td>\n",
       "      <td>...</td>\n",
       "      <td>...</td>\n",
       "    </tr>\n",
       "    <tr>\n",
       "      <th>1445</th>\n",
       "      <td>2021-08-02</td>\n",
       "      <td>39850.27</td>\n",
       "      <td>40480.01</td>\n",
       "      <td>38690.00</td>\n",
       "      <td>39147.82</td>\n",
       "      <td>50837.351954</td>\n",
       "      <td>-0.017508</td>\n",
       "      <td>0</td>\n",
       "      <td>845</td>\n",
       "      <td>Yeah, take the money you would spend on dates ...</td>\n",
       "      <td>0.9999</td>\n",
       "      <td>0.132</td>\n",
       "      <td>0.078</td>\n",
       "      <td>0.790</td>\n",
       "      <td>Bitcoin price struggled to recover above $4000...</td>\n",
       "      <td>0.9413</td>\n",
       "      <td>0.129</td>\n",
       "      <td>0.048</td>\n",
       "      <td>0.822</td>\n",
       "    </tr>\n",
       "    <tr>\n",
       "      <th>1446</th>\n",
       "      <td>2021-08-03</td>\n",
       "      <td>39146.86</td>\n",
       "      <td>39780.00</td>\n",
       "      <td>37642.03</td>\n",
       "      <td>38207.05</td>\n",
       "      <td>57117.435853</td>\n",
       "      <td>-0.024031</td>\n",
       "      <td>0</td>\n",
       "      <td>0</td>\n",
       "      <td>&amp;gt;So glad I bought Bitcoin when I did anyone...</td>\n",
       "      <td>1.0000</td>\n",
       "      <td>0.144</td>\n",
       "      <td>0.060</td>\n",
       "      <td>0.796</td>\n",
       "      <td>Bitcoin price extended its decline below the $...</td>\n",
       "      <td>-0.0932</td>\n",
       "      <td>0.104</td>\n",
       "      <td>0.090</td>\n",
       "      <td>0.807</td>\n",
       "    </tr>\n",
       "    <tr>\n",
       "      <th>1447</th>\n",
       "      <td>2021-08-04</td>\n",
       "      <td>38207.04</td>\n",
       "      <td>39969.66</td>\n",
       "      <td>37508.56</td>\n",
       "      <td>39723.18</td>\n",
       "      <td>52329.352430</td>\n",
       "      <td>0.039682</td>\n",
       "      <td>0</td>\n",
       "      <td>0</td>\n",
       "      <td>Google unbanned bitcoin ads today. Should be s...</td>\n",
       "      <td>0.9999</td>\n",
       "      <td>0.133</td>\n",
       "      <td>0.072</td>\n",
       "      <td>0.795</td>\n",
       "      <td>'RIGZ' invests in bitcoin miners primarily pow...</td>\n",
       "      <td>-0.9423</td>\n",
       "      <td>0.032</td>\n",
       "      <td>0.092</td>\n",
       "      <td>0.875</td>\n",
       "    </tr>\n",
       "    <tr>\n",
       "      <th>1448</th>\n",
       "      <td>2021-08-05</td>\n",
       "      <td>39723.17</td>\n",
       "      <td>41350.00</td>\n",
       "      <td>37332.70</td>\n",
       "      <td>40862.46</td>\n",
       "      <td>84343.755621</td>\n",
       "      <td>0.028680</td>\n",
       "      <td>0</td>\n",
       "      <td>0</td>\n",
       "      <td>What is gold? Is it like a physical Bitcoin? E...</td>\n",
       "      <td>0.9999</td>\n",
       "      <td>0.145</td>\n",
       "      <td>0.078</td>\n",
       "      <td>0.777</td>\n",
       "      <td>There are different fun ways to spend your Bit...</td>\n",
       "      <td>0.9670</td>\n",
       "      <td>0.102</td>\n",
       "      <td>0.000</td>\n",
       "      <td>0.898</td>\n",
       "    </tr>\n",
       "    <tr>\n",
       "      <th>1449</th>\n",
       "      <td>2021-08-06</td>\n",
       "      <td>40862.46</td>\n",
       "      <td>43392.43</td>\n",
       "      <td>39853.86</td>\n",
       "      <td>42836.87</td>\n",
       "      <td>75753.941347</td>\n",
       "      <td>0.048318</td>\n",
       "      <td>0</td>\n",
       "      <td>0</td>\n",
       "      <td>If someone with knowledge of the future came b...</td>\n",
       "      <td>0.9997</td>\n",
       "      <td>0.118</td>\n",
       "      <td>0.096</td>\n",
       "      <td>0.786</td>\n",
       "      <td>As bitcoin use surges, cyber attacks on it als...</td>\n",
       "      <td>0.9721</td>\n",
       "      <td>0.152</td>\n",
       "      <td>0.042</td>\n",
       "      <td>0.806</td>\n",
       "    </tr>\n",
       "  </tbody>\n",
       "</table>\n",
       "<p>1450 rows × 19 columns</p>\n",
       "</div>"
      ],
      "text/plain": [
       "            date      open      high       low     close        volume  \\\n",
       "0     2017-08-18   4285.08   4371.52   3938.77   4108.37   1199.888264   \n",
       "1     2017-08-19   4108.37   4184.69   3850.00   4139.98    381.309763   \n",
       "2     2017-08-20   4120.98   4211.08   4032.62   4086.29    467.083022   \n",
       "3     2017-08-21   4069.13   4119.62   3911.79   4016.00    691.743060   \n",
       "4     2017-08-22   4016.00   4104.82   3400.00   4040.00    966.684858   \n",
       "...          ...       ...       ...       ...       ...           ...   \n",
       "1445  2021-08-02  39850.27  40480.01  38690.00  39147.82  50837.351954   \n",
       "1446  2021-08-03  39146.86  39780.00  37642.03  38207.05  57117.435853   \n",
       "1447  2021-08-04  38207.04  39969.66  37508.56  39723.18  52329.352430   \n",
       "1448  2021-08-05  39723.17  41350.00  37332.70  40862.46  84343.755621   \n",
       "1449  2021-08-06  40862.46  43392.43  39853.86  42836.87  75753.941347   \n",
       "\n",
       "       returns  class  google trend  \\\n",
       "0    -0.041238      0          1967   \n",
       "1     0.007694      0          1844   \n",
       "2    -0.012969      0          1704   \n",
       "3    -0.017201      0          1702   \n",
       "4     0.005976      0          1893   \n",
       "...        ...    ...           ...   \n",
       "1445 -0.017508      0           845   \n",
       "1446 -0.024031      0             0   \n",
       "1447  0.039682      0             0   \n",
       "1448  0.028680      0             0   \n",
       "1449  0.048318      0             0   \n",
       "\n",
       "                                            Reddit text  Reddit compound  \\\n",
       "0     it´s an old bitcoin breadwallet! This is good ...           0.9999   \n",
       "1     My favourite part is when he calls r/btc more ...           0.9998   \n",
       "2     That feeling when your friends talked you out ...           0.9998   \n",
       "3     if you had any doubt: this is how you fight bi...           0.9998   \n",
       "4     &gt;  At the end she broke down crying saying ...           0.9998   \n",
       "...                                                 ...              ...   \n",
       "1445  Yeah, take the money you would spend on dates ...           0.9999   \n",
       "1446  &gt;So glad I bought Bitcoin when I did anyone...           1.0000   \n",
       "1447  Google unbanned bitcoin ads today. Should be s...           0.9999   \n",
       "1448  What is gold? Is it like a physical Bitcoin? E...           0.9999   \n",
       "1449  If someone with knowledge of the future came b...           0.9997   \n",
       "\n",
       "      Reddit positive  Reddit negative  Reddit neutral  \\\n",
       "0               0.132            0.082           0.786   \n",
       "1               0.122            0.090           0.788   \n",
       "2               0.128            0.109           0.763   \n",
       "3               0.129            0.104           0.767   \n",
       "4               0.131            0.108           0.761   \n",
       "...               ...              ...             ...   \n",
       "1445            0.132            0.078           0.790   \n",
       "1446            0.144            0.060           0.796   \n",
       "1447            0.133            0.072           0.795   \n",
       "1448            0.145            0.078           0.777   \n",
       "1449            0.118            0.096           0.786   \n",
       "\n",
       "                                            Google text  Google compound  \\\n",
       "0     Hedge funds have long been a popular choice fo...           0.9848   \n",
       "1     Gemini also acknowledges this is not their fir...           0.7096   \n",
       "2     Bitcoin ATM company LocalCoinATM recently open...           0.8910   \n",
       "3     Members of the U.S. Congress are drafting legi...           0.6359   \n",
       "4     Aug.22 -- Ben Brabyn, head of Level39, discuss...           0.6808   \n",
       "...                                                 ...              ...   \n",
       "1445  Bitcoin price struggled to recover above $4000...           0.9413   \n",
       "1446  Bitcoin price extended its decline below the $...          -0.0932   \n",
       "1447  'RIGZ' invests in bitcoin miners primarily pow...          -0.9423   \n",
       "1448  There are different fun ways to spend your Bit...           0.9670   \n",
       "1449  As bitcoin use surges, cyber attacks on it als...           0.9721   \n",
       "\n",
       "      Google positive  Google negative  Google neutral  \n",
       "0               0.150            0.000           0.850  \n",
       "1               0.059            0.027           0.914  \n",
       "2               0.076            0.017           0.907  \n",
       "3               0.111            0.076           0.814  \n",
       "4               0.065            0.036           0.900  \n",
       "...               ...              ...             ...  \n",
       "1445            0.129            0.048           0.822  \n",
       "1446            0.104            0.090           0.807  \n",
       "1447            0.032            0.092           0.875  \n",
       "1448            0.102            0.000           0.898  \n",
       "1449            0.152            0.042           0.806  \n",
       "\n",
       "[1450 rows x 19 columns]"
      ]
     },
     "execution_count": 10,
     "metadata": {},
     "output_type": "execute_result"
    }
   ],
   "source": [
    "# bitcoin_df = bitcoin_df.set_index('date')\n",
    "bitcoin_df.drop('datetime', axis=1, inplace=True)\n",
    "bitcoin_df"
   ]
  },
  {
   "cell_type": "code",
   "execution_count": 27,
   "metadata": {
    "id": "93EXQiDp0WOI"
   },
   "outputs": [],
   "source": [
    "date_list = bitcoin_df.loc[bitcoin_df['class'] == 1].index.to_list()\n",
    "# date_list"
   ]
  },
  {
   "cell_type": "code",
   "execution_count": 26,
   "metadata": {},
   "outputs": [
    {
     "data": {
      "text/html": [
       "<div>\n",
       "<style scoped>\n",
       "    .dataframe tbody tr th:only-of-type {\n",
       "        vertical-align: middle;\n",
       "    }\n",
       "\n",
       "    .dataframe tbody tr th {\n",
       "        vertical-align: top;\n",
       "    }\n",
       "\n",
       "    .dataframe thead th {\n",
       "        text-align: right;\n",
       "    }\n",
       "</style>\n",
       "<table border=\"1\" class=\"dataframe\">\n",
       "  <thead>\n",
       "    <tr style=\"text-align: right;\">\n",
       "      <th></th>\n",
       "      <th>date</th>\n",
       "      <th>open</th>\n",
       "      <th>high</th>\n",
       "      <th>low</th>\n",
       "      <th>close</th>\n",
       "      <th>volume</th>\n",
       "      <th>returns</th>\n",
       "      <th>class</th>\n",
       "      <th>google trend</th>\n",
       "      <th>Reddit text</th>\n",
       "      <th>Reddit compound</th>\n",
       "      <th>Reddit positive</th>\n",
       "      <th>Reddit negative</th>\n",
       "      <th>Reddit neutral</th>\n",
       "      <th>Google text</th>\n",
       "      <th>Google compound</th>\n",
       "      <th>Google positive</th>\n",
       "      <th>Google negative</th>\n",
       "      <th>Google neutral</th>\n",
       "      <th>wordbank</th>\n",
       "    </tr>\n",
       "  </thead>\n",
       "  <tbody>\n",
       "    <tr>\n",
       "      <th>26</th>\n",
       "      <td>2017-09-13</td>\n",
       "      <td>4159.72</td>\n",
       "      <td>4165.38</td>\n",
       "      <td>3760.00</td>\n",
       "      <td>3944.69</td>\n",
       "      <td>913.462545</td>\n",
       "      <td>-0.052604</td>\n",
       "      <td>0</td>\n",
       "      <td>1531</td>\n",
       "      <td>NaN</td>\n",
       "      <td>0.0000</td>\n",
       "      <td>0.000</td>\n",
       "      <td>0.000</td>\n",
       "      <td>0.000</td>\n",
       "      <td>China has banned ICOs and plans to shut down d...</td>\n",
       "      <td>-0.9446</td>\n",
       "      <td>0.037</td>\n",
       "      <td>0.114</td>\n",
       "      <td>0.849</td>\n",
       "      <td>1</td>\n",
       "    </tr>\n",
       "    <tr>\n",
       "      <th>27</th>\n",
       "      <td>2017-09-14</td>\n",
       "      <td>3944.00</td>\n",
       "      <td>3993.00</td>\n",
       "      <td>3165.13</td>\n",
       "      <td>3189.02</td>\n",
       "      <td>1665.021543</td>\n",
       "      <td>-0.191566</td>\n",
       "      <td>-1</td>\n",
       "      <td>1807</td>\n",
       "      <td>NaN</td>\n",
       "      <td>0.0000</td>\n",
       "      <td>0.000</td>\n",
       "      <td>0.000</td>\n",
       "      <td>0.000</td>\n",
       "      <td>Subscribe to FT.com here: http://bit.ly/2r8RJz...</td>\n",
       "      <td>0.9700</td>\n",
       "      <td>0.124</td>\n",
       "      <td>0.033</td>\n",
       "      <td>0.843</td>\n",
       "      <td>1</td>\n",
       "    </tr>\n",
       "    <tr>\n",
       "      <th>28</th>\n",
       "      <td>2017-09-15</td>\n",
       "      <td>3188.01</td>\n",
       "      <td>3856.00</td>\n",
       "      <td>2817.00</td>\n",
       "      <td>3700.00</td>\n",
       "      <td>1968.866492</td>\n",
       "      <td>0.160231</td>\n",
       "      <td>1</td>\n",
       "      <td>2059</td>\n",
       "      <td>NaN</td>\n",
       "      <td>0.0000</td>\n",
       "      <td>0.000</td>\n",
       "      <td>0.000</td>\n",
       "      <td>0.000</td>\n",
       "      <td>Roger Ver, the digital currency enthusiast kno...</td>\n",
       "      <td>0.9442</td>\n",
       "      <td>0.116</td>\n",
       "      <td>0.046</td>\n",
       "      <td>0.838</td>\n",
       "      <td>1</td>\n",
       "    </tr>\n",
       "    <tr>\n",
       "      <th>53</th>\n",
       "      <td>2017-10-10</td>\n",
       "      <td>4786.95</td>\n",
       "      <td>4960.00</td>\n",
       "      <td>4680.59</td>\n",
       "      <td>4783.06</td>\n",
       "      <td>1043.221773</td>\n",
       "      <td>-0.000813</td>\n",
       "      <td>0</td>\n",
       "      <td>786</td>\n",
       "      <td>Well this thread is a little depressing so far...</td>\n",
       "      <td>0.9999</td>\n",
       "      <td>0.121</td>\n",
       "      <td>0.074</td>\n",
       "      <td>0.804</td>\n",
       "      <td>Bitcoin's value fell for a moment at 9 am in U...</td>\n",
       "      <td>0.8953</td>\n",
       "      <td>0.104</td>\n",
       "      <td>0.057</td>\n",
       "      <td>0.839</td>\n",
       "      <td>1</td>\n",
       "    </tr>\n",
       "    <tr>\n",
       "      <th>54</th>\n",
       "      <td>2017-10-11</td>\n",
       "      <td>4783.06</td>\n",
       "      <td>4881.61</td>\n",
       "      <td>4710.00</td>\n",
       "      <td>4821.43</td>\n",
       "      <td>753.429396</td>\n",
       "      <td>0.008022</td>\n",
       "      <td>0</td>\n",
       "      <td>744</td>\n",
       "      <td>Buy Bitcoin This could of been (almost) any of...</td>\n",
       "      <td>1.0000</td>\n",
       "      <td>0.134</td>\n",
       "      <td>0.081</td>\n",
       "      <td>0.785</td>\n",
       "      <td>Institutional Bitcoin exchange Globitex, which...</td>\n",
       "      <td>0.9551</td>\n",
       "      <td>0.122</td>\n",
       "      <td>0.022</td>\n",
       "      <td>0.855</td>\n",
       "      <td>1</td>\n",
       "    </tr>\n",
       "    <tr>\n",
       "      <th>...</th>\n",
       "      <td>...</td>\n",
       "      <td>...</td>\n",
       "      <td>...</td>\n",
       "      <td>...</td>\n",
       "      <td>...</td>\n",
       "      <td>...</td>\n",
       "      <td>...</td>\n",
       "      <td>...</td>\n",
       "      <td>...</td>\n",
       "      <td>...</td>\n",
       "      <td>...</td>\n",
       "      <td>...</td>\n",
       "      <td>...</td>\n",
       "      <td>...</td>\n",
       "      <td>...</td>\n",
       "      <td>...</td>\n",
       "      <td>...</td>\n",
       "      <td>...</td>\n",
       "      <td>...</td>\n",
       "      <td>...</td>\n",
       "    </tr>\n",
       "    <tr>\n",
       "      <th>1374</th>\n",
       "      <td>2021-05-23</td>\n",
       "      <td>37458.51</td>\n",
       "      <td>38270.64</td>\n",
       "      <td>31111.01</td>\n",
       "      <td>34655.25</td>\n",
       "      <td>217136.046593</td>\n",
       "      <td>-0.074619</td>\n",
       "      <td>0</td>\n",
       "      <td>1656</td>\n",
       "      <td>Plot twist: Bitcoin bans China Looking forward...</td>\n",
       "      <td>0.9998</td>\n",
       "      <td>0.139</td>\n",
       "      <td>0.090</td>\n",
       "      <td>0.771</td>\n",
       "      <td>Bitcoin has a long way to go in this bull mark...</td>\n",
       "      <td>0.6806</td>\n",
       "      <td>0.046</td>\n",
       "      <td>0.021</td>\n",
       "      <td>0.933</td>\n",
       "      <td>1</td>\n",
       "    </tr>\n",
       "    <tr>\n",
       "      <th>1375</th>\n",
       "      <td>2021-05-24</td>\n",
       "      <td>34681.44</td>\n",
       "      <td>39920.00</td>\n",
       "      <td>34031.00</td>\n",
       "      <td>38796.29</td>\n",
       "      <td>161630.893971</td>\n",
       "      <td>0.119492</td>\n",
       "      <td>1</td>\n",
       "      <td>1602</td>\n",
       "      <td>There's no doubt some bitcoin/influencer/strea...</td>\n",
       "      <td>0.9998</td>\n",
       "      <td>0.136</td>\n",
       "      <td>0.104</td>\n",
       "      <td>0.760</td>\n",
       "      <td>After a punishing selloff last week, bitcoin d...</td>\n",
       "      <td>-0.8979</td>\n",
       "      <td>0.051</td>\n",
       "      <td>0.098</td>\n",
       "      <td>0.851</td>\n",
       "      <td>1</td>\n",
       "    </tr>\n",
       "    <tr>\n",
       "      <th>1389</th>\n",
       "      <td>2021-06-07</td>\n",
       "      <td>35796.31</td>\n",
       "      <td>36900.00</td>\n",
       "      <td>33300.00</td>\n",
       "      <td>33552.79</td>\n",
       "      <td>77574.952573</td>\n",
       "      <td>-0.062675</td>\n",
       "      <td>0</td>\n",
       "      <td>1377</td>\n",
       "      <td>I bet all of those businesses in El Salvador w...</td>\n",
       "      <td>0.9999</td>\n",
       "      <td>0.143</td>\n",
       "      <td>0.087</td>\n",
       "      <td>0.770</td>\n",
       "      <td>The business-software firm said it will sell $...</td>\n",
       "      <td>-0.9187</td>\n",
       "      <td>0.044</td>\n",
       "      <td>0.097</td>\n",
       "      <td>0.860</td>\n",
       "      <td>1</td>\n",
       "    </tr>\n",
       "    <tr>\n",
       "      <th>1390</th>\n",
       "      <td>2021-06-08</td>\n",
       "      <td>33556.96</td>\n",
       "      <td>34068.01</td>\n",
       "      <td>31000.00</td>\n",
       "      <td>33380.81</td>\n",
       "      <td>123251.189037</td>\n",
       "      <td>-0.005126</td>\n",
       "      <td>0</td>\n",
       "      <td>1882</td>\n",
       "      <td>This is their game. This is it. This is how pl...</td>\n",
       "      <td>0.9997</td>\n",
       "      <td>0.125</td>\n",
       "      <td>0.095</td>\n",
       "      <td>0.780</td>\n",
       "      <td>CNBC.com's Pippa Stevens brings you the day's ...</td>\n",
       "      <td>-0.1045</td>\n",
       "      <td>0.044</td>\n",
       "      <td>0.046</td>\n",
       "      <td>0.911</td>\n",
       "      <td>1</td>\n",
       "    </tr>\n",
       "    <tr>\n",
       "      <th>1391</th>\n",
       "      <td>2021-06-09</td>\n",
       "      <td>33380.80</td>\n",
       "      <td>37534.79</td>\n",
       "      <td>32396.82</td>\n",
       "      <td>37388.05</td>\n",
       "      <td>136607.597517</td>\n",
       "      <td>0.120046</td>\n",
       "      <td>1</td>\n",
       "      <td>1704</td>\n",
       "      <td>We don't tax unrealized capital gains.\\n\\nIf y...</td>\n",
       "      <td>0.9994</td>\n",
       "      <td>0.122</td>\n",
       "      <td>0.092</td>\n",
       "      <td>0.785</td>\n",
       "      <td>Jack Mallers, CEO of Strike, joins \"TechCheck\"...</td>\n",
       "      <td>0.9069</td>\n",
       "      <td>0.096</td>\n",
       "      <td>0.034</td>\n",
       "      <td>0.870</td>\n",
       "      <td>1</td>\n",
       "    </tr>\n",
       "  </tbody>\n",
       "</table>\n",
       "<p>103 rows × 20 columns</p>\n",
       "</div>"
      ],
      "text/plain": [
       "            date      open      high       low     close         volume  \\\n",
       "26    2017-09-13   4159.72   4165.38   3760.00   3944.69     913.462545   \n",
       "27    2017-09-14   3944.00   3993.00   3165.13   3189.02    1665.021543   \n",
       "28    2017-09-15   3188.01   3856.00   2817.00   3700.00    1968.866492   \n",
       "53    2017-10-10   4786.95   4960.00   4680.59   4783.06    1043.221773   \n",
       "54    2017-10-11   4783.06   4881.61   4710.00   4821.43     753.429396   \n",
       "...          ...       ...       ...       ...       ...            ...   \n",
       "1374  2021-05-23  37458.51  38270.64  31111.01  34655.25  217136.046593   \n",
       "1375  2021-05-24  34681.44  39920.00  34031.00  38796.29  161630.893971   \n",
       "1389  2021-06-07  35796.31  36900.00  33300.00  33552.79   77574.952573   \n",
       "1390  2021-06-08  33556.96  34068.01  31000.00  33380.81  123251.189037   \n",
       "1391  2021-06-09  33380.80  37534.79  32396.82  37388.05  136607.597517   \n",
       "\n",
       "       returns  class  google trend  \\\n",
       "26   -0.052604      0          1531   \n",
       "27   -0.191566     -1          1807   \n",
       "28    0.160231      1          2059   \n",
       "53   -0.000813      0           786   \n",
       "54    0.008022      0           744   \n",
       "...        ...    ...           ...   \n",
       "1374 -0.074619      0          1656   \n",
       "1375  0.119492      1          1602   \n",
       "1389 -0.062675      0          1377   \n",
       "1390 -0.005126      0          1882   \n",
       "1391  0.120046      1          1704   \n",
       "\n",
       "                                            Reddit text  Reddit compound  \\\n",
       "26                                                  NaN           0.0000   \n",
       "27                                                  NaN           0.0000   \n",
       "28                                                  NaN           0.0000   \n",
       "53    Well this thread is a little depressing so far...           0.9999   \n",
       "54    Buy Bitcoin This could of been (almost) any of...           1.0000   \n",
       "...                                                 ...              ...   \n",
       "1374  Plot twist: Bitcoin bans China Looking forward...           0.9998   \n",
       "1375  There's no doubt some bitcoin/influencer/strea...           0.9998   \n",
       "1389  I bet all of those businesses in El Salvador w...           0.9999   \n",
       "1390  This is their game. This is it. This is how pl...           0.9997   \n",
       "1391  We don't tax unrealized capital gains.\\n\\nIf y...           0.9994   \n",
       "\n",
       "      Reddit positive  Reddit negative  Reddit neutral  \\\n",
       "26              0.000            0.000           0.000   \n",
       "27              0.000            0.000           0.000   \n",
       "28              0.000            0.000           0.000   \n",
       "53              0.121            0.074           0.804   \n",
       "54              0.134            0.081           0.785   \n",
       "...               ...              ...             ...   \n",
       "1374            0.139            0.090           0.771   \n",
       "1375            0.136            0.104           0.760   \n",
       "1389            0.143            0.087           0.770   \n",
       "1390            0.125            0.095           0.780   \n",
       "1391            0.122            0.092           0.785   \n",
       "\n",
       "                                            Google text  Google compound  \\\n",
       "26    China has banned ICOs and plans to shut down d...          -0.9446   \n",
       "27    Subscribe to FT.com here: http://bit.ly/2r8RJz...           0.9700   \n",
       "28    Roger Ver, the digital currency enthusiast kno...           0.9442   \n",
       "53    Bitcoin's value fell for a moment at 9 am in U...           0.8953   \n",
       "54    Institutional Bitcoin exchange Globitex, which...           0.9551   \n",
       "...                                                 ...              ...   \n",
       "1374  Bitcoin has a long way to go in this bull mark...           0.6806   \n",
       "1375  After a punishing selloff last week, bitcoin d...          -0.8979   \n",
       "1389  The business-software firm said it will sell $...          -0.9187   \n",
       "1390  CNBC.com's Pippa Stevens brings you the day's ...          -0.1045   \n",
       "1391  Jack Mallers, CEO of Strike, joins \"TechCheck\"...           0.9069   \n",
       "\n",
       "      Google positive  Google negative  Google neutral  wordbank  \n",
       "26              0.037            0.114           0.849         1  \n",
       "27              0.124            0.033           0.843         1  \n",
       "28              0.116            0.046           0.838         1  \n",
       "53              0.104            0.057           0.839         1  \n",
       "54              0.122            0.022           0.855         1  \n",
       "...               ...              ...             ...       ...  \n",
       "1374            0.046            0.021           0.933         1  \n",
       "1375            0.051            0.098           0.851         1  \n",
       "1389            0.044            0.097           0.860         1  \n",
       "1390            0.044            0.046           0.911         1  \n",
       "1391            0.096            0.034           0.870         1  \n",
       "\n",
       "[103 rows x 20 columns]"
      ]
     },
     "execution_count": 26,
     "metadata": {},
     "output_type": "execute_result"
    }
   ],
   "source": [
    "bitcoin_df['wordbank'] = 0\n",
    "bitcoin_df.loc[date_list, 'wordbank'] = 1\n",
    "bitcoin_df.loc[[date - 1 for date in date_list], 'wordbank'] = 1\n",
    "bitcoin_df.loc[[date - 2 for date in date_list], 'wordbank'] = 1\n",
    "bitcoin_df.loc[bitcoin_df['wordbank'] == 1]"
   ]
  },
  {
   "cell_type": "code",
   "execution_count": 47,
   "metadata": {},
   "outputs": [
    {
     "data": {
      "text/plain": [
       "26                                                    NaN\n",
       "27                                                    NaN\n",
       "28                                                    NaN\n",
       "53      Well this thread is a little depressing so far...\n",
       "54      Buy Bitcoin This could of been (almost) any of...\n",
       "                              ...                        \n",
       "1374    Plot twist: Bitcoin bans China Looking forward...\n",
       "1375    There's no doubt some bitcoin/influencer/strea...\n",
       "1389    I bet all of those businesses in El Salvador w...\n",
       "1390    This is their game. This is it. This is how pl...\n",
       "1391    We don't tax unrealized capital gains.\\n\\nIf y...\n",
       "Name: Reddit text, Length: 103, dtype: object"
      ]
     },
     "execution_count": 47,
     "metadata": {},
     "output_type": "execute_result"
    }
   ],
   "source": [
    "bitcoin_df.loc[bitcoin_df['wordbank'] == 1]['Reddit text']"
   ]
  },
  {
   "cell_type": "code",
   "execution_count": 29,
   "metadata": {},
   "outputs": [],
   "source": [
    "lemmatizer = WordNetLemmatizer()"
   ]
  },
  {
   "cell_type": "code",
   "execution_count": 30,
   "metadata": {},
   "outputs": [],
   "source": [
    "# Define preprocess function\n",
    "def process_text(doc):\n",
    "    sw = set(stopwords.words('english'))\n",
    "    regex = re.compile(\"[^a-zA-Z ]\")\n",
    "    re_clean = regex.sub('', doc)\n",
    "    words = word_tokenize(re_clean)\n",
    "    lem = [lemmatizer.lemmatize(word) for word in words]\n",
    "    output = [word.lower() for word in lem if word.lower() not in sw]\n",
    "    return output"
   ]
  },
  {
   "cell_type": "code",
   "execution_count": 31,
   "metadata": {},
   "outputs": [],
   "source": []
  },
  {
   "cell_type": "code",
   "execution_count": 46,
   "metadata": {},
   "outputs": [
    {
     "name": "stdout",
     "output_type": "stream",
     "text": [
      "{'gt': 10, 'bitcoin': 169, 'would': 33, 'create': 4, 'libertarian': 5, 'utopia': 3, 'gave': 3, 'chance': 5, 'need': 15, 'regulatory': 3, 'agency': 1, 'prevent': 1, 'fraud': 2, 'insure': 1, 'investmentsgtgt': 1, 'oh': 5, 'mean': 14, 'like': 24, 'federal': 1, 'financial': 9, 'institutionsgtgtgt': 1, 'lol': 2, 'get': 34, 'sub': 4, 'fucking': 1, 'wallstreet': 1, 'shill': 4, 'chancei': 1, 'think': 15, 'finally': 3, 'found': 1, 'flair': 1, 'op': 1, 'love': 4, 'whole': 2, 'post': 9, 'favorite': 1, 'religion': 1, 'somehow': 1, 'stupidest': 1, 'well': 25, 'clearly': 3, 'show': 1, 'rbtc': 3, 'wa': 36, 'right': 11, 'along': 1, 'censorship': 3, 'rbitcoins': 1, 'policy': 2, 'completely': 1, 'disgusting': 1, 'made': 9, 'impossible': 1, 'people': 38, 'actually': 6, 'discus': 1, 'outside': 1, 'shilling': 2, 'core': 12, 'notheres': 1, 'rbitcoin': 11, 'ha': 45, 'thing': 12, 'said': 15, 'ever': 5, 'ooh': 1, 'effortpost': 1, 'last': 4, 'dislodge': 1, 'existing': 3, 'power': 14, 'structure': 1, 'world': 11, 'cozy': 1, 'perch': 1, 'im': 10, 'sure': 7, 'bilderberg': 1, 'group': 2, 'shaking': 1, 'boot': 1, 'magic': 2, 'way': 17, 'convert': 4, 'industrial': 1, 'amount': 8, 'electricity': 2, 'complex': 1, 'market': 13, 'simulator': 1, 'teach': 1, 'regulation': 1, 'paraphrase': 1, 'someone': 7, 'wittier': 1, 'step': 7, 'becomes': 2, 'main': 4, 'currencystep': 1, 'utopianote': 1, 'space': 10, 'may': 5, 'infinity': 1, 'always': 8, 'attack': 6, 'paid': 2, 'esea': 3, 'worse': 3, 'company': 23, 'ea': 1, 'thousand': 9, 'paying': 4, 'customer': 7, 'pay': 13, 'monthly': 1, 'reoccurring': 1, 'subscription': 1, 'thats': 9, 'year': 14, 'service': 3, 'littletono': 1, 'support': 8, 'admins': 1, 'employee': 4, 'talk': 3, 'back': 13, 'attitude': 1, 'showing': 5, 'zero': 3, 'professionalism': 1, 'rarely': 2, 'even': 27, 'listen': 1, 'feedback': 1, 'deserve': 1, 'backlashed': 1, 'regardless': 1, 'mining': 8, 'scandal': 1, 'wait': 4, 'hold': 4, 'fucked': 1, 'upstep': 1, 'invented': 1, 'used': 9, 'buy': 12, 'drugsporn': 1, 'subject': 2, 'rampant': 1, 'speculation': 2, 'value': 11, 'fluctuation': 1, 'unaccepted': 1, 'daytoday': 1, 'retailer': 1, 'unintuitive': 1, 'function': 1, 'repeated': 1, 'theft': 1, 'ofby': 1, 'major': 4, 'banksstep': 1, 'currency': 14, 'across': 1, 'globestep': 1, 'ton': 2, 'enjoy': 3, 'purely': 1, 'much': 12, 'drama': 2, 'creates': 1, 'one': 30, 'never': 10, 'ending': 1, 'source': 2, 'popcorn': 1, 'star': 1, 'citizen': 1, 'kia': 2, 'yeah': 2, 'part': 7, 'appeal': 2, 'low': 4, 'stake': 2, 'hard': 5, 'woman': 1, 'movement': 2, 'harassed': 1, 'litecoin': 6, 'suck': 1, 'nobody': 4, 'us': 2, 'itbitcoin': 1, 'cash': 41, 'transaction': 35, 'k': 12, 'past': 5, 'day': 12, 'went': 5, 'dropping': 1, 'againlitecoin': 1, 'peak': 2, 'ksourcehttpsbitinfochartscomdecomparisonlitecointransactionshtmlm': 1, 'roger': 5, 'really': 15, 'cranked': 1, 'social': 1, 'medium': 2, 'desperateas': 1, 'aside': 3, 'happened': 5, 'two': 4, 'ago': 4, 'scaling': 4, 'debate': 2, 'started': 4, 'gain': 4, 'traction': 2, 'gavin': 2, 'andresen': 2, 'mike': 3, 'hearn': 2, 'make': 26, 'ludicrous': 1, 'alarmist': 1, 'blog': 1, 'warning': 2, 'happens': 1, 'block': 26, 'full': 3, 'army': 1, 'came': 3, 'force': 2, 'totally': 3, 'dominated': 2, 'misinformed': 1, 'bullshit': 3, 'fud': 3, 'restore': 1, 'discussion': 2, 'enforce': 1, 'strong': 3, 'moderation': 1, 'wasnt': 3, 'required': 1, 'kinda': 1, 'funny': 3, 'isnt': 6, 'touched': 1, 'rich': 7, 'elite': 1, 'fuck': 2, 'guy': 9, 'profitable': 2, 'anymore': 5, 'theres': 2, 'folk': 1, 'running': 4, 'entire': 2, 'warehouse': 1, 'computer': 2, 'coinsa': 1, 'middle': 1, 'class': 1, 'person': 1, 'might': 5, 'turn': 4, 'actual': 3, 'businessman': 1, 'likely': 5, 'several': 6, 'million': 12, 'seventy': 1, 'helping': 1, 'richer': 1, 'care': 3, 'grand': 1, 'profit': 3, 'investing': 2, 'case': 6, 'ill': 1, 'sell': 7, 'discount': 4, 'become': 2, 'terrorist': 1, 'created': 4, 'remove': 3, 'come': 11, 'pretty': 5, 'waiting': 2, 'hour': 8, 'bad': 5, 'know': 15, 'different': 8, 'goal': 1, 'still': 15, 'anything': 1, 'lessen': 1, 'cost': 12, 'instead': 5, 'min': 2, 'wont': 6, 'long': 16, 'norm': 1, 'hasnt': 2, 'yet': 4, 'penny': 1, 'send': 3, 'limitation': 1, 'planned': 1, 'please': 3, 'dont': 18, 'feed': 1, 'coin': 11, 'rule': 1, 'mentality': 1, 'ltc': 1, 'clear': 4, 'advantage': 3, 'bch': 23, 'vice': 1, 'versa': 1, 'end': 6, 'suiting': 1, 'user': 12, 'type': 1, 'transactionsthis': 1, 'difference': 5, 'civil': 1, 'keep': 8, 'didnt': 5, 'join': 1, 'high': 6, 'school': 1, 'id': 9, 'millionaire': 1, 'relief': 1, 'deal': 5, 'shitthis': 1, 'kind': 4, 'thinking': 2, 'cause': 2, 'lose': 6, 'life': 2, 'saving': 1, 'sorry': 1, 'seems': 2, 'attacking': 2, 'see': 18, 'comment': 2, 'wise': 1, 'investment': 8, 'utter': 1, 'conviction': 1, 'gambling': 2, 'usable': 1, 'form': 6, 'trading': 4, 'literally': 4, 'daytrading': 1, 'start': 5, 'making': 3, 'list': 1, 'place': 2, 'accept': 3, 'stopped': 2, 'due': 5, 'fee': 14, 'herehttpswwwredditcomrbitcoincommentshcqitstimeforabreakabouttherecentmessweve': 1, 'trying': 3, 'wake': 1, 'good': 15, 'info': 2, 'developer': 1, 'johnson': 1, 'lauhttpstwittercomjohnsonlaustatushttpstwittercomjohnsonlaustatusgtit': 1, 'illegal': 1, 'station': 2, 'selling': 2, 'directly': 2, 'bypassing': 1, 'stateowned': 1, 'guess': 2, 'miner': 15, 'powergtand': 1, 'notice': 2, 'hydro': 1, 'winter': 1, 'coming': 7, 'hydros': 1, 'stop': 4, 'working': 1, 'move': 9, 'away': 3, 'anywaygtthe': 1, 'wind': 1, 'hash': 1, 'slow': 1, 'process': 5, 'risk': 9, 'mostly': 2, 'monetery': 1, 'jail': 1, 'time': 17, 'statistical': 1, 'expected': 1, 'return': 4, 'positive': 1, 'take': 15, 'diff': 1, 'adjustment': 1, 'theymos': 4, 'scammed': 2, 'donated': 2, 'fund': 9, 'misleading': 1, 'shit': 2, 'ver': 2, 'andersen': 1, 'criminal': 2, 'irony': 1, 'surreal': 1, 'forbes': 4, 'contributor': 2, 'saying': 3, 'anyone': 9, 'cool': 3, 'say': 10, 'doe': 6, 'speak': 1, 'behalf': 1, 'forbeslike': 1, 'could': 17, 'go': 8, 'probably': 7, 'maybe': 3, 'provide': 4, 'fbi': 1, 'irs': 1, 'address': 1, 'investigate': 1, 'problem': 9, 'anymorebitcoin': 1, 'designed': 2, 'resist': 1, 'government': 3, 'intrusion': 1, 'dosesnt': 1, 'law': 3, 'holderslaw': 1, 'enforcement': 3, 'business': 2, 'proactive': 1, 'pressure': 2, 'observation': 1, 'ive': 3, 'grown': 1, 'tired': 1, 'quality': 2, 'subreddits': 1, 'dropped': 4, 'substantially': 1, 'increasingly': 1, 'bipolar': 1, 'creating': 1, 'echo': 1, 'chamber': 1, 'property': 1, 'according': 1, 'either': 3, 'going': 11, 'oscillation': 1, 'inbetween': 1, 'continue': 2, 'writing': 2, 'buried': 1, 'sea': 1, 'meme': 1, 'personal': 1, 'ignorant': 1, 'poopthrowing': 1, 'blocksize': 2, 'participant': 1, 'apparently': 5, 'lot': 15, 'maximalists': 1, 'gone': 3, 'retard': 1, 'mention': 2, 'considered': 2, 'sign': 1, 'moron': 1, 'money': 25, 'hopefully': 1, 'revolutionary': 2, 'decentralized': 6, 'monetary': 1, 'system': 6, 'emotion': 1, 'trade': 9, 'meritfuture': 1, 'prospect': 1, 'jumping': 1, 'eth': 6, 'etc': 1, 'whatever': 4, 'bandwagon': 1, 'throwing': 1, 'poop': 1, 'direction': 1, 'look': 12, 'tantrum': 1, 'old': 2, 'month': 10, 'antagonistantichristdevilsauron': 1, 'holding': 4, 'hundred': 5, 'destroy': 2, 'allegedly': 1, 'exiting': 1, 'higher': 3, 'price': 21, 'bought': 9, 'thus': 1, 'reported': 1, 'sec': 1, 'institution': 3, 'grow': 1, 'unsubstantiated': 1, 'character': 1, 'assassination': 1, 'every': 7, 'couple': 4, 'new': 15, 'boogeyman': 1, 'singlehandedly': 1, 'though': 15, 'previous': 1, 'record': 4, 'probitcoin': 1, 'name': 7, 'gaving': 1, 'jihan': 2, 'wu': 1, 'peter': 1, 'rizun': 1, 'craig': 1, 'claim': 4, 'satoshi': 1, 'wright': 1, 'yesterday': 2, 'kim': 1, 'dotcom': 1, 'joined': 3, 'gang': 1, 'daring': 1, 'use': 25, 'feespersonal': 1, 'update': 6, 'knifecatching': 1, 'small': 5, 'loss': 2, 'lower': 2, 'double': 2, 'bottom': 1, 'confirmation': 2, 'size': 13, 'expecting': 1, 'drop': 1, 'around': 10, 'fakeout': 1, 'anyway': 2, 'within': 3, 'h': 1, 'rally': 3, 'caught': 1, 'guard': 1, 'sole': 1, 'existence': 1, 'hedge': 3, 'hf': 1, 'cancellation': 1, 'managed': 1, 'play': 2, 'shockwaves': 1, 'furthermore': 1, 'increasing': 2, 'net': 3, 'worth': 9, 'volatility': 2, 'trader': 2, 'dream': 3, 'exchange': 9, 'work': 6, 'properly': 3, 'reduced': 1, 'taking': 4, 'hovering': 1, 'bounce': 2, 'pullback': 2, 'another': 3, 'attempt': 1, 'also': 17, 'probable': 1, 'personally': 2, 'bearish': 1, 'sentiment': 3, 'ball': 1, 'short': 4, 'felt': 3, 'smoking': 1, 'gun': 1, 'issue': 4, 'basically': 1, 'accountability': 1, 'everyone': 4, 'word': 4, 'forum': 3, 'software': 1, 'developed': 2, 'seemed': 1, 'fishy': 1, 'huge': 4, 'little': 1, 'college': 1, 'student': 1, 'eventually': 4, 'opensource': 1, 'code': 2, 'github': 1, 'upgrade': 3, 'bitcointalk': 2, 'situation': 2, 'plausible': 1, 'deniability': 1, 'victim': 1, 'defrauded': 1, 'smallish': 1, 'anyones': 1, 'put': 5, 'effort': 1, 'owner': 2, 'slickage': 1, 'almost': 5, 'certainly': 1, 'dumb': 1, 'enough': 4, 'nothing': 2, 'involved': 1, 'ended': 2, 'blockstream': 2, 'perhaps': 2, 'behind': 3, 'scene': 1, 'favor': 1, 'traded': 1, 'control': 3, 'three': 2, 'historically': 1, 'important': 2, 'information': 2, 'rest': 3, 'history': 3, 'tell': 2, 'prophetic': 1, 'timeline': 2, 'abridged': 1, 'great': 5, 'crash': 2, 'ath': 1, 'science': 2, 'dy': 1, 'sin': 2, 'banned': 1, 'days': 1, 'wars': 1, 'formation': 1, 'pennant': 2, 'chosen': 1, 'activates': 1, 'learning': 1, 'hit': 7, 'bringing': 2, 'veggiesona': 1, 'opjust': 1, 'fyi': 1, 'usually': 3, 'gift': 1, 'something': 7, 'recipient': 1, 'want': 14, 'fraction': 2, 'wife': 1, 'iphone': 1, 'realize': 2, 'publicity': 1, 'crypto': 13, 'endorse': 1, 'meant': 2, 'first': 11, 'ethereum': 16, 'tiny': 2, 'bitcoins': 9, 'daily': 4, 'overtake': 1, 'soon': 4, 'surpassed': 1, 'number': 2, 'ethereums': 3, 'real': 6, 'moved': 3, 'etherum': 1, 'light': 1, 'nearly': 3, 'sent': 3, 'transfer': 4, 'via': 1, 'btc': 13, 'fradulent': 1, 'mixing': 1, 'consider': 4, 'regularly': 1, 'posting': 1, 'near': 2, 'x': 11, 'median': 2, 'cheaper': 2, 'averaging': 1, 'faster': 4, 'moving': 2, 'usd': 1, 'per': 7, 'milestone': 1, 'metric': 1, 'meet': 2, 'crowd': 2, 'admits': 2, 'serious': 3, 'hand': 5, 'theyre': 2, 'getting': 6, 'beat': 1, 'game': 3, 'consumers': 2, 'vendor': 1, 'digital': 3, 'arent': 3, 'gti': 1, 'shrugged': 1, 'shoulder': 1, 'since': 6, 'learned': 2, 'honey': 1, 'badger': 1, 'figure': 3, 'doesbankers': 1, 'job': 2, 'done': 7, 'pal': 1, 'complacency': 1, 'killed': 1, 'dollar': 10, 'attempting': 1, 'kill': 2, 'bitcoingtsure': 1, 'bit': 6, 'late': 1, 'partyimho': 1, 'party': 2, 'barely': 1, 'gtim': 1, 'bitcointitles': 1, 'exactly': 4, 'wha': 1, 'maintaining': 3, 'freedom': 4, 'banksgti': 1, 'cent': 2, 'minute': 4, 'ole': 1, 'goodwelcome': 1, 'dude': 1, 'discard': 1, 'conspiracy': 1, 'offer': 4, 'benefit': 3, 'doubt': 3, 'extreme': 1, 'maxwell': 2, 'dashjr': 1, 'todd': 1, 'genuinely': 1, 'following': 3, 'believe': 5, 'path': 2, 'set': 2, 'assume': 1, 'faith': 1, 'grant': 1, 'congestion': 1, 'lost': 12, 'simply': 5, 'plan': 6, 'second': 3, 'layer': 7, 'solution': 7, 'technology': 4, 'corporation': 1, 'allow': 1, 'blockchainderivative': 1, 'token': 5, 'theyll': 3, 'walled': 2, 'garden': 2, 'nd': 6, 'able': 9, 'youre': 3, 'onchain': 5, 'wallet': 8, 'bias': 1, 'controversial': 1, 'description': 1, 'intent': 1, 'youve': 2, 'got': 6, 'venmo': 1, 'paypal': 9, 'applegoogle': 1, 'exchanges': 1, 'product': 7, 'blockchain': 4, 'whove': 1, 'owned': 1, 'app': 1, 'phone': 1, 'let': 4, 'friend': 1, 'coffee': 1, 'gamble': 2, 'asset': 4, 'many': 7, 'improve': 1, 'experiencebut': 1, 'track': 1, 'effectively': 1, 'visa': 2, 'confiscate': 1, 'blacklist': 1, 'deem': 1, 'threat': 2, 'tied': 1, 'fiat': 6, 'hegemony': 1, 'remain': 2, 'unthreatened': 1, 'vision': 3, 'offchain': 1, 'prone': 1, 'conspiratorial': 1, 'thought': 3, 'nonconspiracy': 1, 'signed': 1, 'fine': 2, 'better': 12, 'today': 6, 'itll': 1, 'easier': 3, 'onramp': 2, 'based': 2, 'cryptos': 1, 'monitor': 1, 'blocker': 1, 'driving': 1, 'boogieman': 1, 'speaks': 1, 'taken': 2, 'profiteer': 1, 'reddit': 6, 'competitor': 2, 'letting': 2, 'stuff': 2, 'slide': 1, 'v': 7, 'story': 1, 'prioritization': 1, 'amp': 1, 'healthy': 1, 'competition': 7, 'moneyshutterstockas': 1, 'offshoot': 1, 'known': 1, 'surged': 2, 'weekend': 2, 'influx': 1, 'reached': 1, 'ask': 3, 'question': 1, 'pas': 1, 'term': 6, 'adoptionlets': 1, 'understand': 5, 'differ': 1, 'view': 7, 'industry': 2, 'wholea': 1, 'prioritiesat': 1, 'similar': 2, 'divergence': 1, 'ranking': 1, 'prioritiesin': 1, 'current': 6, 'construct': 1, 'design': 5, 'roadmap': 1, 'community': 10, 'focused': 2, 'keeping': 2, 'public': 7, 'permissionless': 7, 'highly': 5, 'censorresistant': 7, 'network': 13, 'build': 5, 'top': 6, 'fast': 13, 'cheap': 15, 'payment': 11, 'secondary': 1, 'priorityin': 1, 'contrast': 4, 'enabling': 1, 'belief': 2, 'focusing': 1, 'feature': 11, 'onboard': 1, 'increased': 2, 'adoption': 2, 'foster': 1, 'decentralizationblockchain': 1, 'capitalpriorities': 1, 'cashto': 1, 'camp': 3, 'paymentsbut': 1, 'decentralizationsimilarly': 1, 'maintain': 1, 'decentralizationbut': 1, 'secondorder': 1, 'effect': 3, 'widely': 2, 'adopted': 1, 'enables': 3, 'paymentsthe': 1, 'order': 3, 'operation': 3, 'unseizable': 3, 'goldat': 1, 'chicken': 1, 'egg': 1, 'certain': 1, 'correct': 1, 'paththis': 1, 'ground': 1, 'reasonable': 2, 'disagree': 1, 'approach': 4, 'bestmy': 1, 'cashsmy': 1, 'emphasizes': 1, 'proposition': 1, 'prove': 1, 'valuable': 1, 'amazing': 2, 'novel': 4, 'innovation': 1, 'brought': 1, 'worldmuch': 1, 'internet': 1, 'introduced': 1, 'moneyin': 1, 'option': 2, 'complain': 1, 'speed': 1, 'credit': 1, 'card': 1, 'mobile': 1, 'walletits': 1, 'big': 16, 'todayin': 1, 'anybody': 2, 'stem': 1, 'architecture': 3, 'loses': 1, 'decentralization': 3, 'inferior': 1, 'centralized': 5, 'institutionsa': 1, 'fool': 1, 'errand': 1, 'competing': 1, 'compete': 2, 'ultimately': 1, 'destined': 1, 'failure': 4, 'reason': 4, 'belowarchitecturefirst': 1, 'importantly': 2, 'underlying': 1, 'paypals': 2, 'essentially': 1, 'databaseswhen': 1, 'bob': 1, 'carol': 1, 'databaseit': 1, 'database': 4, 'must': 2, 'notify': 1, 'ten': 1, 'node': 7, 'sync': 1, 'store': 5, 'foreverfrom': 1, 'fundamental': 3, 'standpoint': 1, 'processing': 7, 'quickly': 2, 'cheaplyto': 1, 'disparate': 1, 'asking': 2, 'foreverunbounded': 1, 'demand': 3, 'spacesecond': 1, 'unbounded': 1, 'included': 2, 'limited': 1, 'stored': 2, 'worldforevertheres': 1, 'associated': 1, 'storing': 1, 'processed': 1, 'prepared': 2, 'featureafter': 1, 'free': 2, 'lunch': 1, 'hope': 5, 'artificially': 2, 'lunchthe': 1, 'suppress': 1, 'despite': 3, 'fact': 2, 'supporting': 1, 'networkmy': 1, 'concern': 1, 'consumed': 1, 'anyways': 1, 'failed': 3, 'appropriately': 2, 'compensate': 1, 'transactionsif': 2, 'compensated': 1, 'run': 6, 'networkinstead': 1, 'scenario': 2, 'morphs': 1, 'meganodes': 1, 'weve': 17, 'bitcoininstead': 1, 'model': 1, 'gatekeeper': 1, 'decide': 1, 'participates': 1, 'doesnt': 6, 'seem': 1, 'interesting': 1, 'empoweringits': 1, 'already': 4, 'banking': 1, 'bitcoindevhttpslistslinuxfoundationorgpipermailbitcoindevnovemberhtml': 1, 'explanation': 3, 'implication': 1, 'news': 5, 'isgt': 1, 'exciting': 3, 'recent': 3, 'benedikt': 2, 'bnz': 2, 'standford': 1, 'apply': 1, 'optimize': 1, 'inner': 1, 'argument': 1, 'jonathan': 2, 'bootle': 2, 'achieve': 2, 'aggregate': 1, 'range': 4, 'proof': 2, 'ct': 5, 'logbits': 1, 'numoutputs': 1, 'byte': 1, 'output': 2, 'casethis': 1, 'improvement': 1, 'presence': 1, 'coinjoins': 1, 'bullet': 1, 'compact': 1, 'rangeproof': 1, 'asymptotically': 1, 'nothingthis': 1, 'eliminate': 1, 'bandwidth': 1, 'limiting': 1, 'factor': 1, 'using': 7, 'technique': 3, 'verification': 1, 'cpu': 1, 'remains': 1, 'consideration': 1, 'bitcoinjesus': 1, 'bitcoinputin': 1, 'theyve': 2, 'target': 1, 'ddos': 2, 'home': 1, 'cardinal': 1, 'xt': 2, 'luke': 1, 'reduce': 2, 'limit': 1, 'mb': 8, 'immediately': 1, 'quick': 4, 'mindset': 2, 'backed': 2, 'truly': 2, 'learn': 3, 'video': 5, 'changed': 1, 'excited': 5, 'future': 14, 'imo': 2, 'hodl': 1, 'feeling': 2, 'mine': 4, 'true': 2, 'longer': 2, 'drawn': 2, 'bankrupt': 1, 'rapid': 1, 'flippening': 2, 'altcoin': 2, 'total': 4, 'turmoil': 1, 'definitely': 1, 'try': 3, 'sue': 1, 'declare': 1, 'outin': 1, 'marathon': 1, 'sprint': 1, 'flip': 1, 'interest': 1, 'point': 6, 'httpsiimgurcomcysemvxpng': 1, 'retrace': 2, 'extremely': 3, 'column': 5, 'os': 3, 'largest': 3, 'xs': 5, 'pole': 1, 'however': 5, 'beyond': 2, 'possible': 2, 'yes': 2, 'least': 4, 'ideal': 3, 'building': 2, 'basis': 2, 'next': 3, 'dip': 1, 'cautious': 1, 'bullish': 3, 'lately': 4, 'sort': 1, 'built': 1, 'left': 1, 'behindcme': 1, 'options': 1, 'institutional': 3, 'inviestors': 1, 'week': 4, 'december': 1, 'httpswwwyoutubecomwatchvysfwdlddmteampfeatureyoutubeamptms': 1, 'media': 1, 'clueless': 1, 'shorting': 1, 'leverage': 1, 'super': 2, 'tons': 1, 'pouring': 1, 'inichimoku': 1, 'cloud': 3, 'httpswwwtradingviewcomxplcdocdg': 1, 'havent': 1, 'talked': 3, 'interacting': 1, 'sorta': 1, 'guide': 1, 'newbie': 2, 'chart': 1, 'plus': 1, 'cheatsheet': 1, 'course': 3, 'httpsiimgurcomjjkpxjpng': 1, 'arguably': 1, 'thanks': 1, 'proven': 1, 'priceblue': 1, 'scmr': 4, 'blue': 1, 'closed': 1, 'httpswwwtradingviewcomxkvwizr': 1, 'boy': 1, 'historical': 2, 'movementsweekly': 1, 'httpswwwtradingviewcomxlxqfkna': 1, 'weekly': 1, 'orange': 1, 'candle': 1, 'tend': 1, 'bodied': 1, 'pull': 2, 'result': 3, 'herebcash': 1, 'httpstwittercomjihanwu': 1, 'screaming': 1, 'earlier': 3, 'conference': 1, 'bcash': 6, 'twitter': 2, 'frustrated': 1, 'angry': 2, 'face': 2, 'frustration': 1, 'tomorrow': 1, 'tried': 1, 'push': 1, 'upward': 1, 'swing': 1, 'enjoyable': 1, 'easy': 2, 'u': 8, 'whalepool': 1, 'lesson': 1, 'veteran': 1, 'inverse': 1, 'pair': 1, 'happy': 1, 'imminentlingering': 1, 'concerns': 1, 'httpsimgoatcomuploadsfeapng': 1, 'picture': 2, 'brian': 1, 'armstrong': 1, 'supporter': 1, 'nokia': 1, 'innovate': 1, 'marketcap': 1, 'suspicious': 1, 'watching': 1, 'pump': 1, 'bank': 2, 'holiday': 1, 'lay': 1, 'coinbase': 1, 'distribution': 1, 'consolidatesegx': 1, 'cancelled': 2, 'httpslistslinuxfoundationorgpipermailbitcoinsegwitxnovemberhtml': 1, 'segx': 3, 'capitulated': 1, 'feel': 2, 'allowed': 2, 'inside': 1, 'cancel': 1, 'complains': 1, 'insider': 1, 'email': 1, 'invest': 3, 'realized': 1, 'behindclosedoors': 1, 'everything': 4, 'invests': 1, 'formulated': 1, 'controlled': 1, 'secret': 1, 'punished': 1, 'understanding': 2, 'httpstwittercomjoyriderstatus': 1, 'lt': 1, 'luck': 2, 'yeahhttpsiimgurcomkbsvporjpgi': 1, 'cashier': 1, 'check': 2, 'disadvantage': 2, 'larger': 1, 'manifest': 1, 'wildly': 1, 'successful': 3, 'easily': 2, 'outcompete': 1, 'older': 1, 'monero': 1, 'dash': 3, 'dozen': 3, 'alt': 4, 'zcash': 1, 'wanted': 3, 'adopting': 2, 'itthe': 1, 'brand': 1, 'ship': 2, 'sailed': 1, 'sizeable': 1, 'player': 4, 'call': 3, 'considers': 1, 'introduce': 1, 'alongside': 1, 'le': 7, 'bitcore': 1, 'byteball': 1, 'gold': 2, 'airdropped': 1, 'single': 2, 'firmly': 1, 'cemented': 1, 'everybodys': 1, 'mind': 1, 'fraudulent': 1, 'bitcoinbitcoin': 1, 'exists': 1, 'solely': 1, 'asic': 3, 'boosted': 1, 'aint': 1, 'king': 2, 'fair': 2, 'highschool': 2, 'baller': 2, 'moneyman': 2, 'bailed': 2, 'mark': 1, 'normal': 3, 'stock': 3, 'feels': 1, 'insane': 1, 'inflation': 1, 'resource': 1, 'onto': 2, 'hot': 2, 'unload': 1, 'sucker': 1, 'willing': 3, 'happen': 2, 'themnobody': 1, 'purchase': 2, 'httpstwittercomsatoshilitestatusupdate': 1, 'confidential': 2, 'transactions': 2, 'greg': 1, 'httpslistslinuxfoundationorgpipermailbitcoindevnovemberhtml': 1, 'tldrpreviously': 1, 'txns': 3, 'breakthrough': 1, 'increase': 9, 'coinjoin': 1, 'combine': 1, 'negligiblehttpstwittercomsatoshilitestatushttpstwittercomsatoshilitestatusim': 1, 'progress': 1, 'fungibility': 1, 'bitcoinlitecoin': 1, 'missingi': 1, 'forward': 2, 'adding': 1, 'ready': 1, 'soft': 1, 'fork': 7, 'stay': 2, 'tunedprimary': 1, 'cryptographic': 1, 'assumption': 1, 'performance': 4, 'trusted': 1, 'setup': 1, 'forevergrowingunprunable': 1, 'accumulator': 1, 'congrats': 1, 'googlehttpsnpredditcomrbitcoincommentscnibitcoindotcomwhichsupportsabcashaltcoinis': 1, 'mentioning': 1, 'bug': 1, 'button': 1, 'massive': 1, 'coverup': 1, 'endeavor': 1, 'deplorable': 1, 'complicit': 1, 'mounting': 1, 'overwhelming': 1, 'evidence': 2, 'utheymos': 1, 'embezzling': 1, 'generated': 1, 'pocketed': 1, 'aka': 1, 'misappropriated': 1, 'pros': 1, 'large': 5, 'offset': 1, 'position': 1, 'regulated': 1, 'legit': 1, 'allows': 1, 'creation': 1, 'etfs': 1, 'brokerage': 1, 'account': 2, 'cons': 1, 'manipulate': 1, 'legitimate': 2, 'contender': 1, 'raise': 2, 'nonconsensual': 1, 'change': 2, 'original': 4, 'morally': 1, 'tantamount': 1, 'forkemphasis': 1, 'wow': 2, 'agree': 1, 'vitalik': 2, 'hijacked': 1, 'chain': 3, 'therefore': 1, 'default': 1, 'tenuous': 1, 'indeedhe': 1, 'later': 3, 'thatgt': 1, 'except': 1, 'sense': 1, 'shortmedium': 1, 'cornell': 1, 'study': 1, 'holder': 1, 'august': 4, 'st': 1, 'logo': 1, 'tv': 1, 'dwell': 1, 'hate': 1, 'insult': 1, 'flyer': 3, 'faucet': 2, 'websitesplease': 1, 'waste': 1, 'marketing': 3, 'project': 3, 'board': 1, 'flyers': 1, 'theyd': 1, 'recommend': 1, 'facebook': 1, 'advertising': 1, 'incredibly': 1, 'effective': 1, 'bothered': 1, 'hire': 1, 'commercial': 1, 'necessary': 1, 'television': 1, 'outlet': 1, 'youd': 1, 'ad': 1, 'spot': 1, 'without': 4, 'needing': 1, 'privilege': 2, 'themexactlycommit': 1, 'access': 2, 'burden': 1, 'commit': 1, 'repo': 1, 'offeredwhy': 1, 'opsec': 1, 'annoying': 1, 'thankless': 1, 'itd': 3, 'qubesos': 1, 'isolated': 1, 'vms': 1, 'hogging': 1, 'memory': 1, 'laptop': 2, 'searched': 1, 'custom': 2, 'throw': 1, 'locally': 1, 'rather': 2, 'ordering': 1, 'arrive': 2, 'special': 1, 'customizationshttpswwwtechdirtcomarticlesciscoshippinghardwaretobogusaddressestothrowoffnsainterceptandimplanteffortsshtmlof': 1, 'mainly': 1, 'give': 2, 'accurate': 1, 'advice': 1, 'security': 3, 'consulting': 1, 'client': 1, 'realistically': 1, 'matter': 3, 'perform': 1, 'radar': 1, 'scrutiny': 1, 'chaos': 1, 'brother': 1, 'fake': 1, 'cnledgerchina': 1, 'electric': 1, 'ban': 2, 'wrong': 1, 'explanationhttpstwittercomcnledgerstatusthe': 1, 'head': 1, 'clarified': 1, 'mistake': 1, 'statement': 1, 'administrative': 1, 'department': 1, 'determine': 1, 'whether': 2, 'illegalhttpstwittercomcnledgerstatus': 1, 'gtnor': 1, 'bitcoinmods': 1, 'pathetic': 1, 'paused': 1, 'read': 1, 'text': 1, 'describes': 1, 'action': 3, 'website': 2, 'intentionally': 1, 'confusing': 1, 'propaganda': 1, 'absolutely': 1, 'state': 1, 'summed': 1, 'sold': 2, 'interested': 2, 'meaningful': 2, 'instrument': 1, 'toxic': 1, 'actively': 1, 'endless': 1, 'happening': 1, 'fill': 1, 'void': 1, 'everythingsolves': 1, 'problemfirst': 1, 'moverextremely': 1, 'barrier': 1, 'entry': 1, 'businessattention': 1, 'absolute': 1, 'level': 1, 'swift': 1, 'demo': 1, 'data': 1, 'provided': 1, 'organisation': 1, 'including': 3, 'bnp': 1, 'paribas': 1, 'trillionworks': 1, 'hyperledgeri': 1, 'idea': 2, 'berserk': 1, 'independent': 1, 'chainthe': 1, 'buyer': 1, 'ok': 1, 'bribing': 1, 'expense': 1, 'inflating': 1, 'collectively': 1, 'bribe': 1, 'profitmaximizing': 1, 'itimagine': 1, 'reward': 4, 'raised': 2, 'supply': 6, 'plummet': 1, 'stupid': 2, 'spell': 1, 'trouble': 2, 'switch': 1, 'severe': 1, 'version': 1, 'gpu': 1, 'moth': 1, 'corerelated': 1, 'directed': 1, 'bitcoincom': 1, 'classic': 2, 'unlimited': 1, 'paging': 1, 'uthieflar': 1, 'justifyingrbitcoin': 1, 'practice': 1, 'hanging': 1, 'curiosity': 1, 'although': 1, 'hooked': 1, 'q': 2, 'serverside': 1, 'walleta': 1, 'idiot': 1, 'paper': 4, 'walletq': 1, 'transferring': 1, 'redirected': 2, 'blockchaincoma': 1, 'uh': 1, 'blockchaininfo': 2, 'dumbass': 1, 'reputable': 1, 'site': 2, 'com': 1, 'anythingq': 1, 'blockchaininfoa': 1, 'fa': 3, 'enabled': 2, 'idiotq': 1, 'okay': 2, 'anda': 1, 'omg': 1, 'freshly': 2, 'imaged': 2, 'pc': 2, 'else': 4, 'ie': 1, 'download': 1, 'chrome': 2, 'downloaded': 1, 'logged': 1, 'wheres': 1, 'moneya': 1, 'exfortress': 1, 'executive': 2, 'novogratznew': 1, 'york': 1, 'reuters': 2, 'novogratz': 3, 'former': 1, 'macro': 1, 'manager': 1, 'fortress': 1, 'mad': 1, 'cryptocurrencies': 4, 'monday': 2, 'mainstream': 1, 'investor': 6, 'six': 3, 'eight': 1, 'bitcoinnovogratz': 1, 'expects': 1, 'firm': 3, 'purchased': 1, 'phonea': 1, 'turningpoint': 1, 'declined': 1, 'specific': 1, 'companywhen': 1, 'closer': 1, 'spoke': 1, 'global': 1, 'outlook': 1, 'summit': 1, 'yorknovogratz': 1, 'chief': 1, 'galaxy': 1, 'partners': 1, 'bet': 1, 'related': 1, 'businessesthe': 1, 'institutionalization': 1, 'saidfor': 1, 'stayed': 1, 'btcbtsp': 1, 'cryptocurrency': 3, 'capitalization': 1, 'outperforming': 1, 'traditional': 3, 'currenciestraditional': 1, 'opaque': 1, 'speculative': 1, 'potential': 1, 'collapse': 1, 'far': 1, 'soared': 1, 'percentbitcoin': 1, 'recovering': 1, 'losing': 1, 'third': 1, 'four': 1, 'volatile': 1, 'cryptocurrencyit': 1, 'shy': 1, 'latest': 1, 'bitcoinsearly': 1, 'enthusiast': 1, 'transparency': 1, 'lack': 1, 'central': 1, 'official': 1, 'dealing': 1, 'laid': 1, 'bare': 1, 'tokyobased': 1, 'mt': 1, 'gox': 1, 'collapsed': 1, 'admitting': 1, 'equivalent': 2, 'fundsthe': 1, 'tie': 1, 'endear': 1, 'investorsbut': 1, 'overcome': 1, 'challenge': 1, 'saidbiggest': 1, 'regret': 2, 'novogratzs': 1, 'biggest': 1, 'buying': 1, 'fell': 1, 'knew': 2, 'depends': 1, 'parent': 1, 'rationalb': 1, 'openmindedc': 1, 'techsavvybestcase': 1, 'mentioned': 2, 'ideaeven': 1, 'adult': 1, 'asked': 1, 'dad': 1, 'called': 2, 'told': 1, 'pricelesstldr': 1, 'sometimes': 4, 'hide': 1, 'etizolam': 2, 'mgml': 3, 'launched': 1, 'lowered': 3, 'competitive': 2, 'april': 2, 'concentration': 2, 'numerous': 1, 'report': 1, 'misuse': 1, 'contact': 2, 'correspondingly': 1, 'decreased': 1, 'half': 2, 'cut': 2, 'relating': 1, 'manufacturing': 2, 'fixed': 1, 'solvent': 1, 'container': 1, 'packaging': 1, 'lab': 3, 'analysis': 2, 'batch': 15, 'labor': 1, 'frank': 2, 'runins': 1, 'werent': 3, 'assure': 1, 'none': 1, 'intended': 3, 'maximize': 1, 'minimize': 1, 'volumein': 1, 'march': 1, 'carrying': 1, 'july': 1, 'amazon': 1, 'confirmed': 3, 'rep': 1, 'caused': 2, 'processor': 2, 'charge': 1, 'gross': 2, 'reverse': 1, 'among': 1, 'miscellaneous': 1, 'amounting': 1, 'shady': 1, 'recently': 1, 'transitioned': 1, 'receive': 1, 'ability': 1, 'diazepine': 2, 'timetable': 1, 'merely': 1, 'predicamentthat': 1, 'putting': 2, 'sale': 2, 'pragmatic': 1, 'inventory': 1, 'clearance': 1, 'tax': 1, 'purpose': 1, 'exit': 1, 'originally': 1, 'smart': 1, 'contract': 1, 'devs': 1, 'compromise': 1, 'welcome': 1, 'segwit': 1, 'obelisk': 5, 'succeedweve': 1, 'research': 1, 'sleep': 1, 'playing': 1, 'field': 1, 'visibly': 1, 'hostile': 1, 'die': 2, 'brutal': 2, 'frequently': 1, 'startup': 1, 'bankruptcy': 1, 'reputation': 1, 'awful': 1, 'aware': 1, 'marching': 1, 'minefieldweve': 1, 'conversation': 2, 'close': 2, 'founder': 2, 'promised': 1, 'consumer': 2, 'chip': 20, 'succeeded': 1, 'success': 1, 'require': 1, 'becoming': 2, 'expert': 1, 'exemployees': 1, 'bitmain': 2, 'bitfury': 1, 'avalon': 1, 'knc': 1, 'butterfly': 1, 'labs': 1, 'others': 2, 'dust': 1, 'extensive': 1, 'careful': 2, 'landscape': 2, 'confidence': 2, 'needed': 2, 'knowing': 1, 'spend': 2, 'successfulone': 1, 'typical': 1, 'insanely': 1, 'vast': 2, 'majority': 2, 'silicon': 3, 'inactive': 1, 'pack': 1, 'component': 2, 'together': 2, 'clock': 2, 'rate': 1, 'utilization': 1, 'transistor': 1, 'flipping': 1, 'cycle': 1, 'screw': 1, 'experienced': 1, 'designer': 1, 'translate': 2, 'asicsthats': 1, 'picked': 1, 'solutions': 1, 'nm': 1, 'fullcustom': 3, 'equipped': 1, 'sia': 3, 'decred': 5, 'familiar': 1, 'territory': 1, 'chose': 1, 'optimization': 1, 'hardware': 2, 'assembly': 1, 'harder': 1, 'expertise': 2, 'anywhere': 1, 'struggle': 1, 'initial': 1, 'explains': 1, 'gap': 1, 'efficiency': 3, 'unit': 20, 'altasic': 2, 'anticipated': 1, 'best': 1, 'onea': 1, 'killer': 3, 'deadline': 7, 'rare': 1, 'ontime': 1, 'presale': 4, 'shouldnt': 1, 'protection': 1, 'strict': 1, 'missing': 2, 'ftc': 1, 'announced': 2, 'shipping': 1, 'date': 1, 'june': 3, 'th': 3, 'heavily': 2, 'buffered': 1, 'internal': 2, 'early': 2, 'february': 2, 'delay': 2, 'unfortunately': 2, 'ahead': 1, 'disappoint': 1, 'revealing': 1, 'confident': 3, 'deadlineanother': 1, 'overpromising': 1, 'specification': 2, 'tempting': 1, 'promise': 3, 'simulation': 4, 'optimistic': 1, 'release': 1, 'caveat': 1, 'overall': 1, 'energy': 1, 'buck': 1, 'voltage': 2, 'example': 2, 'volotage': 1, 'chips': 1, 'inefficient': 1, 'processthe': 1, 'sc': 3, 'suggest': 2, 'ghs': 5, 'watt': 3, 'w': 5, 'adjust': 1, 'theoretically': 1, 'thatindustry': 1, 'standard': 1, 'announce': 5, 'inefficiency': 1, 'applestoapples': 1, 'comparison': 1, 'drawing': 2, 'wall': 1, 'depending': 1, 'efficient': 1, 'decent': 1, 'prefer': 1, 'debated': 1, 'internally': 1, 'spec': 2, 'wattage': 1, 'pulled': 1, 'supplyin': 1, 'caution': 1, 'decided': 2, 'dcr': 2, 'potentially': 1, 'reality': 2, 'piece': 1, 'assembled': 1, 'factory': 1, 'final': 1, 'specsa': 1, 'find': 4, 'redo': 1, 'available': 1, 'markup': 1, 'unless': 1, 'miss': 1, 'userbase': 1, 'refund': 2, 'warchest': 1, 'finish': 1, 'onetime': 1, 'exist': 1, 'inherently': 1, 'expensivethis': 1, 'firstbatch': 1, 'highest': 1, 'cant': 3, 'monopoly': 2, 'period': 3, 'roi': 2, 'looking': 2, 'exclusive': 2, 'swoop': 1, 'hashrate': 1, 'simultaneously': 1, 'steal': 1, 'userswe': 1, 'strategy': 1, 'protect': 1, 'answer': 1, 'coupon': 5, 'offering': 1, 'tier': 1, 'currently': 2, 'combined': 5, 'meaning': 1, 'promising': 3, 'rewarding': 1, 'buyersi': 1, 'help': 1, 'poured': 1, 'sweat': 1, 'stress': 1, 'studying': 1, 'gauntlet': 2, 'complete': 1, 'domain': 1, 'team': 1, 'homework': 1, 'contingency': 1, 'emergency': 1, 'measure': 1, 'padded': 1, 'confronted': 1, 'sew': 1, 'funding': 1, 'guarantee': 1, 'setback': 1, 'dollarswe': 1, 'asics': 1, 'raising': 1, 'eh': 1, 'mod': 1, 'salary': 1, 'appropriation': 1, 'gtjpmorgan': 1, 'chase': 1, 'ceo': 1, 'jamie': 1, 'dimon': 1, 'stir': 1, 'tuesday': 1, 'claiming': 1, 'valuation': 2, 'bubble': 1, 'burst': 1, 'hed': 1, 'fire': 1, 'division': 1, 'speculates': 1, 'marketflairworthy': 1, 'signal': 1, 'loli': 1, 'troll': 2, 'bash': 1, 'cashbut': 1, 'instant': 1, 'average': 1, 'premium': 1, 'secondsreally': 1, 'transact': 1, 'friendly': 1, 'supposedly': 1, 'wanting': 1, 'gained': 1, 'protest': 1, 'gtsummarygteth': 1, 'stabilized': 1, 'shown': 1, 'volatilitygteth': 1, 'responded': 1, 'growing': 1, 'pain': 1, 'continues': 1, 'technologist': 1, 'companiesgtupgrades': 1, 'especially': 1, 'casper': 1, 'incentivize': 1, 'leading': 1, 'rise': 3, 'scarcity': 1, 'tech': 3, 'adoptiongtbitcoin': 1, 'prospective': 1, 'skyrocketing': 1, 'alltime': 2, 'announcement': 1, 'cme': 1, 'waged': 1, 'cryptocurrenciesgta': 1, 'leader': 1, 'reckon': 1, 'smaller': 1, 'popular': 1, 'altcoins': 1, 'include': 1, 'ripple': 1, 'litecoingtthe': 1, 'cap': 2, 'eye': 1, 'platform': 1, 'singular': 1, 'bitcoingtethereum': 1, 'rocketed': 1, 'sits': 1, 'billiongtfor': 1, 'stable': 1, 'largescale': 1, 'provider': 1, 'parity': 2, 'lock': 1, 'flaw': 1, 'danger': 1, 'emerging': 1, 'response': 2, 'hack': 1, 'difficult': 2, 'rebounded': 1, 'reading': 1, 'title': 1, 'blindly': 1, 'upvoting': 1, 'general': 1, 'article': 1, 'prof': 1, 'ln': 1, 'decentralizedhttpsmediumcomjonaldfyookballmathematicalproofthatthelightningnetworkcannotbeadecentralizedbitcoinscalingsolutionb': 1, 'seriously': 2, 'online': 4, 'windows': 1, 'onbitcoin': 1, 'bankster': 1, 'brate': 1, 'ko': 1, 'kaze': 1, 'da': 5, 'je': 4, 'vecina': 1, 'ljudi': 2, 'na': 2, 'redditu': 1, 'tehnicki': 1, 'potkovana': 1, 'konkretno': 1, 'rserbia': 2, 'ja': 1, 'znam': 2, 'bar': 1, 'dve': 1, 'zenske': 1, 'osobe': 1, 'koje': 2, 'koriste': 1, 'eventualno': 1, 'ovde': 1, 'lurkuju': 1, 'bukvalno': 1, 'blage': 1, 'veze': 1, 'nemaju': 1, 'sa': 1, 'bitcoinima': 1, 'takodje': 1, 'nekoliko': 1, 'koji': 1, 'su': 1, 'useri': 1, 'zbog': 1, 'neceg': 1, 'skroz': 1, 'desetog': 1, 'igra': 1, 'rezbari': 1, 'drvo': 1, 'sece': 1, 'se': 2, 'automobilizam': 1, 'nba': 1, 'redditori': 1, 'kojih': 1, 'ima': 1, 'kolko': 1, 'oces': 1, 'iz': 1, 'srbije': 1, 'kojima': 1, 'bi': 1, 'ovo': 1, 'doslo': 1, 'fenomenalno': 1, 'kao': 2, 'google': 1, 'indeksirana': 1, 'stranica': 2, 'medju': 1, 'prvima': 1, 'pretrazi': 1, 'edukuju': 1, 'oko': 1, 'kriptovaluta': 1, 'znaju': 1, 'sta': 1, 'zapravo': 1, 'onecoin': 1, 'pitanju': 1, 'prevara': 1, 'ti': 1, 'ovaj': 1, 'dole': 1, 'rserbiantechgurus': 1, 'ne': 1, 'suggestion': 1, 'acceptancegt': 1, 'expensive': 1, 'merchant': 3, 'fortunately': 1, 'upgraded': 2, 'pos': 1, 'settle': 3, 'daystodo': 1, 'kit': 1, 'page': 1, 'accepting': 1, 'bampm': 1, 'marktrue': 1, 'scheme': 2, 'sad': 1, 'largely': 1, 'fail': 1, 'wipe': 1, 'invested': 1, 'hell': 1, 'supposed': 1, 'justifies': 1, 'consequence': 1, 'prevented': 1, 'piling': 1, 'wealth': 1, 'concept': 1, 'meaningas': 1, 'remember': 1, 'mantra': 1, 'succeeds': 1, 'youll': 1, 'hear': 1, 'lying': 1, 'represented': 1, 'shortterm': 1, 'minded': 1, 'getrichquick': 1, 'oppositional': 1, 'outright': 1, 'refused': 1, 'attend': 1, 'nya': 1, 'meeting': 1, 'convincing': 1, 'significant': 1, 'adverse': 1, 'decentralisation': 1, 'worried': 1, 'decision': 1, 'adapting': 1, 'changing': 1, 'hes': 1, 'logical': 1, 'reasoning': 1, 'emotional': 1, 'irrelevant': 1, 'congratulated': 1, 'bchcommon': 1, 'subreddit': 1, 'rational': 1, 'focus': 1, 'somebody': 2, 'vote': 1, 'voting': 1, 'survive': 1, 'nice': 1, 'participate': 1, 'witchhunts': 1, 'necessarily': 1, 'petabyte': 1, 'sometime': 2, 'slippery': 1, 'slope': 1, 'begin': 1, 'empty': 1, 'line': 2, 'settlement': 1, 'usage': 1, 'scale': 1, 'principle': 1, 'clogged': 1, 'starbucks': 1, 'catch': 1, 'method': 1, 'assertion': 1, 'spammer': 2, 'wouldnt': 1, 'hay': 1, 'spam': 4, 'bleed': 1, 'honest': 1, 'outstanding': 1}\n"
     ]
    }
   ],
   "source": [
    "processed = process_text(bitcoin_df.loc[bitcoin_df['wordbank'] == 1]['Reddit text'].to_list()[10])\n",
    "word_counts = Counter(processed)\n",
    "print(dict(word_counts))"
   ]
  },
  {
   "cell_type": "code",
   "execution_count": 38,
   "metadata": {},
   "outputs": [
    {
     "ename": "TypeError",
     "evalue": "sequence item 0: expected str instance, float found",
     "output_type": "error",
     "traceback": [
      "\u001b[1;31m---------------------------------------------------------------------------\u001b[0m",
      "\u001b[1;31mTypeError\u001b[0m                                 Traceback (most recent call last)",
      "\u001b[1;32m~\\AppData\\Local\\Temp/ipykernel_24948/98247598.py\u001b[0m in \u001b[0;36m<module>\u001b[1;34m\u001b[0m\n\u001b[1;32m----> 1\u001b[1;33m \u001b[0mword_counter\u001b[0m\u001b[1;33m(\u001b[0m\u001b[0mbitcoin_df\u001b[0m\u001b[1;33m.\u001b[0m\u001b[0mloc\u001b[0m\u001b[1;33m[\u001b[0m\u001b[0mbitcoin_df\u001b[0m\u001b[1;33m[\u001b[0m\u001b[1;34m'wordbank'\u001b[0m\u001b[1;33m]\u001b[0m \u001b[1;33m==\u001b[0m \u001b[1;36m1\u001b[0m\u001b[1;33m]\u001b[0m\u001b[1;33m[\u001b[0m\u001b[1;34m'Reddit text'\u001b[0m\u001b[1;33m]\u001b[0m\u001b[1;33m.\u001b[0m\u001b[0mto_list\u001b[0m\u001b[1;33m(\u001b[0m\u001b[1;33m)\u001b[0m\u001b[1;33m)\u001b[0m\u001b[1;33m\u001b[0m\u001b[1;33m\u001b[0m\u001b[0m\n\u001b[0m",
      "\u001b[1;32m~\\AppData\\Local\\Temp/ipykernel_24948/457367116.py\u001b[0m in \u001b[0;36mword_counter\u001b[1;34m(corpus)\u001b[0m\n\u001b[0;32m      1\u001b[0m \u001b[1;32mdef\u001b[0m \u001b[0mword_counter\u001b[0m\u001b[1;33m(\u001b[0m\u001b[0mcorpus\u001b[0m\u001b[1;33m)\u001b[0m\u001b[1;33m:\u001b[0m\u001b[1;33m\u001b[0m\u001b[1;33m\u001b[0m\u001b[0m\n\u001b[0;32m      2\u001b[0m     \u001b[1;31m# Combine all articles in corpus into one large string\u001b[0m\u001b[1;33m\u001b[0m\u001b[1;33m\u001b[0m\u001b[1;33m\u001b[0m\u001b[0m\n\u001b[1;32m----> 3\u001b[1;33m     \u001b[0mbig_string\u001b[0m \u001b[1;33m=\u001b[0m \u001b[1;34m' '\u001b[0m\u001b[1;33m.\u001b[0m\u001b[0mjoin\u001b[0m\u001b[1;33m(\u001b[0m\u001b[0mcorpus\u001b[0m\u001b[1;33m)\u001b[0m\u001b[1;33m\u001b[0m\u001b[1;33m\u001b[0m\u001b[0m\n\u001b[0m\u001b[0;32m      4\u001b[0m     \u001b[0mprocessed\u001b[0m \u001b[1;33m=\u001b[0m \u001b[0mprocess_text\u001b[0m\u001b[1;33m(\u001b[0m\u001b[0mbig_string\u001b[0m\u001b[1;33m)\u001b[0m\u001b[1;33m\u001b[0m\u001b[1;33m\u001b[0m\u001b[0m\n\u001b[0;32m      5\u001b[0m     \u001b[0mtop_10\u001b[0m \u001b[1;33m=\u001b[0m \u001b[0mdict\u001b[0m\u001b[1;33m(\u001b[0m\u001b[0mCounter\u001b[0m\u001b[1;33m(\u001b[0m\u001b[0mprocessed\u001b[0m\u001b[1;33m)\u001b[0m\u001b[1;33m.\u001b[0m\u001b[0mmost_common\u001b[0m\u001b[1;33m(\u001b[0m\u001b[1;36m10\u001b[0m\u001b[1;33m)\u001b[0m\u001b[1;33m)\u001b[0m\u001b[1;33m\u001b[0m\u001b[1;33m\u001b[0m\u001b[0m\n",
      "\u001b[1;31mTypeError\u001b[0m: sequence item 0: expected str instance, float found"
     ]
    }
   ],
   "source": [
    "word_counter(bitcoin_df.loc[bitcoin_df['wordbank'] == 1]['Reddit text'].to_list())"
   ]
  },
  {
   "cell_type": "markdown",
   "metadata": {
    "id": "tc6CznK23TKM"
   },
   "source": [
    "Seperating data into training and testing for classification models"
   ]
  },
  {
   "cell_type": "code",
   "execution_count": null,
   "metadata": {
    "id": "uim3PDMQ3Y6o"
   },
   "outputs": [],
   "source": [
    "X = bitcoin_df.drop(columns = ['class', 'Reddit text'])\n",
    "y = bitcoin_df['class']"
   ]
  },
  {
   "cell_type": "code",
   "execution_count": null,
   "metadata": {
    "colab": {
     "base_uri": "https://localhost:8080/"
    },
    "id": "Kh4i53Zn4eKZ",
    "outputId": "f0da6716-6ba7-4250-835b-e4a4f1f196f4"
   },
   "outputs": [
    {
     "data": {
      "text/plain": [
       "(1087, 11)"
      ]
     },
     "execution_count": 10,
     "metadata": {},
     "output_type": "execute_result"
    }
   ],
   "source": [
    "from sklearn.model_selection import train_test_split\n",
    "\n",
    "X_train, X_test, y_train, y_test = train_test_split(X, \n",
    "                                                    y, \n",
    "                                                    random_state=1, \n",
    "                                                    stratify=y)\n",
    "X_train.shape"
   ]
  },
  {
   "cell_type": "markdown",
   "metadata": {
    "id": "_N2FiREg2Kf8"
   },
   "source": [
    "Machine Learning Classification Model Using XGBoost"
   ]
  },
  {
   "cell_type": "code",
   "execution_count": null,
   "metadata": {
    "id": "nXCDQykC0WQ1"
   },
   "outputs": [],
   "source": []
  },
  {
   "cell_type": "markdown",
   "metadata": {
    "id": "ohMBmoyL3Jfo"
   },
   "source": [
    "Machine Learning Regression Model Using XGBoost"
   ]
  },
  {
   "cell_type": "code",
   "execution_count": null,
   "metadata": {
    "id": "lfsKjChC7ONH"
   },
   "outputs": [],
   "source": [
    "X = bitcoin_df.drop(columns = ['close', 'class', 'Reddit text', 'Reddit compound', 'Reddit neutral'])\n",
    "y = bitcoin_df['close']"
   ]
  },
  {
   "cell_type": "code",
   "execution_count": null,
   "metadata": {
    "id": "k-kMOiYW5JI2"
   },
   "outputs": [],
   "source": [
    "from numpy import absolute\n",
    "from pandas import read_csv\n",
    "from sklearn.model_selection import cross_val_score\n",
    "from sklearn.model_selection import RepeatedKFold\n",
    "from xgboost import XGBRegressor\n",
    "import numpy as np\n",
    "from sklearn.metrics import mean_squared_error"
   ]
  },
  {
   "cell_type": "code",
   "execution_count": null,
   "metadata": {
    "colab": {
     "base_uri": "https://localhost:8080/"
    },
    "id": "OKScXvTt0WTJ",
    "outputId": "ad87d091-1fa7-406c-d157-9a37a38dec31"
   },
   "outputs": [
    {
     "name": "stdout",
     "output_type": "stream",
     "text": [
      "Mean MAE: 193.262 (96.966)\n"
     ]
    }
   ],
   "source": [
    "# define model\n",
    "model = XGBRegressor()\n",
    "# define model evaluation method\n",
    "cv = RepeatedKFold(n_splits=100, n_repeats=30, random_state=1)\n",
    "# evaluate model\n",
    "scores = cross_val_score(model, X, y, scoring='neg_mean_absolute_error', cv=cv, n_jobs=-1)\n",
    "# force scores to be positive\n",
    "scores = absolute(scores)\n",
    "print('Mean MAE: %.3f (%.3f)' % (scores.mean(), scores.std()) )"
   ]
  },
  {
   "cell_type": "code",
   "execution_count": null,
   "metadata": {
    "colab": {
     "base_uri": "https://localhost:8080/"
    },
    "id": "Yx4nOC6G7o_z",
    "outputId": "acb3ec18-0321-4f19-e067-b428bfaf19c1"
   },
   "outputs": [
    {
     "data": {
      "text/plain": [
       "array([195.01338867, 196.00869141,  42.73589779, ..., 166.01682896,\n",
       "       360.20175502, 248.41078265])"
      ]
     },
     "execution_count": 14,
     "metadata": {},
     "output_type": "execute_result"
    }
   ],
   "source": [
    "scores"
   ]
  },
  {
   "cell_type": "code",
   "execution_count": null,
   "metadata": {
    "colab": {
     "base_uri": "https://localhost:8080/"
    },
    "id": "6ETNlwpw5hfM",
    "outputId": "418f0d70-aa72-4da0-bf38-51ea6aaf9fc2"
   },
   "outputs": [
    {
     "name": "stdout",
     "output_type": "stream",
     "text": [
      "RMSE: 8481.253549\n"
     ]
    }
   ],
   "source": [
    "data_dmatrix = xgboost.DMatrix(data=X,label=y)\n",
    "X_train, X_test, y_train, y_test = train_test_split(X, y, test_size=0.2, random_state=123)\n",
    "xg_reg = xgboost.XGBRegressor(objective ='reg:squarederror', colsample_bytree = 0.3, learning_rate = 0.1,\n",
    "                max_depth = 5, alpha = 10, n_estimators = 10)\n",
    "xg_reg.fit(X_train,y_train)\n",
    "\n",
    "preds = xg_reg.predict(X_test)\n",
    "rmse = np.sqrt(mean_squared_error(y_test, preds))\n",
    "print(\"RMSE: %f\" % (rmse))"
   ]
  },
  {
   "cell_type": "code",
   "execution_count": null,
   "metadata": {
    "colab": {
     "base_uri": "https://localhost:8080/"
    },
    "id": "YNXIP-W56Iwh",
    "outputId": "9ca9c1a6-0c41-4aec-a689-80155c29b971"
   },
   "outputs": [
    {
     "data": {
      "text/plain": [
       "array([ 6804.0127, 27271.352 ,  5672.363 ,  3581.5425,  6796.3735,\n",
       "        5832.606 ,  8648.116 ,  8000.5767,  4984.3857,  6906.9897,\n",
       "        5142.932 , 17941.455 ,  6291.028 ,  6100.842 ,  4821.76  ,\n",
       "        9065.995 ,  9145.751 , 26565.834 ,  2716.9636, 22833.78  ,\n",
       "        5374.0713,  8831.535 , 18947.674 ,  3985.2488,  4911.622 ,\n",
       "        5375.1953,  6823.9863,  3526.6963,  7354.4634,  5661.364 ,\n",
       "        6744.9043,  3526.6963, 17777.865 ,  6756.7153,  5272.3794,\n",
       "       24945.656 ,  7090.5503,  6832.3286,  7930.929 ,  8002.681 ,\n",
       "       11280.928 ,  6679.3057,  6777.732 ,  7397.344 , 16985.566 ,\n",
       "       25563.584 ,  8009.5347, 11849.885 , 25248.615 ,  4946.7407,\n",
       "       25461.424 ,  3728.604 ,  5785.528 ,  9119.191 ,  4902.7456,\n",
       "        4644.9634,  4939.718 ,  5752.728 ,  6802.4136,  5567.5015,\n",
       "        5658.939 , 11679.223 ,  3620.7742,  7326.8525,  9214.11  ,\n",
       "        5075.354 ,  6878.967 ,  5104.9854,  5613.1943,  4008.2983,\n",
       "        5817.6147,  7790.096 , 24403.07  , 13460.626 ,  8191.868 ,\n",
       "        4441.008 ,  7243.091 , 20889.383 ,  7483.458 , 19507.105 ,\n",
       "        6866.2393,  6516.1865, 18630.174 ,  6870.8916, 10260.381 ,\n",
       "        7770.3247,  6879.202 ,  6382.301 ,  8617.824 ,  4770.978 ,\n",
       "       10202.169 ,  6801.2666,  7501.974 , 10426.165 ,  6505.113 ,\n",
       "        5295.944 ,  4871.17  , 12996.252 ,  7383.063 ,  6434.807 ,\n",
       "        6084.4263, 25788.967 , 24413.822 ,  8603.371 ,  5230.359 ,\n",
       "       10078.698 ,  3359.9949,  4463.7544,  5808.798 ,  4596.5405,\n",
       "        7669.435 ,  5231.165 ,  6597.6084, 10383.19  ,  7483.0825,\n",
       "        7845.717 ,  5104.9854,  6562.461 ,  6187.624 , 19324.36  ,\n",
       "        7029.3506,  5849.5547,  7118.571 ,  5154.3965,  7264.9355,\n",
       "        6323.1963,  5903.959 , 10666.742 ,  9588.134 ,  7680.932 ,\n",
       "        8219.28  ,  6761.532 ,  6962.3315, 17106.576 ,  6889.1455,\n",
       "        7315.7017,  8134.949 ,  6962.0664,  5104.9854,  6677.002 ,\n",
       "        5043.914 ,  3498.8792, 20271.746 ,  7973.645 ,  7731.51  ,\n",
       "        5646.017 ,  8195.182 ,  5237.4526,  9683.17  , 24097.13  ,\n",
       "        7960.833 ,  7704.4053,  7327.483 ,  9954.993 ,  6736.9263,\n",
       "       25461.424 ,  7431.1006,  5893.4688,  8532.36  ,  6588.6104,\n",
       "        6758.395 ,  9640.147 ,  6558.017 ,  5946.523 ,  6287.6055,\n",
       "       19478.543 ,  9688.698 ,  4784.5044,  4463.7544,  7412.2524,\n",
       "       10989.746 ,  7402.109 ,  6355.555 , 19373.408 ,  6895.071 ,\n",
       "        7159.915 ,  9429.677 , 11315.62  ,  7911.2905,  7271.7285,\n",
       "       16204.459 ,  6500.157 , 25448.316 ,  4699.0273, 26320.094 ,\n",
       "        7352.936 ,  5840.8916,  8081.5615,  9300.592 ,  5958.0483,\n",
       "        5601.0864,  6698.8335,  3630.9534,  8662.193 , 17260.365 ,\n",
       "        8868.134 ,  8644.663 ,  3904.001 ,  7363.878 ,  6357.229 ,\n",
       "        6436.31  ,  3864.7693,  7264.203 ,  7273.462 ,  7809.2905,\n",
       "        8510.541 , 26320.094 ,  8520.504 , 12468.472 ,  5646.017 ,\n",
       "        8061.944 ,  6500.604 ,  6661.062 ,  4228.029 ,  6764.1104,\n",
       "        6475.4033,  8454.389 ,  5815.3086,  7646.6587,  6192.584 ,\n",
       "       18150.979 ,  5698.6377,  5894.928 ,  3739.7954,  4821.76  ,\n",
       "        7469.5454,  5985.2646,  7360.786 ,  3408.605 ,  7572.3135,\n",
       "        5943.0625,  7881.2236,  5663.991 ,  4825.6445,  6734.42  ,\n",
       "        5012.7173,  7839.9927,  6221.1143,  6469.1055,  6564.8315,\n",
       "        8820.588 ,  4740.7256, 17820.621 , 10667.582 , 27552.418 ,\n",
       "        5986.212 , 25425.344 , 10239.68  , 11408.14  ,  7474.8223,\n",
       "        4692.4834,  6913.019 ,  7648.055 ,  7597.536 ,  7723.2886,\n",
       "       18096.367 , 24529.312 ,  5912.167 ,  7803.9727,  9566.567 ,\n",
       "        9132.726 , 10946.107 ,  6100.842 ,  4821.76  ,  5586.4307,\n",
       "        8124.6235,  4463.7544, 11993.311 ,  8048.3535,  7929.1465,\n",
       "        4264.427 ,  4821.76  ,  7150.315 ,  4163.8916,  8044.8374,\n",
       "        4107.549 , 10111.572 ,  6884.063 ,  7145.718 ,  3652.5256,\n",
       "        5253.0693,  8152.003 ,  4789.94  , 18760.674 ,  6227.5005,\n",
       "        5434.263 , 18949.508 ,  7886.604 ,  8087.154 ,  6147.281 ],\n",
       "      dtype=float32)"
      ]
     },
     "execution_count": 16,
     "metadata": {},
     "output_type": "execute_result"
    }
   ],
   "source": [
    "preds"
   ]
  },
  {
   "cell_type": "code",
   "execution_count": null,
   "metadata": {
    "id": "cR0YWiDZ6Iy3"
   },
   "outputs": [],
   "source": []
  },
  {
   "cell_type": "markdown",
   "metadata": {
    "id": "aO5vpr2g3MHw"
   },
   "source": [
    "Machine Learning Classification Model Using Random Forest"
   ]
  },
  {
   "cell_type": "code",
   "execution_count": null,
   "metadata": {
    "id": "bRQrlG-53Oto"
   },
   "outputs": [],
   "source": [
    "from sklearn.ensemble import RandomForestClassifier\n",
    "from sklearn.model_selection import GridSearchCV\n",
    "from sklearn.model_selection import train_test_split"
   ]
  },
  {
   "cell_type": "markdown",
   "metadata": {
    "id": "6PqkTS-SCwp5"
   },
   "source": []
  },
  {
   "cell_type": "code",
   "execution_count": null,
   "metadata": {
    "id": "3wcT5kjJyraf"
   },
   "outputs": [],
   "source": [
    "y = bitcoin_df['class']"
   ]
  },
  {
   "cell_type": "code",
   "execution_count": null,
   "metadata": {
    "id": "PoiUZqBxyO-J"
   },
   "outputs": [],
   "source": [
    "X_train, X_test, y_train, y_test = train_test_split(X, y, test_size=0.2, random_state=123)"
   ]
  },
  {
   "cell_type": "code",
   "execution_count": null,
   "metadata": {
    "id": "oCDfXGGr-hhp"
   },
   "outputs": [],
   "source": [
    "search_params = {\n",
    "    'n_estimators'      : [5, 10, 20, 30, 50, 100, 300],\n",
    "    'max_features'      : [i for i in range(1,X_train.shape[1])],\n",
    "    'random_state'      : [1],\n",
    "    'n_jobs'            : [1],\n",
    "    'min_samples_split' : [3, 5, 10, 15, 20, 25, 30, 40, 50, 100],\n",
    "    'max_depth'         : [3, 5, 10, 15, 20, 25, 30, 40, 50, 100]\n",
    "}"
   ]
  },
  {
   "cell_type": "code",
   "execution_count": null,
   "metadata": {
    "colab": {
     "base_uri": "https://localhost:8080/"
    },
    "id": "2FJ63J0mtGwg",
    "outputId": "d7e73004-0e27-4b08-87eb-d8294329dd1b"
   },
   "outputs": [
    {
     "name": "stdout",
     "output_type": "stream",
     "text": [
      "Fitting 3 folds for each of 4900 candidates, totalling 14700 fits\n"
     ]
    },
    {
     "data": {
      "text/plain": [
       "GridSearchCV(cv=3, estimator=RandomForestClassifier(), n_jobs=-1,\n",
       "             param_grid={'max_depth': [3, 5, 10, 15, 20, 25, 30, 40, 50, 100],\n",
       "                         'max_features': [1, 2, 3, 4, 5, 6, 7],\n",
       "                         'min_samples_split': [3, 5, 10, 15, 20, 25, 30, 40, 50,\n",
       "                                               100],\n",
       "                         'n_estimators': [5, 10, 20, 30, 50, 100, 300],\n",
       "                         'n_jobs': [1], 'random_state': [1]},\n",
       "             verbose=True)"
      ]
     },
     "execution_count": 22,
     "metadata": {},
     "output_type": "execute_result"
    }
   ],
   "source": [
    "gsc = GridSearchCV(\n",
    "    RandomForestClassifier(),\n",
    "    search_params,\n",
    "    cv = 3,\n",
    "    n_jobs = -1,\n",
    "    verbose=True)\n",
    "\n",
    "gsc.fit(X_train, y_train)"
   ]
  },
  {
   "cell_type": "code",
   "execution_count": null,
   "metadata": {
    "colab": {
     "base_uri": "https://localhost:8080/"
    },
    "id": "fsi7H8g0BhgK",
    "outputId": "f4c29954-9b78-4177-9e0f-69c6c90098b3"
   },
   "outputs": [
    {
     "data": {
      "text/plain": [
       "RandomForestClassifier(max_depth=3, max_features=4, min_samples_split=3,\n",
       "                       n_jobs=1, random_state=1)"
      ]
     },
     "execution_count": 23,
     "metadata": {},
     "output_type": "execute_result"
    }
   ],
   "source": [
    "gsc.best_estimator_"
   ]
  },
  {
   "cell_type": "markdown",
   "metadata": {
    "id": "HCx1MHxk3O0f"
   },
   "source": [
    "Machine Learning Regression Model Using Random Forest\n"
   ]
  },
  {
   "cell_type": "code",
   "execution_count": null,
   "metadata": {
    "id": "bapiVizi3R3T"
   },
   "outputs": [],
   "source": [
    "from sklearn.ensemble import RandomForestRegressor\n",
    "from sklearn.model_selection import GridSearchCV"
   ]
  },
  {
   "cell_type": "code",
   "execution_count": null,
   "metadata": {
    "colab": {
     "base_uri": "https://localhost:8080/"
    },
    "id": "sXSfKcWB-1_b",
    "outputId": "845f44c2-d5c8-4342-d94d-4692b118a525"
   },
   "outputs": [
    {
     "name": "stdout",
     "output_type": "stream",
     "text": [
      "Fitting 3 folds for each of 5600 candidates, totalling 16800 fits\n"
     ]
    },
    {
     "data": {
      "text/plain": [
       "GridSearchCV(cv=3, estimator=RandomForestRegressor(), n_jobs=-1,\n",
       "             param_grid={'max_depth': [3, 5, 10, 15, 20, 25, 30, 40, 50, 100],\n",
       "                         'max_features': [1, 2, 3, 4, 5, 6, 7, 8],\n",
       "                         'min_samples_split': [3, 5, 10, 15, 20, 25, 30, 40, 50,\n",
       "                                               100],\n",
       "                         'n_estimators': [5, 10, 20, 30, 50, 100, 300],\n",
       "                         'n_jobs': [1], 'random_state': [2525]},\n",
       "             verbose=True)"
      ]
     },
     "execution_count": 23,
     "metadata": {},
     "output_type": "execute_result"
    }
   ],
   "source": [
    "gsr = GridSearchCV(\n",
    "    RandomForestRegressor(),\n",
    "    search_params,\n",
    "    cv = 3,\n",
    "    n_jobs = -1,\n",
    "    verbose=True)\n",
    "\n",
    "gsr.fit(X_train, y_train)"
   ]
  },
  {
   "cell_type": "code",
   "execution_count": null,
   "metadata": {
    "colab": {
     "base_uri": "https://localhost:8080/"
    },
    "id": "SPb_4ehiGm2J",
    "outputId": "d85ec885-19f1-49b2-f95f-0b05dfd4f0c9"
   },
   "outputs": [
    {
     "data": {
      "text/plain": [
       "RandomForestRegressor(max_depth=15, max_features=6, min_samples_split=3,\n",
       "                      n_estimators=300, n_jobs=1, random_state=2525)"
      ]
     },
     "execution_count": 24,
     "metadata": {},
     "output_type": "execute_result"
    }
   ],
   "source": [
    "gsr.best_estimator_"
   ]
  },
  {
   "cell_type": "markdown",
   "metadata": {
    "id": "EUoFIR-o8lkT"
   },
   "source": [
    "Machine Leaning Regression Model Using LSTM RNN"
   ]
  },
  {
   "cell_type": "code",
   "execution_count": null,
   "metadata": {
    "id": "PHYjaWpC8flc"
   },
   "outputs": [],
   "source": [
    "from tensorflow.keras import Sequential\n",
    "from tensorflow.keras.layers import LSTM, Dense, Dropout\n",
    "from tensorflow.keras.callbacks import EarlyStopping"
   ]
  },
  {
   "cell_type": "code",
   "execution_count": null,
   "metadata": {
    "colab": {
     "base_uri": "https://localhost:8080/",
     "height": 237
    },
    "id": "Gv0rvcyRYqMa",
    "outputId": "9095728a-498e-4db9-e637-6d20317751ca"
   },
   "outputs": [
    {
     "data": {
      "text/html": [
       "<div>\n",
       "<style scoped>\n",
       "    .dataframe tbody tr th:only-of-type {\n",
       "        vertical-align: middle;\n",
       "    }\n",
       "\n",
       "    .dataframe tbody tr th {\n",
       "        vertical-align: top;\n",
       "    }\n",
       "\n",
       "    .dataframe thead th {\n",
       "        text-align: right;\n",
       "    }\n",
       "</style>\n",
       "<table border=\"1\" class=\"dataframe\">\n",
       "  <thead>\n",
       "    <tr style=\"text-align: right;\">\n",
       "      <th></th>\n",
       "      <th>close</th>\n",
       "      <th>volume</th>\n",
       "      <th>Reddit positive</th>\n",
       "      <th>Reddit negative</th>\n",
       "      <th>bitcoin</th>\n",
       "    </tr>\n",
       "    <tr>\n",
       "      <th>date</th>\n",
       "      <th></th>\n",
       "      <th></th>\n",
       "      <th></th>\n",
       "      <th></th>\n",
       "      <th></th>\n",
       "    </tr>\n",
       "  </thead>\n",
       "  <tbody>\n",
       "    <tr>\n",
       "      <th>2017-08-18</th>\n",
       "      <td>-0.713786</td>\n",
       "      <td>-1.312537</td>\n",
       "      <td>0.349839</td>\n",
       "      <td>0.123140</td>\n",
       "      <td>1.035322</td>\n",
       "    </tr>\n",
       "    <tr>\n",
       "      <th>2017-08-19</th>\n",
       "      <td>-0.711481</td>\n",
       "      <td>-1.334216</td>\n",
       "      <td>0.070600</td>\n",
       "      <td>0.438606</td>\n",
       "      <td>0.741164</td>\n",
       "    </tr>\n",
       "    <tr>\n",
       "      <th>2017-08-20</th>\n",
       "      <td>-0.715396</td>\n",
       "      <td>-1.331944</td>\n",
       "      <td>0.238144</td>\n",
       "      <td>1.187836</td>\n",
       "      <td>0.406350</td>\n",
       "    </tr>\n",
       "    <tr>\n",
       "      <th>2017-08-21</th>\n",
       "      <td>-0.720521</td>\n",
       "      <td>-1.325994</td>\n",
       "      <td>0.266068</td>\n",
       "      <td>0.990670</td>\n",
       "      <td>0.401567</td>\n",
       "    </tr>\n",
       "    <tr>\n",
       "      <th>2017-08-22</th>\n",
       "      <td>-0.718771</td>\n",
       "      <td>-1.318713</td>\n",
       "      <td>0.321915</td>\n",
       "      <td>1.148403</td>\n",
       "      <td>0.858349</td>\n",
       "    </tr>\n",
       "  </tbody>\n",
       "</table>\n",
       "</div>"
      ],
      "text/plain": [
       "               close    volume  Reddit positive  Reddit negative   bitcoin\n",
       "date                                                                      \n",
       "2017-08-18 -0.713786 -1.312537         0.349839         0.123140  1.035322\n",
       "2017-08-19 -0.711481 -1.334216         0.070600         0.438606  0.741164\n",
       "2017-08-20 -0.715396 -1.331944         0.238144         1.187836  0.406350\n",
       "2017-08-21 -0.720521 -1.325994         0.266068         0.990670  0.401567\n",
       "2017-08-22 -0.718771 -1.318713         0.321915         1.148403  0.858349"
      ]
     },
     "execution_count": 34,
     "metadata": {},
     "output_type": "execute_result"
    }
   ],
   "source": [
    "sliced = bitcoin_df[['close', 'volume', 'Reddit positive', 'Reddit negative', 'bitcoin']]\n",
    "scaled = (sliced - sliced.mean())/sliced.std()\n",
    "scaled.head()"
   ]
  },
  {
   "cell_type": "code",
   "execution_count": null,
   "metadata": {
    "id": "XiQ_wF9BBfza"
   },
   "outputs": [],
   "source": [
    "def target(df, column, steps):\n",
    "    target = []\n",
    "    for i in range(len(df) - steps):\n",
    "        t = df.iloc[i + steps, column]\n",
    "        target.append(t)\n",
    "    return np.array(target).reshape(-1, 1)\n",
    "\n",
    "def features(df, columns, steps):\n",
    "    features = []\n",
    "    for c in range(len(columns)):\n",
    "        feature = []\n",
    "        for i in range(len(df) - steps):\n",
    "            f = list(df.iloc[i : i + steps, columns[c]])\n",
    "            feature.append(f)\n",
    "        features.append(feature)\n",
    "    return np.array(features).T"
   ]
  },
  {
   "cell_type": "code",
   "execution_count": null,
   "metadata": {
    "id": "vxYr5gRqCGPD"
   },
   "outputs": [],
   "source": [
    "y = target(scaled, 0, 10)\n",
    "X = features(scaled, list(range(1,5)), 10)"
   ]
  },
  {
   "cell_type": "code",
   "execution_count": null,
   "metadata": {
    "colab": {
     "base_uri": "https://localhost:8080/"
    },
    "id": "LYdL3HafC5LL",
    "outputId": "16d26929-1db7-4fe3-8931-896b7cb36d07"
   },
   "outputs": [
    {
     "data": {
      "text/plain": [
       "(10, 1440, 4)"
      ]
     },
     "execution_count": 37,
     "metadata": {},
     "output_type": "execute_result"
    }
   ],
   "source": [
    "X.shape"
   ]
  },
  {
   "cell_type": "code",
   "execution_count": null,
   "metadata": {
    "id": "oX7ifbI8C_6f"
   },
   "outputs": [],
   "source": [
    "X = X.reshape(1440, 10, 4)"
   ]
  },
  {
   "cell_type": "code",
   "execution_count": null,
   "metadata": {
    "id": "eLRiQ1i2DKwD"
   },
   "outputs": [],
   "source": [
    "tt_split = int(len(X) * 0.8)\n",
    "X_train = X[: tt_split]\n",
    "X_test = X[tt_split :]\n",
    "y_train = y[: tt_split]\n",
    "y_test = y[tt_split :]"
   ]
  },
  {
   "cell_type": "code",
   "execution_count": null,
   "metadata": {
    "id": "BkSTotwnDRvC"
   },
   "outputs": [],
   "source": [
    "model = Sequential()\n",
    "neurons = 30\n",
    "model.add(LSTM(units=neurons, return_sequences=True, input_shape=(X.shape[1], 4)))\n",
    "model.add(Dropout(0.2))\n",
    "model.add(LSTM(units=neurons))\n",
    "model.add(Dropout(0.2))\n",
    "model.add(Dense(1))"
   ]
  },
  {
   "cell_type": "code",
   "execution_count": null,
   "metadata": {
    "id": "qHaIiUz8DjXE"
   },
   "outputs": [],
   "source": [
    "model.compile(loss='mse', optimizer='Adam', metrics=['mae'])"
   ]
  },
  {
   "cell_type": "code",
   "execution_count": null,
   "metadata": {
    "colab": {
     "base_uri": "https://localhost:8080/"
    },
    "id": "y9EnWrEgDs5M",
    "outputId": "a06443cf-7c7d-4307-b19e-9f1cd2d3a2e8"
   },
   "outputs": [
    {
     "name": "stdout",
     "output_type": "stream",
     "text": [
      "Model: \"sequential_1\"\n",
      "_________________________________________________________________\n",
      " Layer (type)                Output Shape              Param #   \n",
      "=================================================================\n",
      " lstm_2 (LSTM)               (None, 10, 30)            4200      \n",
      "                                                                 \n",
      " dropout_2 (Dropout)         (None, 10, 30)            0         \n",
      "                                                                 \n",
      " lstm_3 (LSTM)               (None, 30)                7320      \n",
      "                                                                 \n",
      " dropout_3 (Dropout)         (None, 30)                0         \n",
      "                                                                 \n",
      " dense_1 (Dense)             (None, 1)                 31        \n",
      "                                                                 \n",
      "=================================================================\n",
      "Total params: 11,551\n",
      "Trainable params: 11,551\n",
      "Non-trainable params: 0\n",
      "_________________________________________________________________\n"
     ]
    }
   ],
   "source": [
    "model.summary()"
   ]
  },
  {
   "cell_type": "code",
   "execution_count": null,
   "metadata": {
    "id": "TQX20ALxDyZz"
   },
   "outputs": [],
   "source": [
    "stop = EarlyStopping(monitor='mae', mode='min', patience=30, verbose=1)"
   ]
  },
  {
   "cell_type": "code",
   "execution_count": null,
   "metadata": {
    "colab": {
     "base_uri": "https://localhost:8080/"
    },
    "id": "iz3wcjNyD_-S",
    "outputId": "3e1872ea-feb3-4696-afb0-f7c16d70b248"
   },
   "outputs": [
    {
     "name": "stdout",
     "output_type": "stream",
     "text": [
      "Epoch 1/100\n",
      "231/231 [==============================] - 6s 9ms/step - loss: 0.0511 - mae: 0.1706\n",
      "Epoch 2/100\n",
      "231/231 [==============================] - 2s 9ms/step - loss: 0.0429 - mae: 0.1643\n",
      "Epoch 3/100\n",
      "231/231 [==============================] - 2s 9ms/step - loss: 0.0417 - mae: 0.1654\n",
      "Epoch 4/100\n",
      "231/231 [==============================] - 2s 9ms/step - loss: 0.0418 - mae: 0.1673\n",
      "Epoch 5/100\n",
      "231/231 [==============================] - 2s 9ms/step - loss: 0.0423 - mae: 0.1688\n",
      "Epoch 6/100\n",
      "231/231 [==============================] - 2s 9ms/step - loss: 0.0429 - mae: 0.1700\n",
      "Epoch 7/100\n",
      "231/231 [==============================] - 2s 9ms/step - loss: 0.0435 - mae: 0.1712\n",
      "Epoch 8/100\n",
      "231/231 [==============================] - 2s 9ms/step - loss: 0.0423 - mae: 0.1693\n",
      "Epoch 9/100\n",
      "231/231 [==============================] - 2s 10ms/step - loss: 0.0436 - mae: 0.1723\n",
      "Epoch 10/100\n",
      "231/231 [==============================] - 2s 10ms/step - loss: 0.0437 - mae: 0.1732\n",
      "Epoch 11/100\n",
      "231/231 [==============================] - 2s 9ms/step - loss: 0.0435 - mae: 0.1722\n",
      "Epoch 12/100\n",
      "231/231 [==============================] - 2s 9ms/step - loss: 0.0427 - mae: 0.1702\n",
      "Epoch 13/100\n",
      "231/231 [==============================] - 2s 9ms/step - loss: 0.0431 - mae: 0.1718\n",
      "Epoch 14/100\n",
      "231/231 [==============================] - 2s 9ms/step - loss: 0.0431 - mae: 0.1719\n",
      "Epoch 15/100\n",
      "231/231 [==============================] - 2s 9ms/step - loss: 0.0432 - mae: 0.1721\n",
      "Epoch 16/100\n",
      "231/231 [==============================] - 2s 9ms/step - loss: 0.0425 - mae: 0.1708\n",
      "Epoch 17/100\n",
      "231/231 [==============================] - 2s 9ms/step - loss: 0.0431 - mae: 0.1719\n",
      "Epoch 18/100\n",
      "231/231 [==============================] - 2s 10ms/step - loss: 0.0429 - mae: 0.1720\n",
      "Epoch 19/100\n",
      "231/231 [==============================] - 2s 10ms/step - loss: 0.0430 - mae: 0.1719\n",
      "Epoch 20/100\n",
      "231/231 [==============================] - 2s 10ms/step - loss: 0.0427 - mae: 0.1716\n",
      "Epoch 21/100\n",
      "231/231 [==============================] - 2s 10ms/step - loss: 0.0424 - mae: 0.1705\n",
      "Epoch 22/100\n",
      "231/231 [==============================] - 2s 10ms/step - loss: 0.0429 - mae: 0.1717\n",
      "Epoch 23/100\n",
      "231/231 [==============================] - 2s 9ms/step - loss: 0.0428 - mae: 0.1714\n",
      "Epoch 24/100\n",
      "231/231 [==============================] - 2s 9ms/step - loss: 0.0423 - mae: 0.1707\n",
      "Epoch 25/100\n",
      "231/231 [==============================] - 2s 9ms/step - loss: 0.0424 - mae: 0.1709\n",
      "Epoch 26/100\n",
      "231/231 [==============================] - 2s 9ms/step - loss: 0.0423 - mae: 0.1703\n",
      "Epoch 27/100\n",
      "231/231 [==============================] - 2s 10ms/step - loss: 0.0422 - mae: 0.1705\n",
      "Epoch 28/100\n",
      "231/231 [==============================] - 2s 9ms/step - loss: 0.0426 - mae: 0.1709\n",
      "Epoch 29/100\n",
      "231/231 [==============================] - 2s 9ms/step - loss: 0.0422 - mae: 0.1706\n",
      "Epoch 30/100\n",
      "231/231 [==============================] - 2s 9ms/step - loss: 0.0421 - mae: 0.1701\n",
      "Epoch 31/100\n",
      "231/231 [==============================] - 2s 9ms/step - loss: 0.0419 - mae: 0.1691\n",
      "Epoch 32/100\n",
      "231/231 [==============================] - 2s 9ms/step - loss: 0.0420 - mae: 0.1700\n",
      "Epoch 00032: early stopping\n"
     ]
    },
    {
     "data": {
      "text/plain": [
       "<keras.callbacks.History at 0x7f653972f5d0>"
      ]
     },
     "execution_count": 44,
     "metadata": {},
     "output_type": "execute_result"
    }
   ],
   "source": [
    "model.fit(X_train, y_train, epochs=100, batch_size=5, verbose=1, shuffle=False, callbacks=[stop])"
   ]
  },
  {
   "cell_type": "code",
   "execution_count": null,
   "metadata": {
    "colab": {
     "base_uri": "https://localhost:8080/"
    },
    "id": "O3QsqVtdFQNK",
    "outputId": "06a64ede-18c2-4671-f3ce-ca9c86912b3a"
   },
   "outputs": [
    {
     "name": "stdout",
     "output_type": "stream",
     "text": [
      "9/9 [==============================] - 1s 3ms/step - loss: 5.6680 - mae: 2.1477\n"
     ]
    },
    {
     "data": {
      "text/plain": [
       "[5.667972087860107, 2.1477038860321045]"
      ]
     },
     "execution_count": 45,
     "metadata": {},
     "output_type": "execute_result"
    }
   ],
   "source": [
    "model.evaluate(X_test, y_test)"
   ]
  },
  {
   "cell_type": "code",
   "execution_count": null,
   "metadata": {
    "id": "U6vM9QQNampB"
   },
   "outputs": [],
   "source": [
    "predicted = model.predict(X_test)"
   ]
  },
  {
   "cell_type": "code",
   "execution_count": null,
   "metadata": {
    "id": "kXAKyQaLavln"
   },
   "outputs": [],
   "source": [
    "predicted = (predicted * sliced['close'].std()) + sliced['close'].mean()"
   ]
  },
  {
   "cell_type": "code",
   "execution_count": null,
   "metadata": {
    "id": "0NwearfxfJMj"
   },
   "outputs": [],
   "source": [
    "actual = (y_test * sliced['close'].std()) + sliced['close'].mean()"
   ]
  },
  {
   "cell_type": "code",
   "execution_count": null,
   "metadata": {
    "colab": {
     "base_uri": "https://localhost:8080/",
     "height": 237
    },
    "id": "N2oo89ybfZeZ",
    "outputId": "5c2b2876-f4e0-4496-bbe5-e5c02ddede38"
   },
   "outputs": [
    {
     "data": {
      "text/html": [
       "<div>\n",
       "<style scoped>\n",
       "    .dataframe tbody tr th:only-of-type {\n",
       "        vertical-align: middle;\n",
       "    }\n",
       "\n",
       "    .dataframe tbody tr th {\n",
       "        vertical-align: top;\n",
       "    }\n",
       "\n",
       "    .dataframe thead th {\n",
       "        text-align: right;\n",
       "    }\n",
       "</style>\n",
       "<table border=\"1\" class=\"dataframe\">\n",
       "  <thead>\n",
       "    <tr style=\"text-align: right;\">\n",
       "      <th></th>\n",
       "      <th>Actual</th>\n",
       "      <th>Predicted</th>\n",
       "    </tr>\n",
       "    <tr>\n",
       "      <th>date</th>\n",
       "      <th></th>\n",
       "      <th></th>\n",
       "    </tr>\n",
       "  </thead>\n",
       "  <tbody>\n",
       "    <tr>\n",
       "      <th>2020-10-23</th>\n",
       "      <td>12923.07</td>\n",
       "      <td>8238.943359</td>\n",
       "    </tr>\n",
       "    <tr>\n",
       "      <th>2020-10-24</th>\n",
       "      <td>13111.73</td>\n",
       "      <td>8206.755859</td>\n",
       "    </tr>\n",
       "    <tr>\n",
       "      <th>2020-10-25</th>\n",
       "      <td>13028.83</td>\n",
       "      <td>8217.304688</td>\n",
       "    </tr>\n",
       "    <tr>\n",
       "      <th>2020-10-26</th>\n",
       "      <td>13052.19</td>\n",
       "      <td>8236.549805</td>\n",
       "    </tr>\n",
       "    <tr>\n",
       "      <th>2020-10-27</th>\n",
       "      <td>13636.17</td>\n",
       "      <td>8205.213867</td>\n",
       "    </tr>\n",
       "  </tbody>\n",
       "</table>\n",
       "</div>"
      ],
      "text/plain": [
       "              Actual    Predicted\n",
       "date                             \n",
       "2020-10-23  12923.07  8238.943359\n",
       "2020-10-24  13111.73  8206.755859\n",
       "2020-10-25  13028.83  8217.304688\n",
       "2020-10-26  13052.19  8236.549805\n",
       "2020-10-27  13636.17  8205.213867"
      ]
     },
     "execution_count": 49,
     "metadata": {},
     "output_type": "execute_result"
    }
   ],
   "source": [
    "result_df = pd.DataFrame({'Actual': actual.ravel(), 'Predicted': predicted.ravel()}, index=sliced.index[-len(actual):])\n",
    "result_df.head()"
   ]
  },
  {
   "cell_type": "code",
   "execution_count": null,
   "metadata": {
    "colab": {
     "base_uri": "https://localhost:8080/",
     "height": 297
    },
    "id": "tnqWAcX5fpUR",
    "outputId": "fe02b454-8523-45b0-a3d2-f13de2f58354"
   },
   "outputs": [
    {
     "data": {
      "text/plain": [
       "<matplotlib.axes._subplots.AxesSubplot at 0x7f653c749450>"
      ]
     },
     "execution_count": 50,
     "metadata": {},
     "output_type": "execute_result"
    },
    {
     "data": {
      "image/png": "[encoded data removed]",
      "text/plain": [
       "<Figure size 432x288 with 1 Axes>"
      ]
     },
     "metadata": {
      "needs_background": "light"
     },
     "output_type": "display_data"
    }
   ],
   "source": [
    "result_df.plot()"
   ]
  },
  {
   "cell_type": "markdown",
   "metadata": {
    "id": "d2a3lLu9GDMV"
   },
   "source": []
  },
  {
   "cell_type": "markdown",
   "metadata": {
    "id": "l18LVdfeGFO0"
   },
   "source": [
    "Machine Leaning Classification Model Using LSTM RNN"
   ]
  },
  {
   "cell_type": "code",
   "execution_count": null,
   "metadata": {
    "id": "1ez41rvMGMXM"
   },
   "outputs": [],
   "source": [
    "from tensorflow.keras.utils import to_categorical\n",
    "from sklearn.metrics import classification_report"
   ]
  },
  {
   "cell_type": "code",
   "execution_count": null,
   "metadata": {
    "id": "d9ldt98bGT1p"
   },
   "outputs": [],
   "source": [
    "X = bitcoin_df[['volume', 'Reddit positive', 'Reddit negative', 'bitcoin']]\n",
    "y = bitcoin_df['class'].to_frame()"
   ]
  },
  {
   "cell_type": "code",
   "execution_count": null,
   "metadata": {
    "id": "_VIMlCFd_s3G"
   },
   "outputs": [],
   "source": [
    "X = (X - X.mean()) / X.std()"
   ]
  },
  {
   "cell_type": "code",
   "execution_count": null,
   "metadata": {
    "id": "DY1AdeITALh1"
   },
   "outputs": [],
   "source": [
    "X = features(X, list(range(4)), 10)\n",
    "y = target(y, 0, 10)"
   ]
  },
  {
   "cell_type": "code",
   "execution_count": null,
   "metadata": {
    "colab": {
     "base_uri": "https://localhost:8080/"
    },
    "id": "HMRSYq4uDlnz",
    "outputId": "c7d4514e-0384-499f-de41-ef5a9ddd4b85"
   },
   "outputs": [
    {
     "data": {
      "text/plain": [
       "(10, 1440, 4)"
      ]
     },
     "execution_count": 63,
     "metadata": {},
     "output_type": "execute_result"
    }
   ],
   "source": [
    "X.shape"
   ]
  },
  {
   "cell_type": "code",
   "execution_count": null,
   "metadata": {
    "id": "W7j10eFqDoY0"
   },
   "outputs": [],
   "source": [
    "X = X.reshape(1440, 10, 4)"
   ]
  },
  {
   "cell_type": "code",
   "execution_count": null,
   "metadata": {
    "id": "r8iFKA5QG9Bj"
   },
   "outputs": [],
   "source": [
    "tt_split = int(len(X) * 0.8)\n",
    "X_train = X[: tt_split]\n",
    "X_test = X[tt_split :]\n",
    "y_train = y[: tt_split]\n",
    "y_test = y[tt_split :]"
   ]
  },
  {
   "cell_type": "code",
   "execution_count": null,
   "metadata": {
    "id": "GsfJsSX_HDzT"
   },
   "outputs": [],
   "source": [
    "y_train = to_categorical(y_train, num_classes=3)\n",
    "y_test = to_categorical(y_test, num_classes=3)"
   ]
  },
  {
   "cell_type": "code",
   "execution_count": null,
   "metadata": {
    "id": "1yBb53h-HKlh"
   },
   "outputs": [],
   "source": [
    "model = Sequential()\n",
    "neurons = 30\n",
    "model.add(LSTM(units=neurons, return_sequences=True, input_shape=(X.shape[1], 4)))\n",
    "model.add(Dropout(0.2))\n",
    "model.add(LSTM(units=neurons))\n",
    "model.add(Dropout(0.2))\n",
    "model.add(Dense(3, activation='softmax'))"
   ]
  },
  {
   "cell_type": "code",
   "execution_count": null,
   "metadata": {
    "id": "lzIvRzMgHTWM"
   },
   "outputs": [],
   "source": [
    "model.compile(loss='categorical_crossentropy', optimizer='Adam', metrics=['categorical_accuracy'])"
   ]
  },
  {
   "cell_type": "code",
   "execution_count": null,
   "metadata": {
    "colab": {
     "base_uri": "https://localhost:8080/"
    },
    "id": "w8imHvI5HjwU",
    "outputId": "a21c7990-0065-49a2-cc98-f85dd335e72c"
   },
   "outputs": [
    {
     "name": "stdout",
     "output_type": "stream",
     "text": [
      "Model: \"sequential_3\"\n",
      "_________________________________________________________________\n",
      " Layer (type)                Output Shape              Param #   \n",
      "=================================================================\n",
      " lstm_6 (LSTM)               (None, 10, 30)            4200      \n",
      "                                                                 \n",
      " dropout_6 (Dropout)         (None, 10, 30)            0         \n",
      "                                                                 \n",
      " lstm_7 (LSTM)               (None, 30)                7320      \n",
      "                                                                 \n",
      " dropout_7 (Dropout)         (None, 30)                0         \n",
      "                                                                 \n",
      " dense_3 (Dense)             (None, 3)                 93        \n",
      "                                                                 \n",
      "=================================================================\n",
      "Total params: 11,613\n",
      "Trainable params: 11,613\n",
      "Non-trainable params: 0\n",
      "_________________________________________________________________\n"
     ]
    }
   ],
   "source": [
    "model.summary()"
   ]
  },
  {
   "cell_type": "code",
   "execution_count": null,
   "metadata": {
    "id": "0C6x9R52HqiN"
   },
   "outputs": [],
   "source": [
    "stop = EarlyStopping(monitor='categorical_accuracy', mode='min', patience=10, verbose=1)"
   ]
  },
  {
   "cell_type": "code",
   "execution_count": null,
   "metadata": {
    "colab": {
     "base_uri": "https://localhost:8080/"
    },
    "id": "pLmm0YVvHvcC",
    "outputId": "d443dbde-22ca-486f-cce7-177d91d3dfba"
   },
   "outputs": [
    {
     "name": "stdout",
     "output_type": "stream",
     "text": [
      "Epoch 1/100\n",
      "231/231 [==============================] - 5s 9ms/step - loss: 0.3196 - categorical_accuracy: 0.9184\n",
      "Epoch 2/100\n",
      "231/231 [==============================] - 2s 10ms/step - loss: 0.2187 - categorical_accuracy: 0.9575\n",
      "Epoch 3/100\n",
      "231/231 [==============================] - 2s 9ms/step - loss: 0.2137 - categorical_accuracy: 0.9575\n",
      "Epoch 4/100\n",
      "231/231 [==============================] - 2s 9ms/step - loss: 0.2146 - categorical_accuracy: 0.9575\n",
      "Epoch 5/100\n",
      "231/231 [==============================] - 2s 9ms/step - loss: 0.2069 - categorical_accuracy: 0.9575\n",
      "Epoch 6/100\n",
      "231/231 [==============================] - 2s 9ms/step - loss: 0.2063 - categorical_accuracy: 0.9575\n",
      "Epoch 7/100\n",
      "231/231 [==============================] - 2s 9ms/step - loss: 0.2084 - categorical_accuracy: 0.9575\n",
      "Epoch 8/100\n",
      "231/231 [==============================] - 2s 9ms/step - loss: 0.2103 - categorical_accuracy: 0.9575\n",
      "Epoch 9/100\n",
      "231/231 [==============================] - 2s 9ms/step - loss: 0.2077 - categorical_accuracy: 0.9575\n",
      "Epoch 10/100\n",
      "231/231 [==============================] - 2s 9ms/step - loss: 0.2057 - categorical_accuracy: 0.9575\n",
      "Epoch 11/100\n",
      "231/231 [==============================] - 2s 10ms/step - loss: 0.2008 - categorical_accuracy: 0.9575\n",
      "Epoch 00011: early stopping\n"
     ]
    },
    {
     "data": {
      "text/plain": [
       "<keras.callbacks.History at 0x7f6538794ad0>"
      ]
     },
     "execution_count": 71,
     "metadata": {},
     "output_type": "execute_result"
    }
   ],
   "source": [
    "model.fit(X_train, y_train, epochs=100, batch_size=5, verbose=1, shuffle=False, callbacks=[stop])"
   ]
  },
  {
   "cell_type": "code",
   "execution_count": null,
   "metadata": {
    "colab": {
     "base_uri": "https://localhost:8080/"
    },
    "id": "RbHNRZI_IHis",
    "outputId": "bbee40cf-b6ea-4124-ebec-1a12941bed87"
   },
   "outputs": [
    {
     "name": "stdout",
     "output_type": "stream",
     "text": [
      "9/9 [==============================] - 1s 3ms/step - loss: 0.1700 - categorical_accuracy: 0.9653\n"
     ]
    },
    {
     "data": {
      "text/plain": [
       "[0.16998149454593658, 0.9652777910232544]"
      ]
     },
     "execution_count": 72,
     "metadata": {},
     "output_type": "execute_result"
    }
   ],
   "source": [
    "model.evaluate(X_test, y_test)"
   ]
  }
 ],
 "metadata": {
  "accelerator": "GPU",
  "colab": {
   "collapsed_sections": [],
   "name": "ML_Models.ipynb",
   "provenance": []
  },
  "kernelspec": {
   "display_name": "Python 3 (ipykernel)",
   "language": "python",
   "name": "python3"
  },
  "language_info": {
   "codemirror_mode": {
    "name": "ipython",
    "version": 3
   },
   "file_extension": ".py",
   "mimetype": "text/x-python",
   "name": "python",
   "nbconvert_exporter": "python",
   "pygments_lexer": "ipython3",
   "version": "3.8.8"
  }
 },
 "nbformat": 4,
 "nbformat_minor": 4
}
