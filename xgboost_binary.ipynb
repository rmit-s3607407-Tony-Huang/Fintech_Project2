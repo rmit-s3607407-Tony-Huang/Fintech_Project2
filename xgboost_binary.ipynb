{
 "cells": [
  {
   "cell_type": "code",
   "execution_count": 1,
   "id": "e5ac73f3",
   "metadata": {},
   "outputs": [
    {
     "name": "stdout",
     "output_type": "stream",
     "text": [
      "Requirement already satisfied: xgboost in c:\\users\\sator\\anaconda3\\envs\\pyvizenv\\lib\\site-packages (1.5.0)\n",
      "Requirement already satisfied: numpy in c:\\users\\sator\\anaconda3\\envs\\pyvizenv\\lib\\site-packages (from xgboost) (1.21.2)\n",
      "Requirement already satisfied: scipy in c:\\users\\sator\\anaconda3\\envs\\pyvizenv\\lib\\site-packages (from xgboost) (1.6.2)\n"
     ]
    }
   ],
   "source": [
    "! pip install xgboost"
   ]
  },
  {
   "cell_type": "code",
   "execution_count": 2,
   "id": "cd7e04c6",
   "metadata": {},
   "outputs": [
    {
     "name": "stderr",
     "output_type": "stream",
     "text": [
      "\n",
      "Bad key savefig.frameon in file C:\\Users\\sator\\anaconda3\\envs\\pyvizenv\\lib\\site-packages\\matplotlib\\mpl-data\\stylelib\\_classic_test.mplstyle, line 421 ('savefig.frameon : True')\n",
      "You probably need to get an updated matplotlibrc file from\n",
      "https://github.com/matplotlib/matplotlib/blob/v3.3.4/matplotlibrc.template\n",
      "or from the matplotlib source distribution\n",
      "\n",
      "Bad key verbose.level in file C:\\Users\\sator\\anaconda3\\envs\\pyvizenv\\lib\\site-packages\\matplotlib\\mpl-data\\stylelib\\_classic_test.mplstyle, line 472 ('verbose.level  : silent      # one of silent, helpful, debug, debug-annoying')\n",
      "You probably need to get an updated matplotlibrc file from\n",
      "https://github.com/matplotlib/matplotlib/blob/v3.3.4/matplotlibrc.template\n",
      "or from the matplotlib source distribution\n",
      "\n",
      "Bad key verbose.fileo in file C:\\Users\\sator\\anaconda3\\envs\\pyvizenv\\lib\\site-packages\\matplotlib\\mpl-data\\stylelib\\_classic_test.mplstyle, line 473 ('verbose.fileo  : sys.stdout  # a log filename, sys.stdout or sys.stderr')\n",
      "You probably need to get an updated matplotlibrc file from\n",
      "https://github.com/matplotlib/matplotlib/blob/v3.3.4/matplotlibrc.template\n",
      "or from the matplotlib source distribution\n",
      "In C:\\Users\\sator\\anaconda3\\envs\\pyvizenv\\lib\\site-packages\\matplotlib\\mpl-data\\stylelib\\_classic_test.mplstyle: \n",
      "The text.latex.preview rcparam was deprecated in Matplotlib 3.3 and will be removed two minor releases later.\n",
      "In C:\\Users\\sator\\anaconda3\\envs\\pyvizenv\\lib\\site-packages\\matplotlib\\mpl-data\\stylelib\\_classic_test.mplstyle: \n",
      "The mathtext.fallback_to_cm rcparam was deprecated in Matplotlib 3.3 and will be removed two minor releases later.\n",
      "In C:\\Users\\sator\\anaconda3\\envs\\pyvizenv\\lib\\site-packages\\matplotlib\\mpl-data\\stylelib\\_classic_test.mplstyle: Support for setting the 'mathtext.fallback_to_cm' rcParam is deprecated since 3.3 and will be removed two minor releases later; use 'mathtext.fallback : 'cm' instead.\n",
      "In C:\\Users\\sator\\anaconda3\\envs\\pyvizenv\\lib\\site-packages\\matplotlib\\mpl-data\\stylelib\\_classic_test.mplstyle: \n",
      "The validate_bool_maybe_none function was deprecated in Matplotlib 3.3 and will be removed two minor releases later.\n",
      "In C:\\Users\\sator\\anaconda3\\envs\\pyvizenv\\lib\\site-packages\\matplotlib\\mpl-data\\stylelib\\_classic_test.mplstyle: \n",
      "The savefig.jpeg_quality rcparam was deprecated in Matplotlib 3.3 and will be removed two minor releases later.\n",
      "In C:\\Users\\sator\\anaconda3\\envs\\pyvizenv\\lib\\site-packages\\matplotlib\\mpl-data\\stylelib\\_classic_test.mplstyle: \n",
      "The keymap.all_axes rcparam was deprecated in Matplotlib 3.3 and will be removed two minor releases later.\n",
      "In C:\\Users\\sator\\anaconda3\\envs\\pyvizenv\\lib\\site-packages\\matplotlib\\mpl-data\\stylelib\\_classic_test.mplstyle: \n",
      "The animation.avconv_path rcparam was deprecated in Matplotlib 3.3 and will be removed two minor releases later.\n",
      "In C:\\Users\\sator\\anaconda3\\envs\\pyvizenv\\lib\\site-packages\\matplotlib\\mpl-data\\stylelib\\_classic_test.mplstyle: \n",
      "The animation.avconv_args rcparam was deprecated in Matplotlib 3.3 and will be removed two minor releases later.\n"
     ]
    }
   ],
   "source": [
    "import pandas as pd\n",
    "import numpy as np\n",
    "import matplotlib.pyplot as plt\n",
    "import xgboost as xgb\n",
    "from sklearn.model_selection import GridSearchCV\n",
    "from sklearn.model_selection import train_test_split\n",
    "from sklearn.metrics import classification_report\n",
    "%matplotlib inline"
   ]
  },
  {
   "cell_type": "code",
   "execution_count": 3,
   "id": "ea1a483f",
   "metadata": {},
   "outputs": [],
   "source": [
    "combined_df = pd.read_csv('combined_binary_df.csv', index_col='date', infer_datetime_format=True, parse_dates=True)"
   ]
  },
  {
   "cell_type": "code",
   "execution_count": 4,
   "id": "044ca7c5",
   "metadata": {},
   "outputs": [
    {
     "data": {
      "text/html": [
       "<div>\n",
       "<style scoped>\n",
       "    .dataframe tbody tr th:only-of-type {\n",
       "        vertical-align: middle;\n",
       "    }\n",
       "\n",
       "    .dataframe tbody tr th {\n",
       "        vertical-align: top;\n",
       "    }\n",
       "\n",
       "    .dataframe thead th {\n",
       "        text-align: right;\n",
       "    }\n",
       "</style>\n",
       "<table border=\"1\" class=\"dataframe\">\n",
       "  <thead>\n",
       "    <tr style=\"text-align: right;\">\n",
       "      <th></th>\n",
       "      <th>class</th>\n",
       "      <th>volume</th>\n",
       "      <th>google trend</th>\n",
       "      <th>Reddit positive</th>\n",
       "      <th>Reddit negative</th>\n",
       "      <th>Google positive</th>\n",
       "      <th>Google negative</th>\n",
       "      <th>reddit buzzword score</th>\n",
       "      <th>google buzzword score</th>\n",
       "    </tr>\n",
       "    <tr>\n",
       "      <th>date</th>\n",
       "      <th></th>\n",
       "      <th></th>\n",
       "      <th></th>\n",
       "      <th></th>\n",
       "      <th></th>\n",
       "      <th></th>\n",
       "      <th></th>\n",
       "      <th></th>\n",
       "      <th></th>\n",
       "    </tr>\n",
       "  </thead>\n",
       "  <tbody>\n",
       "    <tr>\n",
       "      <th>2017-08-18</th>\n",
       "      <td>1.0</td>\n",
       "      <td>1199.888264</td>\n",
       "      <td>1967</td>\n",
       "      <td>0.132</td>\n",
       "      <td>0.082</td>\n",
       "      <td>0.150</td>\n",
       "      <td>0.000</td>\n",
       "      <td>146.333495</td>\n",
       "      <td>9.736044</td>\n",
       "    </tr>\n",
       "    <tr>\n",
       "      <th>2017-08-19</th>\n",
       "      <td>0.0</td>\n",
       "      <td>381.309763</td>\n",
       "      <td>1844</td>\n",
       "      <td>0.122</td>\n",
       "      <td>0.090</td>\n",
       "      <td>0.059</td>\n",
       "      <td>0.027</td>\n",
       "      <td>187.989746</td>\n",
       "      <td>6.715108</td>\n",
       "    </tr>\n",
       "    <tr>\n",
       "      <th>2017-08-20</th>\n",
       "      <td>0.0</td>\n",
       "      <td>467.083022</td>\n",
       "      <td>1704</td>\n",
       "      <td>0.128</td>\n",
       "      <td>0.109</td>\n",
       "      <td>0.076</td>\n",
       "      <td>0.017</td>\n",
       "      <td>200.210838</td>\n",
       "      <td>7.921181</td>\n",
       "    </tr>\n",
       "    <tr>\n",
       "      <th>2017-08-21</th>\n",
       "      <td>1.0</td>\n",
       "      <td>691.743060</td>\n",
       "      <td>1702</td>\n",
       "      <td>0.129</td>\n",
       "      <td>0.104</td>\n",
       "      <td>0.111</td>\n",
       "      <td>0.076</td>\n",
       "      <td>162.376347</td>\n",
       "      <td>7.465451</td>\n",
       "    </tr>\n",
       "    <tr>\n",
       "      <th>2017-08-22</th>\n",
       "      <td>1.0</td>\n",
       "      <td>966.684858</td>\n",
       "      <td>1893</td>\n",
       "      <td>0.131</td>\n",
       "      <td>0.108</td>\n",
       "      <td>0.065</td>\n",
       "      <td>0.036</td>\n",
       "      <td>164.760500</td>\n",
       "      <td>8.167459</td>\n",
       "    </tr>\n",
       "  </tbody>\n",
       "</table>\n",
       "</div>"
      ],
      "text/plain": [
       "            class       volume  google trend  Reddit positive  \\\n",
       "date                                                            \n",
       "2017-08-18    1.0  1199.888264          1967            0.132   \n",
       "2017-08-19    0.0   381.309763          1844            0.122   \n",
       "2017-08-20    0.0   467.083022          1704            0.128   \n",
       "2017-08-21    1.0   691.743060          1702            0.129   \n",
       "2017-08-22    1.0   966.684858          1893            0.131   \n",
       "\n",
       "            Reddit negative  Google positive  Google negative  \\\n",
       "date                                                            \n",
       "2017-08-18            0.082            0.150            0.000   \n",
       "2017-08-19            0.090            0.059            0.027   \n",
       "2017-08-20            0.109            0.076            0.017   \n",
       "2017-08-21            0.104            0.111            0.076   \n",
       "2017-08-22            0.108            0.065            0.036   \n",
       "\n",
       "            reddit buzzword score  google buzzword score  \n",
       "date                                                      \n",
       "2017-08-18             146.333495               9.736044  \n",
       "2017-08-19             187.989746               6.715108  \n",
       "2017-08-20             200.210838               7.921181  \n",
       "2017-08-21             162.376347               7.465451  \n",
       "2017-08-22             164.760500               8.167459  "
      ]
     },
     "execution_count": 4,
     "metadata": {},
     "output_type": "execute_result"
    }
   ],
   "source": [
    "combined_df.head()"
   ]
  },
  {
   "cell_type": "code",
   "execution_count": 5,
   "id": "7cb1bdf2",
   "metadata": {},
   "outputs": [],
   "source": [
    "X = combined_df.drop(columns = 'class')\n",
    "y = combined_df['class']"
   ]
  },
  {
   "cell_type": "code",
   "execution_count": 6,
   "id": "992b7da0",
   "metadata": {},
   "outputs": [],
   "source": [
    "X_train, X_test, y_train, y_test = train_test_split(X, y, test_size=0.2, random_state=1)"
   ]
  },
  {
   "cell_type": "code",
   "execution_count": 7,
   "id": "e863aaed",
   "metadata": {},
   "outputs": [],
   "source": [
    "# define model\n",
    "model = xgb.XGBClassifier()"
   ]
  },
  {
   "cell_type": "code",
   "execution_count": 8,
   "id": "c12bb00d",
   "metadata": {},
   "outputs": [],
   "source": [
    "# set parameters to compare\n",
    "search_params = {'eta': [0.01, 0.03, 0.05, 0.1, 0.3],\n",
    "             'min_child_weight': [1, 2, 4, 6, 8, 16, 32],\n",
    "             'max_depth': [4, 5, 6, 7, 8],\n",
    "             'colsample_bytree': [0.1, 0.2, 0.3, 0.4, 0.5],\n",
    "             'subsample': [0.1, 0.2, 0.3, 0.4, 0.5, 0.8, 1.0],\n",
    "             'objective':['binary:logistic']   \n",
    "             }"
   ]
  },
  {
   "cell_type": "code",
   "execution_count": 9,
   "id": "320282da",
   "metadata": {},
   "outputs": [],
   "source": [
    "gsx = GridSearchCV(\n",
    "    model,\n",
    "    search_params,\n",
    "    cv = 3,\n",
    "    n_jobs = -1,\n",
    "    verbose=True)"
   ]
  },
  {
   "cell_type": "code",
   "execution_count": 10,
   "id": "afff9d2f",
   "metadata": {},
   "outputs": [
    {
     "name": "stdout",
     "output_type": "stream",
     "text": [
      "Fitting 3 folds for each of 6125 candidates, totalling 18375 fits\n",
      "[20:20:09] WARNING: C:/Users/Administrator/workspace/xgboost-win64_release_1.5.0/src/learner.cc:1115: Starting in XGBoost 1.3.0, the default evaluation metric used with the objective 'binary:logistic' was changed from 'error' to 'logloss'. Explicitly set eval_metric if you'd like to restore the old behavior.\n"
     ]
    },
    {
     "name": "stderr",
     "output_type": "stream",
     "text": [
      "C:\\Users\\sator\\anaconda3\\envs\\pyvizenv\\lib\\site-packages\\xgboost\\sklearn.py:1224: UserWarning: The use of label encoder in XGBClassifier is deprecated and will be removed in a future release. To remove this warning, do the following: 1) Pass option use_label_encoder=False when constructing XGBClassifier object; and 2) Encode your labels (y) as integers starting with 0, i.e. 0, 1, 2, ..., [num_class - 1].\n",
      "  warnings.warn(label_encoder_deprecation_msg, UserWarning)\n"
     ]
    },
    {
     "data": {
      "text/plain": [
       "GridSearchCV(cv=3,\n",
       "             estimator=XGBClassifier(base_score=None, booster=None,\n",
       "                                     colsample_bylevel=None,\n",
       "                                     colsample_bynode=None,\n",
       "                                     colsample_bytree=None,\n",
       "                                     enable_categorical=False, gamma=None,\n",
       "                                     gpu_id=None, importance_type=None,\n",
       "                                     interaction_constraints=None,\n",
       "                                     learning_rate=None, max_delta_step=None,\n",
       "                                     max_depth=None, min_child_weight=None,\n",
       "                                     missing=nan, monotone_constraints=None,...\n",
       "                                     reg_lambda=None, scale_pos_weight=None,\n",
       "                                     subsample=None, tree_method=None,\n",
       "                                     validate_parameters=None, verbosity=None),\n",
       "             n_jobs=-1,\n",
       "             param_grid={'colsample_bytree': [0.1, 0.2, 0.3, 0.4, 0.5],\n",
       "                         'eta': [0.01, 0.03, 0.05, 0.1, 0.3],\n",
       "                         'max_depth': [4, 5, 6, 7, 8],\n",
       "                         'min_child_weight': [1, 2, 4, 6, 8, 16, 32],\n",
       "                         'objective': ['binary:logistic'],\n",
       "                         'subsample': [0.1, 0.2, 0.3, 0.4, 0.5, 0.8, 1.0]},\n",
       "             verbose=True)"
      ]
     },
     "execution_count": 10,
     "metadata": {},
     "output_type": "execute_result"
    }
   ],
   "source": [
    "gsx.fit(X_train, y_train)"
   ]
  },
  {
   "cell_type": "code",
   "execution_count": 11,
   "id": "1cfd12c5",
   "metadata": {},
   "outputs": [
    {
     "data": {
      "text/plain": [
       "XGBClassifier(base_score=0.5, booster='gbtree', colsample_bylevel=1,\n",
       "              colsample_bynode=1, colsample_bytree=0.4,\n",
       "              enable_categorical=False, eta=0.01, gamma=0, gpu_id=-1,\n",
       "              importance_type=None, interaction_constraints='',\n",
       "              learning_rate=0.00999999978, max_delta_step=0, max_depth=8,\n",
       "              min_child_weight=16, missing=nan, monotone_constraints='()',\n",
       "              n_estimators=100, n_jobs=16, num_parallel_tree=1,\n",
       "              predictor='auto', random_state=0, reg_alpha=0, reg_lambda=1,\n",
       "              scale_pos_weight=1, subsample=1.0, tree_method='exact',\n",
       "              validate_parameters=1, verbosity=None)"
      ]
     },
     "execution_count": 11,
     "metadata": {},
     "output_type": "execute_result"
    }
   ],
   "source": [
    "gsx.best_estimator_"
   ]
  },
  {
   "cell_type": "code",
   "execution_count": 12,
   "id": "a4ed3fcd",
   "metadata": {},
   "outputs": [
    {
     "name": "stdout",
     "output_type": "stream",
     "text": [
      "0.49 accuracy\n"
     ]
    }
   ],
   "source": [
    "score = gsx.best_estimator_.score(X_test, y_test)\n",
    "print(\"%0.2f accuracy\" % (score))"
   ]
  },
  {
   "cell_type": "code",
   "execution_count": 13,
   "id": "1b973f63",
   "metadata": {},
   "outputs": [],
   "source": [
    "predicted = gsx.best_estimator_.predict(X_test)"
   ]
  },
  {
   "cell_type": "code",
   "execution_count": 14,
   "id": "7bbc7045",
   "metadata": {},
   "outputs": [
    {
     "data": {
      "text/plain": [
       "'              precision    recall  f1-score   support\\n\\n         0.0       0.40      0.27      0.33       132\\n         1.0       0.52      0.66      0.58       158\\n\\n    accuracy                           0.49       290\\n   macro avg       0.46      0.47      0.46       290\\nweighted avg       0.47      0.49      0.47       290\\n'"
      ]
     },
     "execution_count": 14,
     "metadata": {},
     "output_type": "execute_result"
    }
   ],
   "source": [
    "classification_report(y_test, predicted)"
   ]
  },
  {
   "cell_type": "code",
   "execution_count": 15,
   "id": "91f378ee",
   "metadata": {},
   "outputs": [
    {
     "data": {
      "text/plain": [
       "[(0.14136812, 'volume'),\n",
       " (0.13970453, 'google buzzword score'),\n",
       " (0.13766928, 'google trend'),\n",
       " (0.13188893, 'Google positive'),\n",
       " (0.12403023, 'Reddit negative'),\n",
       " (0.11797203, 'Google negative'),\n",
       " (0.1096372, 'reddit buzzword score'),\n",
       " (0.09772968, 'Reddit positive')]"
      ]
     },
     "execution_count": 15,
     "metadata": {},
     "output_type": "execute_result"
    }
   ],
   "source": [
    "sorted(zip(gsx.best_estimator_.feature_importances_, X.columns), reverse=True)"
   ]
  },
  {
   "cell_type": "code",
   "execution_count": 16,
   "id": "ea822a09",
   "metadata": {},
   "outputs": [
    {
     "data": {
      "text/plain": [
       "<AxesSubplot:title={'center':'Features Importances'}, ylabel='1'>"
      ]
     },
     "execution_count": 16,
     "metadata": {},
     "output_type": "execute_result"
    },
    {
     "data": {
      "image/png": "[encoded data removed]",
      "text/plain": [
       "<Figure size 432x288 with 1 Axes>"
      ]
     },
     "metadata": {
      "needs_background": "light"
     },
     "output_type": "display_data"
    }
   ],
   "source": [
    "# Visualize the features by importance\n",
    "importances_df = pd.DataFrame(sorted(zip(gsx.best_estimator_.feature_importances_, X.columns), reverse=True))\n",
    "importances_df.set_index(importances_df[1], inplace=True)\n",
    "importances_df.drop(columns=1, inplace=True)\n",
    "importances_df.rename(columns={0: 'Feature Importances'}, inplace=True)\n",
    "importances_sorted = importances_df.sort_values(by='Feature Importances')\n",
    "importances_sorted.plot(kind='barh', color='lightgreen', title= 'Features Importances', legend=False)"
   ]
  }
 ],
 "metadata": {
  "kernelspec": {
   "display_name": "Python [conda env:pyvizenv] *",
   "language": "python",
   "name": "conda-env-pyvizenv-py"
  },
  "language_info": {
   "codemirror_mode": {
    "name": "ipython",
    "version": 3
   },
   "file_extension": ".py",
   "mimetype": "text/x-python",
   "name": "python",
   "nbconvert_exporter": "python",
   "pygments_lexer": "ipython3",
   "version": "3.7.10"
  }
 },
 "nbformat": 4,
 "nbformat_minor": 5
}
