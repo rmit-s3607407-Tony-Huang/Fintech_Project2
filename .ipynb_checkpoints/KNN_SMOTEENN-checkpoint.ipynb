{
 "cells": [
  {
   "cell_type": "code",
   "execution_count": 59,
   "id": "67563501",
   "metadata": {},
   "outputs": [],
   "source": [
    "import pandas as pd\n",
    "import numpy as np\n",
    "import matplotlib.pyplot as plt\n",
    "from sklearn.neighbors import KNeighborsClassifier\n",
    "from sklearn.model_selection import train_test_split\n",
    "from sklearn.preprocessing import StandardScaler\n",
    "from sklearn.model_selection import GridSearchCV\n",
    "from sklearn.metrics import classification_report\n",
    "from collections import Counter\n",
    "%matplotlib inline"
   ]
  },
  {
   "cell_type": "code",
   "execution_count": 45,
   "id": "1afe0324",
   "metadata": {},
   "outputs": [],
   "source": [
    "combined_df = pd.read_csv('combined_df.csv', index_col='date', infer_datetime_format=True, parse_dates=True)"
   ]
  },
  {
   "cell_type": "code",
   "execution_count": 46,
   "id": "ffceb32e",
   "metadata": {},
   "outputs": [],
   "source": [
    "X = combined_df.drop(columns = 'class')\n",
    "y = combined_df['class']"
   ]
  },
  {
   "cell_type": "code",
   "execution_count": 47,
   "id": "ac747638",
   "metadata": {},
   "outputs": [
    {
     "data": {
      "text/plain": [
       " 0    1391\n",
       " 1      36\n",
       "-1      23\n",
       "Name: class, dtype: int64"
      ]
     },
     "execution_count": 47,
     "metadata": {},
     "output_type": "execute_result"
    }
   ],
   "source": [
    "# check class balance\n",
    "y.value_counts()"
   ]
  },
  {
   "cell_type": "code",
   "execution_count": 48,
   "id": "5f9baeac",
   "metadata": {},
   "outputs": [],
   "source": [
    "X_train, X_test, y_train, y_test = train_test_split(X, y, test_size=0.2, random_state=1)"
   ]
  },
  {
   "cell_type": "code",
   "execution_count": 50,
   "id": "174c7fec",
   "metadata": {},
   "outputs": [],
   "source": [
    "# standardize X values\n",
    "scaler = StandardScaler()\n",
    "scaler.fit(X_train)\n",
    "X_train = scaler.transform(X_train)\n",
    "X_test = scaler.transform(X_test)"
   ]
  },
  {
   "cell_type": "code",
   "execution_count": 51,
   "id": "715afded",
   "metadata": {},
   "outputs": [
    {
     "data": {
      "text/plain": [
       "Counter({-1: 1110, 0: 847, 1: 1100})"
      ]
     },
     "execution_count": 51,
     "metadata": {},
     "output_type": "execute_result"
    }
   ],
   "source": [
    "# resample the training data with SMOTEENN\n",
    "from imblearn.combine import SMOTEENN\n",
    "X_resampled, y_resampled = SMOTEENN(random_state=1).fit_resample(X_train, y_train)\n",
    "# view the count of target classes with Counter\n",
    "Counter(y_resampled)"
   ]
  },
  {
   "cell_type": "code",
   "execution_count": 52,
   "id": "ee5e8afc",
   "metadata": {},
   "outputs": [
    {
     "data": {
      "text/plain": [
       "array([[-1.31758137,  0.64633172, -3.2136348 , ..., -0.54841146,\n",
       "        -3.03746369,  0.35899676],\n",
       "       [-0.40243347,  0.24265921,  0.31523476, ...,  0.62397447,\n",
       "         0.65873401,  0.2072905 ],\n",
       "       [ 2.1433701 , -0.01924736,  0.42381536, ...,  1.52050488,\n",
       "         0.3786822 ,  0.31978455],\n",
       "       ...,\n",
       "       [-1.23225976, -1.71754032,  0.21675949, ..., -0.93652152,\n",
       "         0.52632034, -0.03167695],\n",
       "       [-0.94277964,  0.97365259, -3.2136348 , ...,  0.05431306,\n",
       "        -3.03746369, -0.91992313],\n",
       "       [-0.10788386, -0.09923109, -2.42838457, ...,  2.55055268,\n",
       "        -2.20544442, -0.13572614]])"
      ]
     },
     "execution_count": 52,
     "metadata": {},
     "output_type": "execute_result"
    }
   ],
   "source": [
    "X_resampled"
   ]
  },
  {
   "cell_type": "code",
   "execution_count": 53,
   "id": "c54f9d32",
   "metadata": {},
   "outputs": [],
   "source": [
    "model = KNeighborsClassifier()"
   ]
  },
  {
   "cell_type": "code",
   "execution_count": 54,
   "id": "a20364f1",
   "metadata": {},
   "outputs": [],
   "source": [
    "# list hyperparameters to tune.\n",
    "search_params = {'leaf_size': list(range(1,50))\n",
    "                'n_neighbors': list(range(1,30))\n",
    "                'p':[1,2]\n",
    "               }"
   ]
  },
  {
   "cell_type": "code",
   "execution_count": 55,
   "id": "96aee77b",
   "metadata": {},
   "outputs": [],
   "source": [
    "# use gridsearch\n",
    "clf = GridSearchCV(model, search_params, cv=10)"
   ]
  },
  {
   "cell_type": "code",
   "execution_count": 56,
   "id": "e109d586",
   "metadata": {},
   "outputs": [
    {
     "data": {
      "text/plain": [
       "GridSearchCV(cv=10, estimator=KNeighborsClassifier(),\n",
       "             param_grid={'leaf_size': [1, 2, 3, 4, 5, 6, 7, 8, 9, 10, 11, 12,\n",
       "                                       13, 14, 15, 16, 17, 18, 19, 20, 21, 22,\n",
       "                                       23, 24, 25, 26, 27, 28, 29, 30, ...],\n",
       "                         'n_neighbors': [1, 2, 3, 4, 5, 6, 7, 8, 9, 10, 11, 12,\n",
       "                                         13, 14, 15, 16, 17, 18, 19, 20, 21, 22,\n",
       "                                         23, 24, 25, 26, 27, 28, 29],\n",
       "                         'p': [1, 2]})"
      ]
     },
     "execution_count": 56,
     "metadata": {},
     "output_type": "execute_result"
    }
   ],
   "source": [
    "clf.fit(X_resampled, y_resampled)"
   ]
  },
  {
   "cell_type": "code",
   "execution_count": 57,
   "id": "aa5a117b",
   "metadata": {},
   "outputs": [
    {
     "data": {
      "text/plain": [
       "KNeighborsClassifier(leaf_size=1, n_neighbors=1)"
      ]
     },
     "execution_count": 57,
     "metadata": {},
     "output_type": "execute_result"
    }
   ],
   "source": [
    "clf.best_estimator_"
   ]
  },
  {
   "cell_type": "code",
   "execution_count": 58,
   "id": "51e25610",
   "metadata": {},
   "outputs": [
    {
     "name": "stdout",
     "output_type": "stream",
     "text": [
      "0.80 accuracy\n"
     ]
    }
   ],
   "source": [
    "score = clf.best_estimator_.score(X_test, y_test)\n",
    "print(\"%0.2f accuracy\" % (score))"
   ]
  },
  {
   "cell_type": "code",
   "execution_count": 60,
   "id": "ef63364c",
   "metadata": {},
   "outputs": [],
   "source": [
    "predicted = clf.best_estimator_.predict(X_test)"
   ]
  },
  {
   "cell_type": "code",
   "execution_count": 61,
   "id": "5d895feb",
   "metadata": {},
   "outputs": [
    {
     "data": {
      "text/plain": [
       "'              precision    recall  f1-score   support\\n\\n          -1       0.08      0.40      0.13         5\\n           0       0.97      0.82      0.89       277\\n           1       0.07      0.25      0.11         8\\n\\n    accuracy                           0.80       290\\n   macro avg       0.37      0.49      0.38       290\\nweighted avg       0.93      0.80      0.86       290\\n'"
      ]
     },
     "execution_count": 61,
     "metadata": {},
     "output_type": "execute_result"
    }
   ],
   "source": [
    "classification_report(y_test, predicted)"
   ]
  },
  {
   "cell_type": "code",
   "execution_count": null,
   "id": "febeaadc",
   "metadata": {},
   "outputs": [],
   "source": []
  }
 ],
 "metadata": {
  "kernelspec": {
   "display_name": "Python [conda env:pyvizenv] *",
   "language": "python",
   "name": "conda-env-pyvizenv-py"
  },
  "language_info": {
   "codemirror_mode": {
    "name": "ipython",
    "version": 3
   },
   "file_extension": ".py",
   "mimetype": "text/x-python",
   "name": "python",
   "nbconvert_exporter": "python",
   "pygments_lexer": "ipython3",
   "version": "3.7.10"
  }
 },
 "nbformat": 4,
 "nbformat_minor": 5
}
