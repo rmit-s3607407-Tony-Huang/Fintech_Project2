{
 "cells": [
  {
   "cell_type": "code",
   "execution_count": null,
   "id": "46a15d4f",
   "metadata": {},
   "outputs": [
    {
     "name": "stderr",
     "output_type": "stream",
     "text": [
      "\n",
      "Bad key savefig.frameon in file C:\\Users\\sator\\anaconda3\\envs\\pyvizenv\\lib\\site-packages\\matplotlib\\mpl-data\\stylelib\\_classic_test.mplstyle, line 421 ('savefig.frameon : True')\n",
      "You probably need to get an updated matplotlibrc file from\n",
      "https://github.com/matplotlib/matplotlib/blob/v3.3.4/matplotlibrc.template\n",
      "or from the matplotlib source distribution\n",
      "\n",
      "Bad key verbose.level in file C:\\Users\\sator\\anaconda3\\envs\\pyvizenv\\lib\\site-packages\\matplotlib\\mpl-data\\stylelib\\_classic_test.mplstyle, line 472 ('verbose.level  : silent      # one of silent, helpful, debug, debug-annoying')\n",
      "You probably need to get an updated matplotlibrc file from\n",
      "https://github.com/matplotlib/matplotlib/blob/v3.3.4/matplotlibrc.template\n",
      "or from the matplotlib source distribution\n",
      "\n",
      "Bad key verbose.fileo in file C:\\Users\\sator\\anaconda3\\envs\\pyvizenv\\lib\\site-packages\\matplotlib\\mpl-data\\stylelib\\_classic_test.mplstyle, line 473 ('verbose.fileo  : sys.stdout  # a log filename, sys.stdout or sys.stderr')\n",
      "You probably need to get an updated matplotlibrc file from\n",
      "https://github.com/matplotlib/matplotlib/blob/v3.3.4/matplotlibrc.template\n",
      "or from the matplotlib source distribution\n",
      "In C:\\Users\\sator\\anaconda3\\envs\\pyvizenv\\lib\\site-packages\\matplotlib\\mpl-data\\stylelib\\_classic_test.mplstyle: \n",
      "The text.latex.preview rcparam was deprecated in Matplotlib 3.3 and will be removed two minor releases later.\n",
      "In C:\\Users\\sator\\anaconda3\\envs\\pyvizenv\\lib\\site-packages\\matplotlib\\mpl-data\\stylelib\\_classic_test.mplstyle: \n",
      "The mathtext.fallback_to_cm rcparam was deprecated in Matplotlib 3.3 and will be removed two minor releases later.\n",
      "In C:\\Users\\sator\\anaconda3\\envs\\pyvizenv\\lib\\site-packages\\matplotlib\\mpl-data\\stylelib\\_classic_test.mplstyle: Support for setting the 'mathtext.fallback_to_cm' rcParam is deprecated since 3.3 and will be removed two minor releases later; use 'mathtext.fallback : 'cm' instead.\n",
      "In C:\\Users\\sator\\anaconda3\\envs\\pyvizenv\\lib\\site-packages\\matplotlib\\mpl-data\\stylelib\\_classic_test.mplstyle: \n",
      "The validate_bool_maybe_none function was deprecated in Matplotlib 3.3 and will be removed two minor releases later.\n",
      "In C:\\Users\\sator\\anaconda3\\envs\\pyvizenv\\lib\\site-packages\\matplotlib\\mpl-data\\stylelib\\_classic_test.mplstyle: \n",
      "The savefig.jpeg_quality rcparam was deprecated in Matplotlib 3.3 and will be removed two minor releases later.\n",
      "In C:\\Users\\sator\\anaconda3\\envs\\pyvizenv\\lib\\site-packages\\matplotlib\\mpl-data\\stylelib\\_classic_test.mplstyle: \n",
      "The keymap.all_axes rcparam was deprecated in Matplotlib 3.3 and will be removed two minor releases later.\n",
      "In C:\\Users\\sator\\anaconda3\\envs\\pyvizenv\\lib\\site-packages\\matplotlib\\mpl-data\\stylelib\\_classic_test.mplstyle: \n",
      "The animation.avconv_path rcparam was deprecated in Matplotlib 3.3 and will be removed two minor releases later.\n",
      "In C:\\Users\\sator\\anaconda3\\envs\\pyvizenv\\lib\\site-packages\\matplotlib\\mpl-data\\stylelib\\_classic_test.mplstyle: \n",
      "The animation.avconv_args rcparam was deprecated in Matplotlib 3.3 and will be removed two minor releases later.\n"
     ]
    }
   ],
   "source": [
    "import pandas as pd\n",
    "import numpy as np\n",
    "import matplotlib.pyplot as plt\n",
    "from tensorflow.keras import Sequential\n",
    "from tensorflow.keras.layers import LSTM, Dense, Dropout\n",
    "from tensorflow.keras.callbacks import EarlyStopping\n",
    "from tensorflow.keras.utils import to_categorical\n",
    "from sklearn.metrics import classification_report\n",
    "%matplotlib inline"
   ]
  },
  {
   "cell_type": "code",
   "execution_count": null,
   "id": "96a1f232",
   "metadata": {},
   "outputs": [],
   "source": [
    "combined_df = pd.read_csv('combined_binary_df.csv', index_col='date', infer_datetime_format=True, parse_dates=True)"
   ]
  },
  {
   "cell_type": "code",
   "execution_count": 70,
   "id": "051cb44a",
   "metadata": {},
   "outputs": [],
   "source": [
    "X = combined_df.drop(columns = 'class')\n",
    "y = combined_df['class'].to_frame()\n",
    "# standardize X values\n",
    "X = (X - X.mean())/X.std()"
   ]
  },
  {
   "cell_type": "code",
   "execution_count": 71,
   "id": "ff2a5f2f",
   "metadata": {},
   "outputs": [],
   "source": [
    "# define functions to change dataframe to array\n",
    "def target(df, column, steps):\n",
    "    target = []\n",
    "    for i in range(len(df) - steps):\n",
    "        t = df.iloc[i + steps - 1, column]\n",
    "        target.append(t)\n",
    "    return np.array(target).reshape(-1, 1)\n",
    "\n",
    "def features(df, columns, steps):\n",
    "    features = []\n",
    "    for c in range(len(columns)):\n",
    "        feature = []\n",
    "        for i in range(len(df) - steps):\n",
    "            f = list(df.iloc[i : i + steps, columns[c]])\n",
    "            feature.append(f)\n",
    "        features.append(feature)\n",
    "    return np.array(features).T"
   ]
  },
  {
   "cell_type": "code",
   "execution_count": 72,
   "id": "3f2c3057",
   "metadata": {},
   "outputs": [],
   "source": [
    "X = features(X, list(range(8)), 10)\n",
    "y = target(y, 0, 10)"
   ]
  },
  {
   "cell_type": "code",
   "execution_count": 73,
   "id": "d7c2a011",
   "metadata": {},
   "outputs": [
    {
     "data": {
      "text/plain": [
       "(10, 1440, 8)"
      ]
     },
     "execution_count": 73,
     "metadata": {},
     "output_type": "execute_result"
    }
   ],
   "source": [
    "X.shape"
   ]
  },
  {
   "cell_type": "code",
   "execution_count": 74,
   "id": "349c545e",
   "metadata": {},
   "outputs": [
    {
     "data": {
      "text/plain": [
       "(1440, 1)"
      ]
     },
     "execution_count": 74,
     "metadata": {},
     "output_type": "execute_result"
    }
   ],
   "source": [
    "y.shape"
   ]
  },
  {
   "cell_type": "code",
   "execution_count": 75,
   "id": "b827e2bd",
   "metadata": {},
   "outputs": [],
   "source": [
    "X = X.reshape(1440, 10, 8)"
   ]
  },
  {
   "cell_type": "code",
   "execution_count": 76,
   "id": "d12bee2e",
   "metadata": {},
   "outputs": [],
   "source": [
    "tt_split = int(len(X) * 0.8)\n",
    "X_train = X[: tt_split]\n",
    "X_test = X[tt_split :]\n",
    "y_train = y[: tt_split]\n",
    "y_test = y[tt_split :]"
   ]
  },
  {
   "cell_type": "code",
   "execution_count": 77,
   "id": "8520d65a",
   "metadata": {},
   "outputs": [],
   "source": [
    "# one-hot-encode y values\n",
    "y_train = to_categorical(y_train, num_classes=2)\n",
    "y_test = to_categorical(y_test, num_classes=2)"
   ]
  },
  {
   "cell_type": "code",
   "execution_count": 78,
   "id": "255ca8da",
   "metadata": {},
   "outputs": [],
   "source": [
    "model = Sequential()\n",
    "neurons = 30\n",
    "model.add(LSTM(units=neurons, return_sequences=True, input_shape=(X.shape[1], 8)))\n",
    "model.add(Dropout(0.2))\n",
    "model.add(LSTM(units=neurons))\n",
    "model.add(Dropout(0.2))\n",
    "model.add(Dense(2, activation='sigmoid'))"
   ]
  },
  {
   "cell_type": "code",
   "execution_count": 79,
   "id": "d4bd2955",
   "metadata": {},
   "outputs": [],
   "source": [
    "model.compile(loss='binary_crossentropy', optimizer='adam', metrics=['accuracy'])"
   ]
  },
  {
   "cell_type": "code",
   "execution_count": 80,
   "id": "a008954f",
   "metadata": {},
   "outputs": [
    {
     "name": "stdout",
     "output_type": "stream",
     "text": [
      "Model: \"sequential_4\"\n",
      "_________________________________________________________________\n",
      " Layer (type)                Output Shape              Param #   \n",
      "=================================================================\n",
      " lstm_8 (LSTM)               (None, 10, 30)            4680      \n",
      "                                                                 \n",
      " dropout_8 (Dropout)         (None, 10, 30)            0         \n",
      "                                                                 \n",
      " lstm_9 (LSTM)               (None, 30)                7320      \n",
      "                                                                 \n",
      " dropout_9 (Dropout)         (None, 30)                0         \n",
      "                                                                 \n",
      " dense_4 (Dense)             (None, 2)                 62        \n",
      "                                                                 \n",
      "=================================================================\n",
      "Total params: 12,062\n",
      "Trainable params: 12,062\n",
      "Non-trainable params: 0\n",
      "_________________________________________________________________\n"
     ]
    }
   ],
   "source": [
    "model.summary()"
   ]
  },
  {
   "cell_type": "code",
   "execution_count": 83,
   "id": "784eb292",
   "metadata": {},
   "outputs": [],
   "source": [
    "# define earliystopping\n",
    "stop = EarlyStopping(monitor='accuracy', mode='min', patience=10, verbose=1)"
   ]
  },
  {
   "cell_type": "code",
   "execution_count": 84,
   "id": "2f33683f",
   "metadata": {},
   "outputs": [
    {
     "name": "stdout",
     "output_type": "stream",
     "text": [
      "Epoch 1/100\n",
      "231/231 [==============================] - 1s 4ms/step - loss: 0.6425 - accuracy: 0.6181\n",
      "Epoch 2/100\n",
      "231/231 [==============================] - 1s 4ms/step - loss: 0.6310 - accuracy: 0.6380\n",
      "Epoch 3/100\n",
      "231/231 [==============================] - 1s 4ms/step - loss: 0.6244 - accuracy: 0.6337\n",
      "Epoch 4/100\n",
      "231/231 [==============================] - 1s 4ms/step - loss: 0.6195 - accuracy: 0.6510\n",
      "Epoch 5/100\n",
      "231/231 [==============================] - 1s 4ms/step - loss: 0.6111 - accuracy: 0.6476\n",
      "Epoch 6/100\n",
      "231/231 [==============================] - 1s 4ms/step - loss: 0.6100 - accuracy: 0.6580\n",
      "Epoch 7/100\n",
      "231/231 [==============================] - 1s 4ms/step - loss: 0.6019 - accuracy: 0.6632\n",
      "Epoch 8/100\n",
      "231/231 [==============================] - 1s 5ms/step - loss: 0.5871 - accuracy: 0.6814\n",
      "Epoch 9/100\n",
      "231/231 [==============================] - 1s 4ms/step - loss: 0.5843 - accuracy: 0.6658\n",
      "Epoch 10/100\n",
      "231/231 [==============================] - 1s 5ms/step - loss: 0.5640 - accuracy: 0.6997\n",
      "Epoch 11/100\n",
      "231/231 [==============================] - 1s 4ms/step - loss: 0.5646 - accuracy: 0.6988\n",
      "Epoch 00011: early stopping\n"
     ]
    },
    {
     "data": {
      "text/plain": [
       "<keras.callbacks.History at 0x1b77d697488>"
      ]
     },
     "execution_count": 84,
     "metadata": {},
     "output_type": "execute_result"
    }
   ],
   "source": [
    "model.fit(X_train, y_train, epochs=100, batch_size=5, verbose=1, shuffle=False, callbacks=[stop])"
   ]
  },
  {
   "cell_type": "code",
   "execution_count": 85,
   "id": "6b6f0a61",
   "metadata": {},
   "outputs": [
    {
     "name": "stdout",
     "output_type": "stream",
     "text": [
      "9/9 [==============================] - 1s 2ms/step - loss: 0.8481 - accuracy: 0.5104\n",
      "0.51 accuracy\n"
     ]
    }
   ],
   "source": [
    "score = model.evaluate(X_test, y_test)[1]\n",
    "print(\"%0.2f accuracy\" % (score))"
   ]
  },
  {
   "cell_type": "code",
   "execution_count": null,
   "id": "b7a803cf",
   "metadata": {},
   "outputs": [],
   "source": []
  }
 ],
 "metadata": {
  "kernelspec": {
   "display_name": "Python [conda env:pyvizenv] *",
   "language": "python",
   "name": "conda-env-pyvizenv-py"
  },
  "language_info": {
   "codemirror_mode": {
    "name": "ipython",
    "version": 3
   },
   "file_extension": ".py",
   "mimetype": "text/x-python",
   "name": "python",
   "nbconvert_exporter": "python",
   "pygments_lexer": "ipython3",
   "version": "3.7.10"
  }
 },
 "nbformat": 4,
 "nbformat_minor": 5
}
