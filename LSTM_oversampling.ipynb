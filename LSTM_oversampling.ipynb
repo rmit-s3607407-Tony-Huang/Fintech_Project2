{
 "cells": [
  {
   "cell_type": "code",
   "execution_count": 420,
   "id": "2034ede0",
   "metadata": {},
   "outputs": [],
   "source": [
    "import pandas as pd\n",
    "import numpy as np\n",
    "import matplotlib.pyplot as plt\n",
    "from tensorflow.keras import Sequential\n",
    "from tensorflow.keras.layers import LSTM, Dense, Dropout\n",
    "from tensorflow.keras.callbacks import EarlyStopping\n",
    "from tensorflow.keras.utils import to_categorical\n",
    "from sklearn.model_selection import train_test_split\n",
    "from sklearn.metrics import classification_report\n",
    "%matplotlib inline"
   ]
  },
  {
   "cell_type": "code",
   "execution_count": 421,
   "id": "62066ba1",
   "metadata": {},
   "outputs": [],
   "source": [
    "combined_df = pd.read_csv('combined_df.csv', index_col='date', infer_datetime_format=True, parse_dates=True)"
   ]
  },
  {
   "cell_type": "code",
   "execution_count": 422,
   "id": "00e57d5d",
   "metadata": {},
   "outputs": [],
   "source": [
    "X = combined_df.drop(columns = 'class')\n",
    "y = combined_df['class'].to_frame()\n",
    "\n",
    "# standardize X values\n",
    "X = (X - X.mean())/X.std()"
   ]
  },
  {
   "cell_type": "code",
   "execution_count": 423,
   "id": "da3704f5",
   "metadata": {},
   "outputs": [
    {
     "data": {
      "text/plain": [
       "class\n",
       " 0       1391\n",
       " 1         36\n",
       "-1         23\n",
       "dtype: int64"
      ]
     },
     "execution_count": 423,
     "metadata": {},
     "output_type": "execute_result"
    }
   ],
   "source": [
    "# check the class balance of data\n",
    "y.value_counts()"
   ]
  },
  {
   "cell_type": "code",
   "execution_count": 424,
   "id": "999a9476",
   "metadata": {},
   "outputs": [],
   "source": [
    "# define function to chunk the features data up with a rolling window of n days\n",
    "# returns dataframe\n",
    "def features(df, columns, steps):\n",
    "    features = pd.DataFrame()\n",
    "    for c in range(len(columns)):\n",
    "        feature = []\n",
    "        temp = dict()\n",
    "        for i in range(len(df) - steps):\n",
    "            f = df.iloc[i : i + steps, columns[c]].values\n",
    "            feature.append(f)\n",
    "        temp.update({df.columns[c]:feature})\n",
    "        features = pd.concat([features, pd.DataFrame(temp)], axis=1)\n",
    "    return features"
   ]
  },
  {
   "cell_type": "code",
   "execution_count": 425,
   "id": "19a97849",
   "metadata": {},
   "outputs": [],
   "source": [
    "X = features(X, list(range(8)), 10)"
   ]
  },
  {
   "cell_type": "code",
   "execution_count": 426,
   "id": "64c05ba9",
   "metadata": {},
   "outputs": [],
   "source": [
    "X.columns = combined_df.columns[1:]"
   ]
  },
  {
   "cell_type": "code",
   "execution_count": 427,
   "id": "bbb26fe8",
   "metadata": {},
   "outputs": [],
   "source": [
    "# define function to chunk the target data up with a rolling window of n days\n",
    "# returns array\n",
    "def target(df, column, steps):\n",
    "    target = []\n",
    "    for i in range(len(df) - steps):\n",
    "        t = df.iloc[i + steps, column]\n",
    "        target.append(t)\n",
    "    return np.array(target).reshape(-1, 1)"
   ]
  },
  {
   "cell_type": "code",
   "execution_count": 428,
   "id": "26ab8277",
   "metadata": {},
   "outputs": [],
   "source": [
    "y = target(combined_df, 0, 10)"
   ]
  },
  {
   "cell_type": "code",
   "execution_count": 429,
   "id": "7dc62796",
   "metadata": {},
   "outputs": [],
   "source": [
    "# split training and test data\n",
    "X_train, X_test, y_train, y_test = train_test_split(X, y)"
   ]
  },
  {
   "cell_type": "code",
   "execution_count": 394,
   "id": "3de8ae2c",
   "metadata": {},
   "outputs": [
    {
     "data": {
      "text/html": [
       "<div>\n",
       "<style scoped>\n",
       "    .dataframe tbody tr th:only-of-type {\n",
       "        vertical-align: middle;\n",
       "    }\n",
       "\n",
       "    .dataframe tbody tr th {\n",
       "        vertical-align: top;\n",
       "    }\n",
       "\n",
       "    .dataframe thead th {\n",
       "        text-align: right;\n",
       "    }\n",
       "</style>\n",
       "<table border=\"1\" class=\"dataframe\">\n",
       "  <thead>\n",
       "    <tr style=\"text-align: right;\">\n",
       "      <th></th>\n",
       "      <th>volume</th>\n",
       "      <th>google trend</th>\n",
       "      <th>Reddit positive</th>\n",
       "      <th>Reddit negative</th>\n",
       "      <th>Google positive</th>\n",
       "      <th>Google negative</th>\n",
       "      <th>reddit buzzword score</th>\n",
       "      <th>google buzzword score</th>\n",
       "    </tr>\n",
       "  </thead>\n",
       "  <tbody>\n",
       "    <tr>\n",
       "      <th>1041</th>\n",
       "      <td>[0.28631886907554177, 0.13430486270149553, -0....</td>\n",
       "      <td>[0.7842117901993176, 0.7268151129980124, 0.999...</td>\n",
       "      <td>[0.12644754475407072, 0.4336114708624002, 0.68...</td>\n",
       "      <td>[-0.15289189318320845, 0.08370708773000805, -0...</td>\n",
       "      <td>[0.07968865790303666, -1.1749101907331594, -0....</td>\n",
       "      <td>[1.0924479725525673, 0.4417032883617931, -1.37...</td>\n",
       "      <td>[-0.03395561704335166, 0.23559295792508458, 0....</td>\n",
       "      <td>[-0.8811116254867974, 0.10052123742994877, 0.3...</td>\n",
       "    </tr>\n",
       "    <tr>\n",
       "      <th>547</th>\n",
       "      <td>[-0.8261373974593625, -0.6639459584818282, 0.3...</td>\n",
       "      <td>[-0.2728436815913889, -0.2561029840743415, 0.9...</td>\n",
       "      <td>[0.4615354641449756, 0.880395363383606, 0.8803...</td>\n",
       "      <td>[0.04427392424447197, -0.19232505666874453, -0...</td>\n",
       "      <td>[-0.23396105425601255, 0.3306084276302756, -1....</td>\n",
       "      <td>[0.8526999310085978, -0.24329111604954787, -1....</td>\n",
       "      <td>[-0.08436079252274047, 0.567672850743787, 0.56...</td>\n",
       "      <td>[-0.3522010386682803, -0.49387351728038265, -0...</td>\n",
       "    </tr>\n",
       "    <tr>\n",
       "      <th>410</th>\n",
       "      <td>[-0.5962650856500092, -0.5908052636763478, -0....</td>\n",
       "      <td>[1.2075122845589445, 1.269692018193692, 1.2433...</td>\n",
       "      <td>[0.3777634842972494, -0.152792388071683, -0.18...</td>\n",
       "      <td>[0.320306068643224, 0.7146377034985848, 0.2414...</td>\n",
       "      <td>[-0.6417056800627761, -1.6453847589717328, -0....</td>\n",
       "      <td>[0.7842004905674635, 2.1884390196107133, -0.03...</td>\n",
       "      <td>[0.16015163195422163, 0.14479491958549134, -0....</td>\n",
       "      <td>[0.498463488464835, -0.6317680631294965, 0.897...</td>\n",
       "    </tr>\n",
       "    <tr>\n",
       "      <th>1096</th>\n",
       "      <td>[0.6664179299762324, 0.6138834291436025, -0.12...</td>\n",
       "      <td>[0.4852707631091857, 0.066753325183001, -0.198...</td>\n",
       "      <td>[-0.09694440150653219, 0.23814351788437235, 0....</td>\n",
       "      <td>[0.7146377034985848, -0.46835720106749656, 0.3...</td>\n",
       "      <td>[-0.3907859103355367, -1.551289845324018, 1.14...</td>\n",
       "      <td>[0.5102027288029273, 0.6129518894646285, -0.38...</td>\n",
       "      <td>[0.37129683962521237, 0.7452023362243423, 0.62...</td>\n",
       "      <td>[0.9089988487096816, 1.302533511521078, 1.4964...</td>\n",
       "    </tr>\n",
       "    <tr>\n",
       "      <th>649</th>\n",
       "      <td>[-0.4470288446735289, 0.5195974867128577, -0.1...</td>\n",
       "      <td>[0.22698571570331172, 0.46135548094197515, 0.8...</td>\n",
       "      <td>[0.6011554305578519, 0.6011554305578519, 0.517...</td>\n",
       "      <td>[-0.5472235280385688, -0.5472235280385688, 0.2...</td>\n",
       "      <td>[2.243871671800474, 1.5224773338346618, -0.233...</td>\n",
       "      <td>[-1.6817793653133644, -0.894035800240322, 1.70...</td>\n",
       "      <td>[0.18955503447983632, 0.18955503447983632, 0.0...</td>\n",
       "      <td>[-1.8211872280106602, 1.1621203438299716, 1.33...</td>\n",
       "    </tr>\n",
       "  </tbody>\n",
       "</table>\n",
       "</div>"
      ],
      "text/plain": [
       "                                                 volume  \\\n",
       "1041  [0.28631886907554177, 0.13430486270149553, -0....   \n",
       "547   [-0.8261373974593625, -0.6639459584818282, 0.3...   \n",
       "410   [-0.5962650856500092, -0.5908052636763478, -0....   \n",
       "1096  [0.6664179299762324, 0.6138834291436025, -0.12...   \n",
       "649   [-0.4470288446735289, 0.5195974867128577, -0.1...   \n",
       "\n",
       "                                           google trend  \\\n",
       "1041  [0.7842117901993176, 0.7268151129980124, 0.999...   \n",
       "547   [-0.2728436815913889, -0.2561029840743415, 0.9...   \n",
       "410   [1.2075122845589445, 1.269692018193692, 1.2433...   \n",
       "1096  [0.4852707631091857, 0.066753325183001, -0.198...   \n",
       "649   [0.22698571570331172, 0.46135548094197515, 0.8...   \n",
       "\n",
       "                                        Reddit positive  \\\n",
       "1041  [0.12644754475407072, 0.4336114708624002, 0.68...   \n",
       "547   [0.4615354641449756, 0.880395363383606, 0.8803...   \n",
       "410   [0.3777634842972494, -0.152792388071683, -0.18...   \n",
       "1096  [-0.09694440150653219, 0.23814351788437235, 0....   \n",
       "649   [0.6011554305578519, 0.6011554305578519, 0.517...   \n",
       "\n",
       "                                        Reddit negative  \\\n",
       "1041  [-0.15289189318320845, 0.08370708773000805, -0...   \n",
       "547   [0.04427392424447197, -0.19232505666874453, -0...   \n",
       "410   [0.320306068643224, 0.7146377034985848, 0.2414...   \n",
       "1096  [0.7146377034985848, -0.46835720106749656, 0.3...   \n",
       "649   [-0.5472235280385688, -0.5472235280385688, 0.2...   \n",
       "\n",
       "                                        Google positive  \\\n",
       "1041  [0.07968865790303666, -1.1749101907331594, -0....   \n",
       "547   [-0.23396105425601255, 0.3306084276302756, -1....   \n",
       "410   [-0.6417056800627761, -1.6453847589717328, -0....   \n",
       "1096  [-0.3907859103355367, -1.551289845324018, 1.14...   \n",
       "649   [2.243871671800474, 1.5224773338346618, -0.233...   \n",
       "\n",
       "                                        Google negative  \\\n",
       "1041  [1.0924479725525673, 0.4417032883617931, -1.37...   \n",
       "547   [0.8526999310085978, -0.24329111604954787, -1....   \n",
       "410   [0.7842004905674635, 2.1884390196107133, -0.03...   \n",
       "1096  [0.5102027288029273, 0.6129518894646285, -0.38...   \n",
       "649   [-1.6817793653133644, -0.894035800240322, 1.70...   \n",
       "\n",
       "                                  reddit buzzword score  \\\n",
       "1041  [-0.03395561704335166, 0.23559295792508458, 0....   \n",
       "547   [-0.08436079252274047, 0.567672850743787, 0.56...   \n",
       "410   [0.16015163195422163, 0.14479491958549134, -0....   \n",
       "1096  [0.37129683962521237, 0.7452023362243423, 0.62...   \n",
       "649   [0.18955503447983632, 0.18955503447983632, 0.0...   \n",
       "\n",
       "                                  google buzzword score  \n",
       "1041  [-0.8811116254867974, 0.10052123742994877, 0.3...  \n",
       "547   [-0.3522010386682803, -0.49387351728038265, -0...  \n",
       "410   [0.498463488464835, -0.6317680631294965, 0.897...  \n",
       "1096  [0.9089988487096816, 1.302533511521078, 1.4964...  \n",
       "649   [-1.8211872280106602, 1.1621203438299716, 1.33...  "
      ]
     },
     "execution_count": 394,
     "metadata": {},
     "output_type": "execute_result"
    }
   ],
   "source": [
    "X_train.head()"
   ]
  },
  {
   "cell_type": "code",
   "execution_count": 395,
   "id": "2334eed9",
   "metadata": {},
   "outputs": [
    {
     "data": {
      "text/plain": [
       "array([[0],\n",
       "       [0],\n",
       "       [0],\n",
       "       ...,\n",
       "       [0],\n",
       "       [0],\n",
       "       [0]], dtype=int64)"
      ]
     },
     "execution_count": 395,
     "metadata": {},
     "output_type": "execute_result"
    }
   ],
   "source": [
    "y_train"
   ]
  },
  {
   "cell_type": "code",
   "execution_count": 396,
   "id": "19da7d52",
   "metadata": {},
   "outputs": [
    {
     "data": {
      "text/plain": [
       "Counter({0: 1038, -1: 1038, 1: 1038})"
      ]
     },
     "execution_count": 396,
     "metadata": {},
     "output_type": "execute_result"
    }
   ],
   "source": [
    "# resample the training data with the RandomOversampler\n",
    "from imblearn.over_sampling import RandomOverSampler\n",
    "from collections import Counter\n",
    "X_resampled, y_resampled = RandomOverSampler(random_state=1).fit_resample(X_train, y_train)\n",
    "\n",
    "# View the count of target classes with Counter\n",
    "Counter(y_resampled)"
   ]
  },
  {
   "cell_type": "code",
   "execution_count": 397,
   "id": "7eacc036",
   "metadata": {},
   "outputs": [],
   "source": [
    "# define function to change the features dataframe to array\n",
    "def re_features(df, columns):\n",
    "    re_features = []\n",
    "    for c in range(len(df.columns)):\n",
    "        re_feature = []\n",
    "        for i in range(len(df)):\n",
    "            f = df.iloc[i, columns[c]]\n",
    "            re_feature.append(f)\n",
    "        re_features.append(re_feature)\n",
    "    return np.array(re_features).T"
   ]
  },
  {
   "cell_type": "code",
   "execution_count": 398,
   "id": "deba5fa9",
   "metadata": {},
   "outputs": [],
   "source": [
    "X_resampled = re_features(X_resampled, list(range(8)))"
   ]
  },
  {
   "cell_type": "code",
   "execution_count": 399,
   "id": "79a1181f",
   "metadata": {},
   "outputs": [
    {
     "data": {
      "text/plain": [
       "(10, 3114, 8)"
      ]
     },
     "execution_count": 399,
     "metadata": {},
     "output_type": "execute_result"
    }
   ],
   "source": [
    "X_resampled.shape"
   ]
  },
  {
   "cell_type": "code",
   "execution_count": 401,
   "id": "e848533c",
   "metadata": {},
   "outputs": [],
   "source": [
    "# reshape the training features array to feed to a LSTM model\n",
    "X_resampled = X_resampled.reshape(3114, 10, 8)"
   ]
  },
  {
   "cell_type": "code",
   "execution_count": 402,
   "id": "b3d76b01",
   "metadata": {},
   "outputs": [],
   "source": [
    "X_test = re_features(X_test, list(range(8)))"
   ]
  },
  {
   "cell_type": "code",
   "execution_count": 403,
   "id": "9da04534",
   "metadata": {},
   "outputs": [
    {
     "data": {
      "text/plain": [
       "(10, 360, 8)"
      ]
     },
     "execution_count": 403,
     "metadata": {},
     "output_type": "execute_result"
    }
   ],
   "source": [
    "X_test.shape"
   ]
  },
  {
   "cell_type": "code",
   "execution_count": 404,
   "id": "84a87ff2",
   "metadata": {},
   "outputs": [],
   "source": [
    "# reshape the test features array to feed to a LSTM mode\n",
    "X_test = X_test.reshape(360, 10, 8)"
   ]
  },
  {
   "cell_type": "code",
   "execution_count": 405,
   "id": "ab587a7e",
   "metadata": {},
   "outputs": [
    {
     "data": {
      "text/plain": [
       "(3114,)"
      ]
     },
     "execution_count": 405,
     "metadata": {},
     "output_type": "execute_result"
    }
   ],
   "source": [
    "y_resampled.shape"
   ]
  },
  {
   "cell_type": "code",
   "execution_count": 406,
   "id": "1a2ca8ab",
   "metadata": {},
   "outputs": [],
   "source": [
    "# reshape the training target array\n",
    "y_resampled = y_resampled.reshape(-1, 1)"
   ]
  },
  {
   "cell_type": "code",
   "execution_count": 407,
   "id": "ed67048a",
   "metadata": {},
   "outputs": [],
   "source": [
    "# one-hot-encode y values to feed to a LSTM model\n",
    "y_resampled = to_categorical(y_resampled, num_classes=3)\n",
    "y_test = to_categorical(y_test, num_classes=3)"
   ]
  },
  {
   "cell_type": "code",
   "execution_count": 408,
   "id": "743187ff",
   "metadata": {},
   "outputs": [
    {
     "data": {
      "text/plain": [
       "(3114, 3)"
      ]
     },
     "execution_count": 408,
     "metadata": {},
     "output_type": "execute_result"
    }
   ],
   "source": [
    "y_resampled.shape"
   ]
  },
  {
   "cell_type": "code",
   "execution_count": 409,
   "id": "2eea3a52",
   "metadata": {},
   "outputs": [
    {
     "data": {
      "text/plain": [
       "(360, 3)"
      ]
     },
     "execution_count": 409,
     "metadata": {},
     "output_type": "execute_result"
    }
   ],
   "source": [
    "y_test.shape"
   ]
  },
  {
   "cell_type": "code",
   "execution_count": 410,
   "id": "826f6775",
   "metadata": {},
   "outputs": [],
   "source": [
    "# construct a LSTM model\n",
    "model = Sequential()\n",
    "neurons = 30\n",
    "model.add(LSTM(units=neurons, return_sequences=True, input_shape=(X_resampled.shape[1], 8)))\n",
    "model.add(Dropout(0.2))\n",
    "model.add(LSTM(units=neurons))\n",
    "model.add(Dropout(0.2))\n",
    "model.add(Dense(3, activation='softmax'))"
   ]
  },
  {
   "cell_type": "code",
   "execution_count": 411,
   "id": "76c7323f",
   "metadata": {},
   "outputs": [],
   "source": [
    "# compile the model\n",
    "model.compile(loss='categorical_crossentropy', optimizer='Adam', metrics=['categorical_accuracy'])"
   ]
  },
  {
   "cell_type": "code",
   "execution_count": 412,
   "id": "db76b333",
   "metadata": {},
   "outputs": [
    {
     "name": "stdout",
     "output_type": "stream",
     "text": [
      "Model: \"sequential_8\"\n",
      "_________________________________________________________________\n",
      " Layer (type)                Output Shape              Param #   \n",
      "=================================================================\n",
      " lstm_16 (LSTM)              (None, 10, 30)            4680      \n",
      "                                                                 \n",
      " dropout_16 (Dropout)        (None, 10, 30)            0         \n",
      "                                                                 \n",
      " lstm_17 (LSTM)              (None, 30)                7320      \n",
      "                                                                 \n",
      " dropout_17 (Dropout)        (None, 30)                0         \n",
      "                                                                 \n",
      " dense_8 (Dense)             (None, 3)                 93        \n",
      "                                                                 \n",
      "=================================================================\n",
      "Total params: 12,093\n",
      "Trainable params: 12,093\n",
      "Non-trainable params: 0\n",
      "_________________________________________________________________\n"
     ]
    }
   ],
   "source": [
    "model.summary()"
   ]
  },
  {
   "cell_type": "code",
   "execution_count": 413,
   "id": "4715e5e0",
   "metadata": {},
   "outputs": [],
   "source": [
    "# define earliystopping\n",
    "stop = EarlyStopping(monitor='categorical_accuracy', mode='min', patience=10, verbose=1)"
   ]
  },
  {
   "cell_type": "code",
   "execution_count": 414,
   "id": "87ca3ebf",
   "metadata": {},
   "outputs": [
    {
     "name": "stdout",
     "output_type": "stream",
     "text": [
      "Epoch 1/100\n",
      "623/623 [==============================] - 5s 4ms/step - loss: 0.3460 - categorical_accuracy: 0.9162\n",
      "Epoch 2/100\n",
      "623/623 [==============================] - 3s 4ms/step - loss: 0.6111 - categorical_accuracy: 0.8301\n",
      "Epoch 3/100\n",
      "623/623 [==============================] - 3s 4ms/step - loss: 0.4839 - categorical_accuracy: 0.8587\n",
      "Epoch 4/100\n",
      "623/623 [==============================] - 3s 4ms/step - loss: 0.3588 - categorical_accuracy: 0.9181\n",
      "Epoch 5/100\n",
      "623/623 [==============================] - 3s 4ms/step - loss: 0.3117 - categorical_accuracy: 0.9249\n",
      "Epoch 6/100\n",
      "623/623 [==============================] - 3s 4ms/step - loss: 0.2968 - categorical_accuracy: 0.9265\n",
      "Epoch 7/100\n",
      "623/623 [==============================] - 3s 4ms/step - loss: 0.5851 - categorical_accuracy: 0.8256\n",
      "Epoch 8/100\n",
      "623/623 [==============================] - 3s 4ms/step - loss: 0.4080 - categorical_accuracy: 0.8854\n",
      "Epoch 9/100\n",
      "623/623 [==============================] - 3s 4ms/step - loss: 0.3294 - categorical_accuracy: 0.9175\n",
      "Epoch 10/100\n",
      "623/623 [==============================] - 3s 4ms/step - loss: 0.3162 - categorical_accuracy: 0.9226\n",
      "Epoch 11/100\n",
      "623/623 [==============================] - 3s 4ms/step - loss: 0.5055 - categorical_accuracy: 0.8523\n",
      "Epoch 12/100\n",
      "623/623 [==============================] - 3s 4ms/step - loss: 0.3779 - categorical_accuracy: 0.8988\n",
      "Epoch 13/100\n",
      "623/623 [==============================] - 3s 4ms/step - loss: 0.4049 - categorical_accuracy: 0.8940\n",
      "Epoch 14/100\n",
      "623/623 [==============================] - 3s 4ms/step - loss: 0.2777 - categorical_accuracy: 0.9326\n",
      "Epoch 15/100\n",
      "623/623 [==============================] - 3s 4ms/step - loss: 0.2480 - categorical_accuracy: 0.9406\n",
      "Epoch 16/100\n",
      "623/623 [==============================] - 3s 4ms/step - loss: 0.3590 - categorical_accuracy: 0.9069\n",
      "Epoch 17/100\n",
      "623/623 [==============================] - 3s 4ms/step - loss: 0.4089 - categorical_accuracy: 0.8963\n",
      "Epoch 00017: early stopping\n"
     ]
    },
    {
     "data": {
      "text/plain": [
       "<keras.callbacks.History at 0x1c386622f88>"
      ]
     },
     "execution_count": 414,
     "metadata": {},
     "output_type": "execute_result"
    }
   ],
   "source": [
    "# train the model\n",
    "model.fit(X_resampled, y_resampled, epochs=100, batch_size=5, verbose=1, shuffle=False, callbacks=[stop])"
   ]
  },
  {
   "cell_type": "code",
   "execution_count": 415,
   "id": "3c9c6978",
   "metadata": {},
   "outputs": [
    {
     "name": "stdout",
     "output_type": "stream",
     "text": [
      "12/12 [==============================] - 1s 2ms/step - loss: 5.0712 - categorical_accuracy: 0.0361\n",
      "0.04 accuracy\n"
     ]
    }
   ],
   "source": [
    "score = model.evaluate(X_test, y_test)[1]\n",
    "print(\"%0.2f accuracy\" % (score))"
   ]
  },
  {
   "cell_type": "code",
   "execution_count": null,
   "id": "b717a89c",
   "metadata": {},
   "outputs": [],
   "source": []
  },
  {
   "cell_type": "code",
   "execution_count": null,
   "id": "af0b7fa7",
   "metadata": {},
   "outputs": [],
   "source": []
  }
 ],
 "metadata": {
  "kernelspec": {
   "display_name": "Python [conda env:pyvizenv] *",
   "language": "python",
   "name": "conda-env-pyvizenv-py"
  },
  "language_info": {
   "codemirror_mode": {
    "name": "ipython",
    "version": 3
   },
   "file_extension": ".py",
   "mimetype": "text/x-python",
   "name": "python",
   "nbconvert_exporter": "python",
   "pygments_lexer": "ipython3",
   "version": "3.7.10"
  }
 },
 "nbformat": 4,
 "nbformat_minor": 5
}
